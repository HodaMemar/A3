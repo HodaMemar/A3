{
  "cells": [
    {
      "cell_type": "markdown",
      "metadata": {
        "id": "view-in-github",
        "colab_type": "text"
      },
      "source": [
        "<a href=\"https://colab.research.google.com/github/HodaMemar/A3/blob/main/NER.ipynb\" target=\"_parent\"><img src=\"https://colab.research.google.com/assets/colab-badge.svg\" alt=\"Open In Colab\"/></a>"
      ]
    },
    {
      "cell_type": "code",
      "execution_count": null,
      "metadata": {
        "id": "TS9mzK0ub5lx"
      },
      "outputs": [],
      "source": [
        "from google.colab import drive\n",
        "drive.mount('/content/drive')"
      ]
    },
    {
      "cell_type": "code",
      "execution_count": null,
      "metadata": {
        "id": "xb7WZXOWGGbO"
      },
      "outputs": [],
      "source": [
        "!pip install -U spacy\n",
        "!pip install -U scispacy"
      ]
    },
    {
      "cell_type": "code",
      "execution_count": null,
      "metadata": {
        "id": "mIu7ja4XJek8"
      },
      "outputs": [],
      "source": [
        "!pip install spacy-transformers"
      ]
    },
    {
      "cell_type": "code",
      "execution_count": null,
      "metadata": {
        "id": "aYwRmGf-hy8A"
      },
      "outputs": [],
      "source": [
        "!pip install negspacy"
      ]
    },
    {
      "cell_type": "code",
      "execution_count": null,
      "metadata": {
        "id": "kfVFnqRQRX3b"
      },
      "outputs": [],
      "source": [
        "!pip install https://s3-us-west-2.amazonaws.com/ai2-s2-scispacy/releases/v0.5.0/en_ner_bc5cdr_md-0.5.0.tar.gz\n",
        " #https://s3-us-west-2.amazonaws.com/ai2-s2-scispacy/releases/v0.2.4/en_core_sci_sm-0.2.4.tar.gz\n",
        " #https://s3-us-west-2.amazonaws.com/ai2-s2-scispacy/releases/v0.5.0/en_ner_bc5cdr_md-0.5.0.tar.gz\n",
        "\n"
      ]
    },
    {
      "cell_type": "markdown",
      "metadata": {
        "id": "MRM8Bti74fBw"
      },
      "source": [
        "#Reset Runtime"
      ]
    },
    {
      "cell_type": "markdown",
      "metadata": {
        "id": "-JC0lD4nNGkl"
      },
      "source": [
        "#load text"
      ]
    },
    {
      "cell_type": "code",
      "execution_count": null,
      "metadata": {
        "id": "fEsaUt1JcPAW"
      },
      "outputs": [],
      "source": [
        "cd /content/drive/MyDrive/PaperA3/Section\n"
      ]
    },
    {
      "cell_type": "code",
      "execution_count": null,
      "metadata": {
        "id": "Lpdg6R1np-02"
      },
      "outputs": [],
      "source": [
        "import re\n",
        "\n",
        "import scispacy\n",
        "import spacy\n",
        "\n",
        "from negspacy.negation import Negex\n",
        "from negspacy.termsets import termset  \n",
        "from scispacy.linking import EntityLinker\n",
        "import pandas as pd\n",
        "\n",
        "nlp = spacy.load(\"en_ner_bc5cdr_md\")\n",
        "\n",
        "#\n",
        "ts = termset(\"en_clinical\")\n",
        "nlp.add_pipe(\"negex\", config={\"neg_termset\": ts.get_patterns()})\n",
        "nlp.add_pipe(\"scispacy_linker\", config={\"linker_name\": \"umls\", \"max_entities_per_mention\": 1})\n",
        "\n",
        "linker = nlp.get_pipe(\"scispacy_linker\")\n",
        "nlp.pipe_names"
      ]
    },
    {
      "cell_type": "code",
      "execution_count": null,
      "metadata": {
        "id": "CytqrmQx3wCR"
      },
      "outputs": [],
      "source": [
        "def nlp_Entity(x):\n",
        "      doc=nlp(x)\n",
        "      entity = doc\n",
        "      return entity"
      ]
    },
    {
      "cell_type": "code",
      "execution_count": null,
      "metadata": {
        "id": "5rMvwDreDy2p"
      },
      "outputs": [],
      "source": [
        "def process_clinical_Notes (data,section):\n",
        "#doc = nlp(\"Patient has  prostate cancer with metastatic disease to his bladder.\")\n",
        "#fmt_str = \"{:<20}| {:<10}| {:<32}| {:<20}\"\n",
        "#print(fmt_str.format(\"Entity\", \"1st CUI\", \"Canonical Name\", \"Definition\"))\n",
        "    list_Cui=[]\n",
        "    list_Exception=[]\n",
        "    c=len(data)\n",
        "\n",
        "    fmt_str = \"{:<15}| {:<6}| {:<7}| {:<8}\"\n",
        "    print(fmt_str.format(\"token\", \"pos\", \"label\", \"parent\"))\n",
        "\n",
        "    for i in range(len(data)):\n",
        "            text= str(data.iloc[i]['body_span_Wothout_line'])\n",
        "            HADM_ID\t=data.iloc[i]['HADM_ID']\n",
        "            title_span=data.iloc[i]['title_span']\n",
        "            category_Inner=\tdata.iloc[i]['category_Inner']\n",
        "            CATEGORY=\tdata.iloc[i]['CATEGORY']\n",
        "            DRG_CODE=\tdata.iloc[i]['DRG_CODE']\n",
        "            GENDER=\tdata.iloc[i]['GENDER']\n",
        "            AGE=\tdata.iloc[i]['AGE']\n",
        "            CHARTDATE=\tdata.iloc[i]['CHARTDATE']\n",
        "            TAA=\tdata.iloc[i]['TAA']\n",
        "\n",
        "            doc = nlp(text)\n",
        "            print(c-i)\n",
        "            \n",
        "            print(\"\\n\")\n",
        "            for entity in doc.ents:\n",
        "                if(len(entity._.kb_ents)>0):\n",
        "                    first_cuid = entity._.kb_ents[0][0]\n",
        "                    kb_entry = linker.kb.cui_to_entity[first_cuid]\n",
        "                    list_Cui.append([HADM_ID,title_span,category_Inner,entity._.negex,entity.text, first_cuid, kb_entry.canonical_name,entity.label_,CATEGORY,DRG_CODE,\n",
        "                                     GENDER,AGE,CHARTDATE,TAA])\n",
        "                else:\n",
        "                    list_Exception.append([HADM_ID,title_span,category_Inner,entity.text])\n",
        "                    continue   \n",
        "\n",
        "\n",
        "\n",
        "    df_cui=pd.DataFrame(list_Cui,columns=['HADM_ID','title_span','category_Inner','negex','entity_text', 'first_cuid', 'canonical_name','label',\n",
        "                                          'CATEGORY','DRG_CODE',\n",
        "                                     'GENDER','AGE','CHARTDATE','TAA']) \n",
        "    #df_Exception=pd.DataFrame(list_Exception,columns=['HADM_ID','title_span','category_Inner','entity_text']) \n",
        "    \n",
        "    filename=\"/content/drive/MyDrive/PaperA3/CUI_\"+\"_\"+str(section)+\".csv\"\n",
        "    #filename_exeption=\"/content/drive/MyDrive/PaperA3/CUI_Exeption_\"+str(chunk_index)+\".csv\" \n",
        "\n",
        "    df_cui.to_csv(filename)\n",
        "    #df_Exception.to_csv(filename_exeption)"
      ]
    },
    {
      "cell_type": "code",
      "execution_count": null,
      "metadata": {
        "id": "hXATPm52cxoZ"
      },
      "outputs": [],
      "source": [
        "      %%time\n",
        "import pandas as pd\n",
        "\n",
        "for section in (13,14) :\n",
        "\n",
        "    filename=\"/content/drive/MyDrive/PaperA3/Section/section_\"+str(section)+\".csv\"\n",
        "    print(filename)\n",
        "    df=pd.read_csv(filename)\n",
        "    process_clinical_Notes(df,section)\n",
        "\n",
        "#data = pd.read_csv('/content/drive/MyDrive/PaperA3/Notes_DRG_Valid.csv', error_bad_lines=False)\n"
      ]
    }
  ],
  "metadata": {
    "colab": {
      "collapsed_sections": [],
      "name": "NER.ipynb",
      "private_outputs": true,
      "provenance": [],
      "authorship_tag": "ABX9TyNODh5/XBwjlcEjIgV/uyNZ",
      "include_colab_link": true
    },
    "kernelspec": {
      "display_name": "Python 3",
      "name": "python3"
    },
    "language_info": {
      "name": "python"
    }
  },
  "nbformat": 4,
  "nbformat_minor": 0
}