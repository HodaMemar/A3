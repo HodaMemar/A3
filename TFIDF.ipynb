{
  "nbformat": 4,
  "nbformat_minor": 0,
  "metadata": {
    "colab": {
      "name": "TFIDF.ipynb",
      "provenance": [],
      "authorship_tag": "ABX9TyPldB5TwdOk0RPQ235gGR5U",
      "include_colab_link": true
    },
    "kernelspec": {
      "name": "python3",
      "display_name": "Python 3"
    },
    "language_info": {
      "name": "python"
    }
  },
  "cells": [
    {
      "cell_type": "markdown",
      "metadata": {
        "id": "view-in-github",
        "colab_type": "text"
      },
      "source": [
        "<a href=\"https://colab.research.google.com/github/HodaMemar/A3/blob/main/TFIDF.ipynb\" target=\"_parent\"><img src=\"https://colab.research.google.com/assets/colab-badge.svg\" alt=\"Open In Colab\"/></a>"
      ]
    },
    {
      "cell_type": "code",
      "execution_count": 1,
      "metadata": {
        "colab": {
          "base_uri": "https://localhost:8080/"
        },
        "id": "ZhVX9Ng7bU-X",
        "outputId": "a7bfa261-be49-42ac-fc69-2c0c7473c1d5"
      },
      "outputs": [
        {
          "output_type": "stream",
          "name": "stdout",
          "text": [
            "Mounted at /content/drive\n"
          ]
        }
      ],
      "source": [
        "from google.colab import drive\n",
        "drive.mount('/content/drive')"
      ]
    },
    {
      "cell_type": "code",
      "source": [
        "import pandas as pd\n",
        "import numpy as np\n",
        "import matplotlib.pyplot as plt\n",
        "from os.path import exists"
      ],
      "metadata": {
        "id": "e7VVLVZ_chgt"
      },
      "execution_count": 2,
      "outputs": []
    },
    {
      "cell_type": "code",
      "source": [
        "from sklearn.feature_extraction.text import TfidfVectorizer, CountVectorizer\n",
        "from sklearn.preprocessing import normalize"
      ],
      "metadata": {
        "id": "kwvOtKNhebh0"
      },
      "execution_count": 5,
      "outputs": []
    },
    {
      "cell_type": "code",
      "source": [
        "df =pd.read_csv('/content/drive/MyDrive/PaperA3/corpus_BOC.csv')\n",
        "df.drop('Unnamed: 0', axis=1, inplace=True)\n",
        "df.dropna()"
      ],
      "metadata": {
        "colab": {
          "base_uri": "https://localhost:8080/",
          "height": 424
        },
        "id": "TumAIa7JeGzM",
        "outputId": "e8e952a3-a333-4061-ad31-2a6476d61130"
      },
      "execution_count": 78,
      "outputs": [
        {
          "output_type": "execute_result",
          "data": {
            "text/plain": [
              "        label                                               term     len  \\\n",
              "0      157267  Pressure Ulcer,Abdominal tenderness,Ankle edem...   947.0   \n",
              "1      123103  Edema,Mitral Valve Insufficiency,Lung Volume M...   527.0   \n",
              "2      139931  Sore to touch,Transverse colon,Communicable Di...   750.0   \n",
              "3      198295  Lactates,GEN1 gene,Hypoventilation,Edema,Shock...   827.0   \n",
              "4      177962  Hyperlipidemia,Left Ventricular Function,Non-S...   686.0   \n",
              "...       ...                                                ...     ...   \n",
              "24547  168505  Liver Failure, Acute,Sore to touch,Communicabl...  1110.0   \n",
              "24548  109316  Clubbed Fingers,Heart murmur,Edema,Tachypnea,A...   581.0   \n",
              "24549  123505  Hyperlipidemia,Left Ventricular Function,Simpl...  1088.0   \n",
              "24550  101422  Simple,Edema,Shadow,Dyslipidemias,Diabetes Mel...   615.0   \n",
              "24551  110075  Sore to touch,Kyphosis deformity of spine,Simp...  1285.0   \n",
              "\n",
              "                                               list_CUIs  number_CUIs  \n",
              "0      ['Pressure Ulcer', 'Abdominal tenderness', 'An...         61.0  \n",
              "1      ['Edema', 'Mitral Valve Insufficiency', 'Lung ...         28.0  \n",
              "2      ['Sore to touch', 'Transverse colon', 'Communi...         44.0  \n",
              "3      ['Lactates', 'GEN1 gene', 'Hypoventilation', '...         56.0  \n",
              "4      ['Hyperlipidemia', 'Left Ventricular Function'...         40.0  \n",
              "...                                                  ...          ...  \n",
              "24547  ['Liver Failure', ' Acute', 'Sore to touch', '...         72.0  \n",
              "24548  ['Clubbed Fingers', 'Heart murmur', 'Edema', '...         42.0  \n",
              "24549  ['Hyperlipidemia', 'Left Ventricular Function'...         62.0  \n",
              "24550  ['Simple', 'Edema', 'Shadow', 'Dyslipidemias',...         35.0  \n",
              "24551  ['Sore to touch', 'Kyphosis deformity of spine...         72.0  \n",
              "\n",
              "[24538 rows x 5 columns]"
            ],
            "text/html": [
              "\n",
              "  <div id=\"df-10fca15f-514f-43a9-b18c-c0eb69ef721f\">\n",
              "    <div class=\"colab-df-container\">\n",
              "      <div>\n",
              "<style scoped>\n",
              "    .dataframe tbody tr th:only-of-type {\n",
              "        vertical-align: middle;\n",
              "    }\n",
              "\n",
              "    .dataframe tbody tr th {\n",
              "        vertical-align: top;\n",
              "    }\n",
              "\n",
              "    .dataframe thead th {\n",
              "        text-align: right;\n",
              "    }\n",
              "</style>\n",
              "<table border=\"1\" class=\"dataframe\">\n",
              "  <thead>\n",
              "    <tr style=\"text-align: right;\">\n",
              "      <th></th>\n",
              "      <th>label</th>\n",
              "      <th>term</th>\n",
              "      <th>len</th>\n",
              "      <th>list_CUIs</th>\n",
              "      <th>number_CUIs</th>\n",
              "    </tr>\n",
              "  </thead>\n",
              "  <tbody>\n",
              "    <tr>\n",
              "      <th>0</th>\n",
              "      <td>157267</td>\n",
              "      <td>Pressure Ulcer,Abdominal tenderness,Ankle edem...</td>\n",
              "      <td>947.0</td>\n",
              "      <td>['Pressure Ulcer', 'Abdominal tenderness', 'An...</td>\n",
              "      <td>61.0</td>\n",
              "    </tr>\n",
              "    <tr>\n",
              "      <th>1</th>\n",
              "      <td>123103</td>\n",
              "      <td>Edema,Mitral Valve Insufficiency,Lung Volume M...</td>\n",
              "      <td>527.0</td>\n",
              "      <td>['Edema', 'Mitral Valve Insufficiency', 'Lung ...</td>\n",
              "      <td>28.0</td>\n",
              "    </tr>\n",
              "    <tr>\n",
              "      <th>2</th>\n",
              "      <td>139931</td>\n",
              "      <td>Sore to touch,Transverse colon,Communicable Di...</td>\n",
              "      <td>750.0</td>\n",
              "      <td>['Sore to touch', 'Transverse colon', 'Communi...</td>\n",
              "      <td>44.0</td>\n",
              "    </tr>\n",
              "    <tr>\n",
              "      <th>3</th>\n",
              "      <td>198295</td>\n",
              "      <td>Lactates,GEN1 gene,Hypoventilation,Edema,Shock...</td>\n",
              "      <td>827.0</td>\n",
              "      <td>['Lactates', 'GEN1 gene', 'Hypoventilation', '...</td>\n",
              "      <td>56.0</td>\n",
              "    </tr>\n",
              "    <tr>\n",
              "      <th>4</th>\n",
              "      <td>177962</td>\n",
              "      <td>Hyperlipidemia,Left Ventricular Function,Non-S...</td>\n",
              "      <td>686.0</td>\n",
              "      <td>['Hyperlipidemia', 'Left Ventricular Function'...</td>\n",
              "      <td>40.0</td>\n",
              "    </tr>\n",
              "    <tr>\n",
              "      <th>...</th>\n",
              "      <td>...</td>\n",
              "      <td>...</td>\n",
              "      <td>...</td>\n",
              "      <td>...</td>\n",
              "      <td>...</td>\n",
              "    </tr>\n",
              "    <tr>\n",
              "      <th>24547</th>\n",
              "      <td>168505</td>\n",
              "      <td>Liver Failure, Acute,Sore to touch,Communicabl...</td>\n",
              "      <td>1110.0</td>\n",
              "      <td>['Liver Failure', ' Acute', 'Sore to touch', '...</td>\n",
              "      <td>72.0</td>\n",
              "    </tr>\n",
              "    <tr>\n",
              "      <th>24548</th>\n",
              "      <td>109316</td>\n",
              "      <td>Clubbed Fingers,Heart murmur,Edema,Tachypnea,A...</td>\n",
              "      <td>581.0</td>\n",
              "      <td>['Clubbed Fingers', 'Heart murmur', 'Edema', '...</td>\n",
              "      <td>42.0</td>\n",
              "    </tr>\n",
              "    <tr>\n",
              "      <th>24549</th>\n",
              "      <td>123505</td>\n",
              "      <td>Hyperlipidemia,Left Ventricular Function,Simpl...</td>\n",
              "      <td>1088.0</td>\n",
              "      <td>['Hyperlipidemia', 'Left Ventricular Function'...</td>\n",
              "      <td>62.0</td>\n",
              "    </tr>\n",
              "    <tr>\n",
              "      <th>24550</th>\n",
              "      <td>101422</td>\n",
              "      <td>Simple,Edema,Shadow,Dyslipidemias,Diabetes Mel...</td>\n",
              "      <td>615.0</td>\n",
              "      <td>['Simple', 'Edema', 'Shadow', 'Dyslipidemias',...</td>\n",
              "      <td>35.0</td>\n",
              "    </tr>\n",
              "    <tr>\n",
              "      <th>24551</th>\n",
              "      <td>110075</td>\n",
              "      <td>Sore to touch,Kyphosis deformity of spine,Simp...</td>\n",
              "      <td>1285.0</td>\n",
              "      <td>['Sore to touch', 'Kyphosis deformity of spine...</td>\n",
              "      <td>72.0</td>\n",
              "    </tr>\n",
              "  </tbody>\n",
              "</table>\n",
              "<p>24538 rows × 5 columns</p>\n",
              "</div>\n",
              "      <button class=\"colab-df-convert\" onclick=\"convertToInteractive('df-10fca15f-514f-43a9-b18c-c0eb69ef721f')\"\n",
              "              title=\"Convert this dataframe to an interactive table.\"\n",
              "              style=\"display:none;\">\n",
              "        \n",
              "  <svg xmlns=\"http://www.w3.org/2000/svg\" height=\"24px\"viewBox=\"0 0 24 24\"\n",
              "       width=\"24px\">\n",
              "    <path d=\"M0 0h24v24H0V0z\" fill=\"none\"/>\n",
              "    <path d=\"M18.56 5.44l.94 2.06.94-2.06 2.06-.94-2.06-.94-.94-2.06-.94 2.06-2.06.94zm-11 1L8.5 8.5l.94-2.06 2.06-.94-2.06-.94L8.5 2.5l-.94 2.06-2.06.94zm10 10l.94 2.06.94-2.06 2.06-.94-2.06-.94-.94-2.06-.94 2.06-2.06.94z\"/><path d=\"M17.41 7.96l-1.37-1.37c-.4-.4-.92-.59-1.43-.59-.52 0-1.04.2-1.43.59L10.3 9.45l-7.72 7.72c-.78.78-.78 2.05 0 2.83L4 21.41c.39.39.9.59 1.41.59.51 0 1.02-.2 1.41-.59l7.78-7.78 2.81-2.81c.8-.78.8-2.07 0-2.86zM5.41 20L4 18.59l7.72-7.72 1.47 1.35L5.41 20z\"/>\n",
              "  </svg>\n",
              "      </button>\n",
              "      \n",
              "  <style>\n",
              "    .colab-df-container {\n",
              "      display:flex;\n",
              "      flex-wrap:wrap;\n",
              "      gap: 12px;\n",
              "    }\n",
              "\n",
              "    .colab-df-convert {\n",
              "      background-color: #E8F0FE;\n",
              "      border: none;\n",
              "      border-radius: 50%;\n",
              "      cursor: pointer;\n",
              "      display: none;\n",
              "      fill: #1967D2;\n",
              "      height: 32px;\n",
              "      padding: 0 0 0 0;\n",
              "      width: 32px;\n",
              "    }\n",
              "\n",
              "    .colab-df-convert:hover {\n",
              "      background-color: #E2EBFA;\n",
              "      box-shadow: 0px 1px 2px rgba(60, 64, 67, 0.3), 0px 1px 3px 1px rgba(60, 64, 67, 0.15);\n",
              "      fill: #174EA6;\n",
              "    }\n",
              "\n",
              "    [theme=dark] .colab-df-convert {\n",
              "      background-color: #3B4455;\n",
              "      fill: #D2E3FC;\n",
              "    }\n",
              "\n",
              "    [theme=dark] .colab-df-convert:hover {\n",
              "      background-color: #434B5C;\n",
              "      box-shadow: 0px 1px 3px 1px rgba(0, 0, 0, 0.15);\n",
              "      filter: drop-shadow(0px 1px 2px rgba(0, 0, 0, 0.3));\n",
              "      fill: #FFFFFF;\n",
              "    }\n",
              "  </style>\n",
              "\n",
              "      <script>\n",
              "        const buttonEl =\n",
              "          document.querySelector('#df-10fca15f-514f-43a9-b18c-c0eb69ef721f button.colab-df-convert');\n",
              "        buttonEl.style.display =\n",
              "          google.colab.kernel.accessAllowed ? 'block' : 'none';\n",
              "\n",
              "        async function convertToInteractive(key) {\n",
              "          const element = document.querySelector('#df-10fca15f-514f-43a9-b18c-c0eb69ef721f');\n",
              "          const dataTable =\n",
              "            await google.colab.kernel.invokeFunction('convertToInteractive',\n",
              "                                                     [key], {});\n",
              "          if (!dataTable) return;\n",
              "\n",
              "          const docLinkHtml = 'Like what you see? Visit the ' +\n",
              "            '<a target=\"_blank\" href=https://colab.research.google.com/notebooks/data_table.ipynb>data table notebook</a>'\n",
              "            + ' to learn more about interactive tables.';\n",
              "          element.innerHTML = '';\n",
              "          dataTable['output_type'] = 'display_data';\n",
              "          await google.colab.output.renderOutput(dataTable, element);\n",
              "          const docLink = document.createElement('div');\n",
              "          docLink.innerHTML = docLinkHtml;\n",
              "          element.appendChild(docLink);\n",
              "        }\n",
              "      </script>\n",
              "    </div>\n",
              "  </div>\n",
              "  "
            ]
          },
          "metadata": {},
          "execution_count": 78
        }
      ]
    },
    {
      "cell_type": "code",
      "source": [
        "df=df.dropna()\n",
        "len(df)"
      ],
      "metadata": {
        "colab": {
          "base_uri": "https://localhost:8080/"
        },
        "id": "_apqjc9-nwb3",
        "outputId": "47e8f5d6-8565-489a-a62b-14101f4f0731"
      },
      "execution_count": 85,
      "outputs": [
        {
          "output_type": "execute_result",
          "data": {
            "text/plain": [
              "24538"
            ]
          },
          "metadata": {},
          "execution_count": 85
        }
      ]
    },
    {
      "cell_type": "code",
      "source": [
        "\n",
        "ls_HADM_ID=df.label.unique().tolist()\n",
        "ls_HADM_ID_Correct=[]\n",
        "ls_CUI=[]\n",
        "for i in range(len(ls_HADM_ID)):\n",
        "    try:\n",
        "       s=df.loc[(df['label']==ls_HADM_ID[i] )  ].term.tolist()[0]\n",
        "       listToStr =s# ' '.join([str(elem) for elem in s])\n",
        "       ls_HADM_ID_Correct.append(ls_HADM_ID[i])\n",
        "       ls_CUI.append(listToStr)\n",
        "       listToStr = ''\n",
        "    except:\n",
        "       print(\"An exception occurred in    \" + ls_HADM_ID[i])\n",
        "\n",
        "    \n",
        "\n",
        "\n",
        "cui_dictionary = dict(zip(ls_HADM_ID_Correct,ls_CUI))\n",
        "cui_dictionary"
      ],
      "metadata": {
        "id": "3Q0rsYz_fBk9"
      },
      "execution_count": null,
      "outputs": []
    },
    {
      "cell_type": "code",
      "source": [
        "corpus=cui_dictionary"
      ],
      "metadata": {
        "id": "4c9y2Bs0kPUL"
      },
      "execution_count": 83,
      "outputs": []
    },
    {
      "cell_type": "code",
      "source": [
        "cvect = CountVectorizer()\n",
        "counts = cvect.fit_transform(corpus.values())\n",
        "normalized_counts = normalize(counts, norm='l2', axis=1)\n",
        "\n",
        "vectorizer = TfidfVectorizer()\n",
        "tfs = vectorizer.fit_transform(corpus.values())\n",
        "new_tfs = normalized_counts.multiply(vectorizer.idf_)\n",
        "\n",
        "feature_names=vectorizer.get_feature_names()\n",
        "\n",
        "corpus_index = [n for n in corpus]\n",
        "df1 = pd.DataFrame(new_tfs.T.todense(), index=feature_names, columns=corpus_index)\n",
        "#df1.sort_values(by=183196,ascending=False)"
      ],
      "metadata": {
        "colab": {
          "base_uri": "https://localhost:8080/"
        },
        "id": "SdvroaTheUsT",
        "outputId": "402d21ef-b5ac-4aad-fc23-9071eff31c8f"
      },
      "execution_count": 84,
      "outputs": [
        {
          "output_type": "stream",
          "name": "stderr",
          "text": [
            "/usr/local/lib/python3.7/dist-packages/sklearn/utils/deprecation.py:87: FutureWarning: Function get_feature_names is deprecated; get_feature_names is deprecated in 1.0 and will be removed in 1.2. Please use get_feature_names_out instead.\n",
            "  warnings.warn(msg, category=FutureWarning)\n"
          ]
        }
      ]
    }
  ]
}