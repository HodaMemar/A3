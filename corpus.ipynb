{
  "nbformat": 4,
  "nbformat_minor": 0,
  "metadata": {
    "colab": {
      "name": "Untitled",
      "provenance": [],
      "authorship_tag": "ABX9TyO5Qu4opoQgrJdF2J8tNAjD",
      "include_colab_link": true
    },
    "kernelspec": {
      "name": "python3",
      "display_name": "Python 3"
    },
    "language_info": {
      "name": "python"
    }
  },
  "cells": [
    {
      "cell_type": "markdown",
      "metadata": {
        "id": "view-in-github",
        "colab_type": "text"
      },
      "source": [
        "<a href=\"https://colab.research.google.com/github/HodaMemar/A3/blob/main/corpus.ipynb\" target=\"_parent\"><img src=\"https://colab.research.google.com/assets/colab-badge.svg\" alt=\"Open In Colab\"/></a>"
      ]
    },
    {
      "cell_type": "code",
      "execution_count": 1,
      "metadata": {
        "colab": {
          "base_uri": "https://localhost:8080/"
        },
        "id": "_N8VjDGgq4Kj",
        "outputId": "5294819b-355a-4a45-febd-30725ccad3a3"
      },
      "outputs": [
        {
          "output_type": "stream",
          "name": "stdout",
          "text": [
            "Mounted at /content/drive\n"
          ]
        }
      ],
      "source": [
        "from google.colab import drive\n",
        "drive.mount('/content/drive')"
      ]
    },
    {
      "cell_type": "code",
      "source": [
        "import pandas as pd\n"
      ],
      "metadata": {
        "id": "b3mT6WFTrHQF"
      },
      "execution_count": 3,
      "outputs": []
    },
    {
      "cell_type": "code",
      "source": [
        "df=pd.read_csv(\"/content/drive/MyDrive/PaperA3/Processed/processed_0.csv\")"
      ],
      "metadata": {
        "id": "G-Av1nbhrMH6"
      },
      "execution_count": 4,
      "outputs": []
    },
    {
      "cell_type": "code",
      "source": [
        "df.head()"
      ],
      "metadata": {
        "colab": {
          "base_uri": "https://localhost:8080/",
          "height": 354
        },
        "id": "oXM48RO8rWU7",
        "outputId": "08e08f27-1aa4-47d5-a98b-68f135c6a620"
      },
      "execution_count": 5,
      "outputs": [
        {
          "output_type": "execute_result",
          "data": {
            "text/plain": [
              "   Unnamed: 0  index  HADM_ID              category_Inner  \\\n",
              "0           0      0   157267                   allergies   \n",
              "1           1      0   157267             chief_complaint   \n",
              "2           2      0   157267  history_of_present_illness   \n",
              "3           3      0   157267            labs_and_studies   \n",
              "4           4      0   157267        past_medical_history   \n",
              "\n",
              "                                FormName  \\\n",
              "0  ['Discharge summary' 'Nursing/other']   \n",
              "1                  ['Discharge summary']   \n",
              "2                  ['Discharge summary']   \n",
              "3                  ['Discharge summary']   \n",
              "4      ['Discharge summary' 'Radiology']   \n",
              "\n",
              "                                                 CUI  \\\n",
              "0  ['C0009214', 'C0009214', 'C0009214', 'C0018926...   \n",
              "1               ['C0042963', 'C0011991', 'C0015967']   \n",
              "2  ['C0022661', 'C0019829', 'C0010068', 'C0004238...   \n",
              "3  ['C0002893', 'C1704493', 'C0001314', 'C0030193...   \n",
              "4  ['C0022661', 'C0019829', 'C0008574', 'C0003855...   \n",
              "\n",
              "                                      canonical_name  \\\n",
              "0  ['codeine', 'codeine', 'codeine', 'Hematemesis...   \n",
              "1                  ['Vomiting', 'Diarrhea', 'Fever']   \n",
              "2  ['Kidney Failure, Chronic', 'Hodgkin Disease',...   \n",
              "3  ['Refractory anemias', 'Neutral Sidebent Rotat...   \n",
              "4  ['Kidney Failure, Chronic', 'Hodgkin Disease',...   \n",
              "\n",
              "                                             Neg_CUI  \n",
              "0  ['codeine', 'codeine', 'codeine', 'Hematemesis...  \n",
              "1                  ['Vomiting', 'Diarrhea', 'Fever']  \n",
              "2  ['Kidney Failure, Chronic', 'Hodgkin Disease',...  \n",
              "3  ['Refractory anemias', 'Neutral Sidebent Rotat...  \n",
              "4  ['Kidney Failure, Chronic', 'Hodgkin Disease',...  "
            ],
            "text/html": [
              "\n",
              "  <div id=\"df-8b7261e1-13ac-4cbb-af3d-13fbd94b4e10\">\n",
              "    <div class=\"colab-df-container\">\n",
              "      <div>\n",
              "<style scoped>\n",
              "    .dataframe tbody tr th:only-of-type {\n",
              "        vertical-align: middle;\n",
              "    }\n",
              "\n",
              "    .dataframe tbody tr th {\n",
              "        vertical-align: top;\n",
              "    }\n",
              "\n",
              "    .dataframe thead th {\n",
              "        text-align: right;\n",
              "    }\n",
              "</style>\n",
              "<table border=\"1\" class=\"dataframe\">\n",
              "  <thead>\n",
              "    <tr style=\"text-align: right;\">\n",
              "      <th></th>\n",
              "      <th>Unnamed: 0</th>\n",
              "      <th>index</th>\n",
              "      <th>HADM_ID</th>\n",
              "      <th>category_Inner</th>\n",
              "      <th>FormName</th>\n",
              "      <th>CUI</th>\n",
              "      <th>canonical_name</th>\n",
              "      <th>Neg_CUI</th>\n",
              "    </tr>\n",
              "  </thead>\n",
              "  <tbody>\n",
              "    <tr>\n",
              "      <th>0</th>\n",
              "      <td>0</td>\n",
              "      <td>0</td>\n",
              "      <td>157267</td>\n",
              "      <td>allergies</td>\n",
              "      <td>['Discharge summary' 'Nursing/other']</td>\n",
              "      <td>['C0009214', 'C0009214', 'C0009214', 'C0018926...</td>\n",
              "      <td>['codeine', 'codeine', 'codeine', 'Hematemesis...</td>\n",
              "      <td>['codeine', 'codeine', 'codeine', 'Hematemesis...</td>\n",
              "    </tr>\n",
              "    <tr>\n",
              "      <th>1</th>\n",
              "      <td>1</td>\n",
              "      <td>0</td>\n",
              "      <td>157267</td>\n",
              "      <td>chief_complaint</td>\n",
              "      <td>['Discharge summary']</td>\n",
              "      <td>['C0042963', 'C0011991', 'C0015967']</td>\n",
              "      <td>['Vomiting', 'Diarrhea', 'Fever']</td>\n",
              "      <td>['Vomiting', 'Diarrhea', 'Fever']</td>\n",
              "    </tr>\n",
              "    <tr>\n",
              "      <th>2</th>\n",
              "      <td>2</td>\n",
              "      <td>0</td>\n",
              "      <td>157267</td>\n",
              "      <td>history_of_present_illness</td>\n",
              "      <td>['Discharge summary']</td>\n",
              "      <td>['C0022661', 'C0019829', 'C0010068', 'C0004238...</td>\n",
              "      <td>['Kidney Failure, Chronic', 'Hodgkin Disease',...</td>\n",
              "      <td>['Kidney Failure, Chronic', 'Hodgkin Disease',...</td>\n",
              "    </tr>\n",
              "    <tr>\n",
              "      <th>3</th>\n",
              "      <td>3</td>\n",
              "      <td>0</td>\n",
              "      <td>157267</td>\n",
              "      <td>labs_and_studies</td>\n",
              "      <td>['Discharge summary']</td>\n",
              "      <td>['C0002893', 'C1704493', 'C0001314', 'C0030193...</td>\n",
              "      <td>['Refractory anemias', 'Neutral Sidebent Rotat...</td>\n",
              "      <td>['Refractory anemias', 'Neutral Sidebent Rotat...</td>\n",
              "    </tr>\n",
              "    <tr>\n",
              "      <th>4</th>\n",
              "      <td>4</td>\n",
              "      <td>0</td>\n",
              "      <td>157267</td>\n",
              "      <td>past_medical_history</td>\n",
              "      <td>['Discharge summary' 'Radiology']</td>\n",
              "      <td>['C0022661', 'C0019829', 'C0008574', 'C0003855...</td>\n",
              "      <td>['Kidney Failure, Chronic', 'Hodgkin Disease',...</td>\n",
              "      <td>['Kidney Failure, Chronic', 'Hodgkin Disease',...</td>\n",
              "    </tr>\n",
              "  </tbody>\n",
              "</table>\n",
              "</div>\n",
              "      <button class=\"colab-df-convert\" onclick=\"convertToInteractive('df-8b7261e1-13ac-4cbb-af3d-13fbd94b4e10')\"\n",
              "              title=\"Convert this dataframe to an interactive table.\"\n",
              "              style=\"display:none;\">\n",
              "        \n",
              "  <svg xmlns=\"http://www.w3.org/2000/svg\" height=\"24px\"viewBox=\"0 0 24 24\"\n",
              "       width=\"24px\">\n",
              "    <path d=\"M0 0h24v24H0V0z\" fill=\"none\"/>\n",
              "    <path d=\"M18.56 5.44l.94 2.06.94-2.06 2.06-.94-2.06-.94-.94-2.06-.94 2.06-2.06.94zm-11 1L8.5 8.5l.94-2.06 2.06-.94-2.06-.94L8.5 2.5l-.94 2.06-2.06.94zm10 10l.94 2.06.94-2.06 2.06-.94-2.06-.94-.94-2.06-.94 2.06-2.06.94z\"/><path d=\"M17.41 7.96l-1.37-1.37c-.4-.4-.92-.59-1.43-.59-.52 0-1.04.2-1.43.59L10.3 9.45l-7.72 7.72c-.78.78-.78 2.05 0 2.83L4 21.41c.39.39.9.59 1.41.59.51 0 1.02-.2 1.41-.59l7.78-7.78 2.81-2.81c.8-.78.8-2.07 0-2.86zM5.41 20L4 18.59l7.72-7.72 1.47 1.35L5.41 20z\"/>\n",
              "  </svg>\n",
              "      </button>\n",
              "      \n",
              "  <style>\n",
              "    .colab-df-container {\n",
              "      display:flex;\n",
              "      flex-wrap:wrap;\n",
              "      gap: 12px;\n",
              "    }\n",
              "\n",
              "    .colab-df-convert {\n",
              "      background-color: #E8F0FE;\n",
              "      border: none;\n",
              "      border-radius: 50%;\n",
              "      cursor: pointer;\n",
              "      display: none;\n",
              "      fill: #1967D2;\n",
              "      height: 32px;\n",
              "      padding: 0 0 0 0;\n",
              "      width: 32px;\n",
              "    }\n",
              "\n",
              "    .colab-df-convert:hover {\n",
              "      background-color: #E2EBFA;\n",
              "      box-shadow: 0px 1px 2px rgba(60, 64, 67, 0.3), 0px 1px 3px 1px rgba(60, 64, 67, 0.15);\n",
              "      fill: #174EA6;\n",
              "    }\n",
              "\n",
              "    [theme=dark] .colab-df-convert {\n",
              "      background-color: #3B4455;\n",
              "      fill: #D2E3FC;\n",
              "    }\n",
              "\n",
              "    [theme=dark] .colab-df-convert:hover {\n",
              "      background-color: #434B5C;\n",
              "      box-shadow: 0px 1px 3px 1px rgba(0, 0, 0, 0.15);\n",
              "      filter: drop-shadow(0px 1px 2px rgba(0, 0, 0, 0.3));\n",
              "      fill: #FFFFFF;\n",
              "    }\n",
              "  </style>\n",
              "\n",
              "      <script>\n",
              "        const buttonEl =\n",
              "          document.querySelector('#df-8b7261e1-13ac-4cbb-af3d-13fbd94b4e10 button.colab-df-convert');\n",
              "        buttonEl.style.display =\n",
              "          google.colab.kernel.accessAllowed ? 'block' : 'none';\n",
              "\n",
              "        async function convertToInteractive(key) {\n",
              "          const element = document.querySelector('#df-8b7261e1-13ac-4cbb-af3d-13fbd94b4e10');\n",
              "          const dataTable =\n",
              "            await google.colab.kernel.invokeFunction('convertToInteractive',\n",
              "                                                     [key], {});\n",
              "          if (!dataTable) return;\n",
              "\n",
              "          const docLinkHtml = 'Like what you see? Visit the ' +\n",
              "            '<a target=\"_blank\" href=https://colab.research.google.com/notebooks/data_table.ipynb>data table notebook</a>'\n",
              "            + ' to learn more about interactive tables.';\n",
              "          element.innerHTML = '';\n",
              "          dataTable['output_type'] = 'display_data';\n",
              "          await google.colab.output.renderOutput(dataTable, element);\n",
              "          const docLink = document.createElement('div');\n",
              "          docLink.innerHTML = docLinkHtml;\n",
              "          element.appendChild(docLink);\n",
              "        }\n",
              "      </script>\n",
              "    </div>\n",
              "  </div>\n",
              "  "
            ]
          },
          "metadata": {},
          "execution_count": 5
        }
      ]
    }
  ]
}