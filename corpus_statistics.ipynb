{
  "nbformat": 4,
  "nbformat_minor": 0,
  "metadata": {
    "colab": {
      "name": "corpus_statistics",
      "provenance": [],
      "collapsed_sections": [],
      "authorship_tag": "ABX9TyOrW0OZDbY9nJ6GFOzPWB8t",
      "include_colab_link": true
    },
    "kernelspec": {
      "name": "python3",
      "display_name": "Python 3"
    },
    "language_info": {
      "name": "python"
    }
  },
  "cells": [
    {
      "cell_type": "markdown",
      "metadata": {
        "id": "view-in-github",
        "colab_type": "text"
      },
      "source": [
        "<a href=\"https://colab.research.google.com/github/HodaMemar/A3/blob/main/corpus_statistics.ipynb\" target=\"_parent\"><img src=\"https://colab.research.google.com/assets/colab-badge.svg\" alt=\"Open In Colab\"/></a>"
      ]
    },
    {
      "cell_type": "code",
      "execution_count": 3,
      "metadata": {
        "colab": {
          "base_uri": "https://localhost:8080/"
        },
        "id": "_N8VjDGgq4Kj",
        "outputId": "efefcb1f-869a-4e8a-e28a-10647cb14940"
      },
      "outputs": [
        {
          "output_type": "stream",
          "name": "stdout",
          "text": [
            "Drive already mounted at /content/drive; to attempt to forcibly remount, call drive.mount(\"/content/drive\", force_remount=True).\n"
          ]
        }
      ],
      "source": [
        "from google.colab import drive\n",
        "drive.mount('/content/drive')"
      ]
    },
    {
      "cell_type": "code",
      "source": [
        "import pandas as pd\n",
        "import numpy as np\n",
        "import matplotlib.pyplot as plt\n",
        "from os.path import exists"
      ],
      "metadata": {
        "id": "b3mT6WFTrHQF"
      },
      "execution_count": 4,
      "outputs": []
    },
    {
      "cell_type": "code",
      "source": [
        "df=pd.read_csv(\"/content/drive/MyDrive/PaperA3/Processed/processed_0.csv\")"
      ],
      "metadata": {
        "id": "G-Av1nbhrMH6"
      },
      "execution_count": null,
      "outputs": []
    },
    {
      "cell_type": "code",
      "source": [
        "df.head()"
      ],
      "metadata": {
        "colab": {
          "base_uri": "https://localhost:8080/",
          "height": 510
        },
        "id": "oXM48RO8rWU7",
        "outputId": "08e08f27-1aa4-47d5-a98b-68f135c6a620"
      },
      "execution_count": null,
      "outputs": [
        {
          "output_type": "execute_result",
          "data": {
            "text/plain": [
              "   Unnamed: 0  index  HADM_ID              category_Inner  \\\n",
              "0           0      0   157267                   allergies   \n",
              "1           1      0   157267             chief_complaint   \n",
              "2           2      0   157267  history_of_present_illness   \n",
              "3           3      0   157267            labs_and_studies   \n",
              "4           4      0   157267        past_medical_history   \n",
              "\n",
              "                                FormName  \\\n",
              "0  ['Discharge summary' 'Nursing/other']   \n",
              "1                  ['Discharge summary']   \n",
              "2                  ['Discharge summary']   \n",
              "3                  ['Discharge summary']   \n",
              "4      ['Discharge summary' 'Radiology']   \n",
              "\n",
              "                                                 CUI  \\\n",
              "0  ['C0009214', 'C0009214', 'C0009214', 'C0018926...   \n",
              "1               ['C0042963', 'C0011991', 'C0015967']   \n",
              "2  ['C0022661', 'C0019829', 'C0010068', 'C0004238...   \n",
              "3  ['C0002893', 'C1704493', 'C0001314', 'C0030193...   \n",
              "4  ['C0022661', 'C0019829', 'C0008574', 'C0003855...   \n",
              "\n",
              "                                      canonical_name  \\\n",
              "0  ['codeine', 'codeine', 'codeine', 'Hematemesis...   \n",
              "1                  ['Vomiting', 'Diarrhea', 'Fever']   \n",
              "2  ['Kidney Failure, Chronic', 'Hodgkin Disease',...   \n",
              "3  ['Refractory anemias', 'Neutral Sidebent Rotat...   \n",
              "4  ['Kidney Failure, Chronic', 'Hodgkin Disease',...   \n",
              "\n",
              "                                             Neg_CUI  \n",
              "0  ['codeine', 'codeine', 'codeine', 'Hematemesis...  \n",
              "1                  ['Vomiting', 'Diarrhea', 'Fever']  \n",
              "2  ['Kidney Failure, Chronic', 'Hodgkin Disease',...  \n",
              "3  ['Refractory anemias', 'Neutral Sidebent Rotat...  \n",
              "4  ['Kidney Failure, Chronic', 'Hodgkin Disease',...  "
            ],
            "text/html": [
              "\n",
              "  <div id=\"df-8b7261e1-13ac-4cbb-af3d-13fbd94b4e10\">\n",
              "    <div class=\"colab-df-container\">\n",
              "      <div>\n",
              "<style scoped>\n",
              "    .dataframe tbody tr th:only-of-type {\n",
              "        vertical-align: middle;\n",
              "    }\n",
              "\n",
              "    .dataframe tbody tr th {\n",
              "        vertical-align: top;\n",
              "    }\n",
              "\n",
              "    .dataframe thead th {\n",
              "        text-align: right;\n",
              "    }\n",
              "</style>\n",
              "<table border=\"1\" class=\"dataframe\">\n",
              "  <thead>\n",
              "    <tr style=\"text-align: right;\">\n",
              "      <th></th>\n",
              "      <th>Unnamed: 0</th>\n",
              "      <th>index</th>\n",
              "      <th>HADM_ID</th>\n",
              "      <th>category_Inner</th>\n",
              "      <th>FormName</th>\n",
              "      <th>CUI</th>\n",
              "      <th>canonical_name</th>\n",
              "      <th>Neg_CUI</th>\n",
              "    </tr>\n",
              "  </thead>\n",
              "  <tbody>\n",
              "    <tr>\n",
              "      <th>0</th>\n",
              "      <td>0</td>\n",
              "      <td>0</td>\n",
              "      <td>157267</td>\n",
              "      <td>allergies</td>\n",
              "      <td>['Discharge summary' 'Nursing/other']</td>\n",
              "      <td>['C0009214', 'C0009214', 'C0009214', 'C0018926...</td>\n",
              "      <td>['codeine', 'codeine', 'codeine', 'Hematemesis...</td>\n",
              "      <td>['codeine', 'codeine', 'codeine', 'Hematemesis...</td>\n",
              "    </tr>\n",
              "    <tr>\n",
              "      <th>1</th>\n",
              "      <td>1</td>\n",
              "      <td>0</td>\n",
              "      <td>157267</td>\n",
              "      <td>chief_complaint</td>\n",
              "      <td>['Discharge summary']</td>\n",
              "      <td>['C0042963', 'C0011991', 'C0015967']</td>\n",
              "      <td>['Vomiting', 'Diarrhea', 'Fever']</td>\n",
              "      <td>['Vomiting', 'Diarrhea', 'Fever']</td>\n",
              "    </tr>\n",
              "    <tr>\n",
              "      <th>2</th>\n",
              "      <td>2</td>\n",
              "      <td>0</td>\n",
              "      <td>157267</td>\n",
              "      <td>history_of_present_illness</td>\n",
              "      <td>['Discharge summary']</td>\n",
              "      <td>['C0022661', 'C0019829', 'C0010068', 'C0004238...</td>\n",
              "      <td>['Kidney Failure, Chronic', 'Hodgkin Disease',...</td>\n",
              "      <td>['Kidney Failure, Chronic', 'Hodgkin Disease',...</td>\n",
              "    </tr>\n",
              "    <tr>\n",
              "      <th>3</th>\n",
              "      <td>3</td>\n",
              "      <td>0</td>\n",
              "      <td>157267</td>\n",
              "      <td>labs_and_studies</td>\n",
              "      <td>['Discharge summary']</td>\n",
              "      <td>['C0002893', 'C1704493', 'C0001314', 'C0030193...</td>\n",
              "      <td>['Refractory anemias', 'Neutral Sidebent Rotat...</td>\n",
              "      <td>['Refractory anemias', 'Neutral Sidebent Rotat...</td>\n",
              "    </tr>\n",
              "    <tr>\n",
              "      <th>4</th>\n",
              "      <td>4</td>\n",
              "      <td>0</td>\n",
              "      <td>157267</td>\n",
              "      <td>past_medical_history</td>\n",
              "      <td>['Discharge summary' 'Radiology']</td>\n",
              "      <td>['C0022661', 'C0019829', 'C0008574', 'C0003855...</td>\n",
              "      <td>['Kidney Failure, Chronic', 'Hodgkin Disease',...</td>\n",
              "      <td>['Kidney Failure, Chronic', 'Hodgkin Disease',...</td>\n",
              "    </tr>\n",
              "  </tbody>\n",
              "</table>\n",
              "</div>\n",
              "      <button class=\"colab-df-convert\" onclick=\"convertToInteractive('df-8b7261e1-13ac-4cbb-af3d-13fbd94b4e10')\"\n",
              "              title=\"Convert this dataframe to an interactive table.\"\n",
              "              style=\"display:none;\">\n",
              "        \n",
              "  <svg xmlns=\"http://www.w3.org/2000/svg\" height=\"24px\"viewBox=\"0 0 24 24\"\n",
              "       width=\"24px\">\n",
              "    <path d=\"M0 0h24v24H0V0z\" fill=\"none\"/>\n",
              "    <path d=\"M18.56 5.44l.94 2.06.94-2.06 2.06-.94-2.06-.94-.94-2.06-.94 2.06-2.06.94zm-11 1L8.5 8.5l.94-2.06 2.06-.94-2.06-.94L8.5 2.5l-.94 2.06-2.06.94zm10 10l.94 2.06.94-2.06 2.06-.94-2.06-.94-.94-2.06-.94 2.06-2.06.94z\"/><path d=\"M17.41 7.96l-1.37-1.37c-.4-.4-.92-.59-1.43-.59-.52 0-1.04.2-1.43.59L10.3 9.45l-7.72 7.72c-.78.78-.78 2.05 0 2.83L4 21.41c.39.39.9.59 1.41.59.51 0 1.02-.2 1.41-.59l7.78-7.78 2.81-2.81c.8-.78.8-2.07 0-2.86zM5.41 20L4 18.59l7.72-7.72 1.47 1.35L5.41 20z\"/>\n",
              "  </svg>\n",
              "      </button>\n",
              "      \n",
              "  <style>\n",
              "    .colab-df-container {\n",
              "      display:flex;\n",
              "      flex-wrap:wrap;\n",
              "      gap: 12px;\n",
              "    }\n",
              "\n",
              "    .colab-df-convert {\n",
              "      background-color: #E8F0FE;\n",
              "      border: none;\n",
              "      border-radius: 50%;\n",
              "      cursor: pointer;\n",
              "      display: none;\n",
              "      fill: #1967D2;\n",
              "      height: 32px;\n",
              "      padding: 0 0 0 0;\n",
              "      width: 32px;\n",
              "    }\n",
              "\n",
              "    .colab-df-convert:hover {\n",
              "      background-color: #E2EBFA;\n",
              "      box-shadow: 0px 1px 2px rgba(60, 64, 67, 0.3), 0px 1px 3px 1px rgba(60, 64, 67, 0.15);\n",
              "      fill: #174EA6;\n",
              "    }\n",
              "\n",
              "    [theme=dark] .colab-df-convert {\n",
              "      background-color: #3B4455;\n",
              "      fill: #D2E3FC;\n",
              "    }\n",
              "\n",
              "    [theme=dark] .colab-df-convert:hover {\n",
              "      background-color: #434B5C;\n",
              "      box-shadow: 0px 1px 3px 1px rgba(0, 0, 0, 0.15);\n",
              "      filter: drop-shadow(0px 1px 2px rgba(0, 0, 0, 0.3));\n",
              "      fill: #FFFFFF;\n",
              "    }\n",
              "  </style>\n",
              "\n",
              "      <script>\n",
              "        const buttonEl =\n",
              "          document.querySelector('#df-8b7261e1-13ac-4cbb-af3d-13fbd94b4e10 button.colab-df-convert');\n",
              "        buttonEl.style.display =\n",
              "          google.colab.kernel.accessAllowed ? 'block' : 'none';\n",
              "\n",
              "        async function convertToInteractive(key) {\n",
              "          const element = document.querySelector('#df-8b7261e1-13ac-4cbb-af3d-13fbd94b4e10');\n",
              "          const dataTable =\n",
              "            await google.colab.kernel.invokeFunction('convertToInteractive',\n",
              "                                                     [key], {});\n",
              "          if (!dataTable) return;\n",
              "\n",
              "          const docLinkHtml = 'Like what you see? Visit the ' +\n",
              "            '<a target=\"_blank\" href=https://colab.research.google.com/notebooks/data_table.ipynb>data table notebook</a>'\n",
              "            + ' to learn more about interactive tables.';\n",
              "          element.innerHTML = '';\n",
              "          dataTable['output_type'] = 'display_data';\n",
              "          await google.colab.output.renderOutput(dataTable, element);\n",
              "          const docLink = document.createElement('div');\n",
              "          docLink.innerHTML = docLinkHtml;\n",
              "          element.appendChild(docLink);\n",
              "        }\n",
              "      </script>\n",
              "    </div>\n",
              "  </div>\n",
              "  "
            ]
          },
          "metadata": {},
          "execution_count": 5
        }
      ]
    },
    {
      "cell_type": "code",
      "source": [
        "df.category_Inner.unique().tolist()"
      ],
      "metadata": {
        "colab": {
          "base_uri": "https://localhost:8080/"
        },
        "id": "RRArr9d5sJ7_",
        "outputId": "32162668-1a19-4ca6-e2e4-4101d9d566c4"
      },
      "execution_count": null,
      "outputs": [
        {
          "output_type": "execute_result",
          "data": {
            "text/plain": [
              "['allergies',\n",
              " 'chief_complaint',\n",
              " 'history_of_present_illness',\n",
              " 'labs_and_studies',\n",
              " 'past_medical_history',\n",
              " 'social_history',\n",
              " 'physical_exam',\n",
              " 'observation_and_plan',\n",
              " 'hospital_course',\n",
              " 'medications',\n",
              " 'diagnoses',\n",
              " 'patient_instructions',\n",
              " 'reason_for_examination',\n",
              " 'imaging',\n",
              " 'neurological',\n",
              " 'family_history',\n",
              " 'comments',\n",
              " 'addendum',\n",
              " 'other']"
            ]
          },
          "metadata": {},
          "execution_count": 6
        }
      ]
    },
    {
      "cell_type": "code",
      "source": [
        "filename=\"/content/drive/MyDrive/PaperA3/Processed/processed_0.csv\"\n",
        "df=pd.read_csv(filename)\n",
        "for i in range(1,76):\n",
        "  filename=\"/content/drive/MyDrive/PaperA3/Processed/processed_\"+str(i)+\".csv\"\n",
        "  if (exists(filename)==True):\n",
        "          print(i)\n",
        "          df1=pd.read_csv(filename)\n",
        "          df=pd.concat([df, df1])"
      ],
      "metadata": {
        "id": "Tv6CCRjbuRNm"
      },
      "execution_count": null,
      "outputs": []
    },
    {
      "cell_type": "code",
      "source": [
        "len(df.HADM_ID.unique().tolist())"
      ],
      "metadata": {
        "colab": {
          "base_uri": "https://localhost:8080/"
        },
        "id": "T5-BrPIn2i0P",
        "outputId": "d4f676a5-19f6-4346-c656-aced57386113"
      },
      "execution_count": 16,
      "outputs": [
        {
          "output_type": "execute_result",
          "data": {
            "text/plain": [
              "24555"
            ]
          },
          "metadata": {},
          "execution_count": 16
        }
      ]
    },
    {
      "cell_type": "code",
      "source": [
        "df.to_csv('/content/drive/MyDrive/PaperA3/processed_Total.csv')"
      ],
      "metadata": {
        "id": "MVvT9yBR2o4e"
      },
      "execution_count": null,
      "outputs": []
    },
    {
      "cell_type": "code",
      "source": [
        ""
      ],
      "metadata": {
        "id": "nakQbKyXbaj9"
      },
      "execution_count": null,
      "outputs": []
    },
    {
      "cell_type": "code",
      "source": [
        "df2 = df.groupby(['category_Inner'])['HADM_ID'].count().reset_index(name='counts')\n",
        "df2['Percentage']=round(100*(df2['counts']/24555), 2)\n",
        "df2=df2.sort_values(by='Percentage')"
      ],
      "metadata": {
        "id": "fPyNJ0kCM2XS"
      },
      "execution_count": 34,
      "outputs": []
    },
    {
      "cell_type": "code",
      "source": [
        "\n",
        "import numpy as np\n",
        "import matplotlib.pyplot as plt\n",
        " \n",
        "  \n",
        "# creating the dataset\n",
        "\n",
        "courses = list(df2['category_Inner'])\n",
        "values = list(df2['Percentage'])\n",
        "  \n",
        "fig = plt.figure(figsize = (10, 10))\n",
        " \n",
        "# creating the bar plot\n",
        "\n",
        "plt.barh(courses, values)\n",
        "plt.xlabel(\"Percentage\")\n",
        "plt.xticks(rotation='vertical')\n",
        "for index, value in enumerate(values):\n",
        "    plt.text(value, index, str(value))\n",
        "plt.ylabel(\"sections of clinical texts\")\n",
        "plt.title(\"Percentage of completion of different sections of clinical texts\")\n",
        "plt.axvline(x=70, color='k', linestyle='--')\n",
        "plt.show()"
      ],
      "metadata": {
        "colab": {
          "base_uri": "https://localhost:8080/",
          "height": 630
        },
        "id": "RUs52yGAOQNm",
        "outputId": "a750284b-a462-4539-e187-327987fe84d0"
      },
      "execution_count": 39,
      "outputs": [
        {
          "output_type": "display_data",
          "data": {
            "text/plain": [
              "<Figure size 720x720 with 1 Axes>"
            ],
            "image/png": "[encoded data removed]"
          },
          "metadata": {
            "needs_background": "light"
          }
        }
      ]
    },
    {
      "cell_type": "code",
      "source": [
        "ls_Category_Prefered=[\n",
        " 'chief_complaint',\n",
        " 'history_of_present_illness',\n",
        " 'labs_and_studies',\n",
        " 'past_medical_history',\n",
        " 'physical_exam',\n",
        " 'observation_and_plan',\n",
        " ]"
      ],
      "metadata": {
        "id": "IxP52aZidA-M"
      },
      "execution_count": 6,
      "outputs": []
    },
    {
      "cell_type": "code",
      "source": [
        "df=pd.read_csv(\"/content/drive/MyDrive/PaperA3/processed_Total.csv\")"
      ],
      "metadata": {
        "colab": {
          "base_uri": "https://localhost:8080/"
        },
        "id": "tZ7l1Pj4bqHW",
        "outputId": "45382ee2-ad7c-48d8-90f8-06c2da14ae24"
      },
      "execution_count": 3,
      "outputs": [
        {
          "output_type": "stream",
          "name": "stderr",
          "text": [
            "/usr/local/lib/python3.7/dist-packages/IPython/core/interactiveshell.py:2882: DtypeWarning: Columns (3) have mixed types.Specify dtype option on import or set low_memory=False.\n",
            "  exec(code_obj, self.user_global_ns, self.user_ns)\n"
          ]
        }
      ]
    },
    {
      "cell_type": "code",
      "source": [
        "df.head()"
      ],
      "metadata": {
        "colab": {
          "base_uri": "https://localhost:8080/",
          "height": 424
        },
        "id": "9CTO9Xjhb1VO",
        "outputId": "9b9e0e82-e55c-45a4-f3a9-b9988157ee32"
      },
      "execution_count": 4,
      "outputs": [
        {
          "output_type": "execute_result",
          "data": {
            "text/plain": [
              "   Unnamed: 0  Unnamed: 0.1  index HADM_ID              category_Inner  \\\n",
              "0           0             0      0  157267                   allergies   \n",
              "1           1             1      0  157267             chief_complaint   \n",
              "2           2             2      0  157267  history_of_present_illness   \n",
              "3           3             3      0  157267            labs_and_studies   \n",
              "4           4             4      0  157267        past_medical_history   \n",
              "\n",
              "                                FormName  \\\n",
              "0  ['Discharge summary' 'Nursing/other']   \n",
              "1                  ['Discharge summary']   \n",
              "2                  ['Discharge summary']   \n",
              "3                  ['Discharge summary']   \n",
              "4      ['Discharge summary' 'Radiology']   \n",
              "\n",
              "                                                 CUI  \\\n",
              "0  ['C0009214', 'C0009214', 'C0009214', 'C0018926...   \n",
              "1               ['C0042963', 'C0011991', 'C0015967']   \n",
              "2  ['C0022661', 'C0019829', 'C0010068', 'C0004238...   \n",
              "3  ['C0002893', 'C1704493', 'C0001314', 'C0030193...   \n",
              "4  ['C0022661', 'C0019829', 'C0008574', 'C0003855...   \n",
              "\n",
              "                                      canonical_name  \\\n",
              "0  ['codeine', 'codeine', 'codeine', 'Hematemesis...   \n",
              "1                  ['Vomiting', 'Diarrhea', 'Fever']   \n",
              "2  ['Kidney Failure, Chronic', 'Hodgkin Disease',...   \n",
              "3  ['Refractory anemias', 'Neutral Sidebent Rotat...   \n",
              "4  ['Kidney Failure, Chronic', 'Hodgkin Disease',...   \n",
              "\n",
              "                                             Neg_CUI  \n",
              "0  ['codeine', 'codeine', 'codeine', 'Hematemesis...  \n",
              "1                  ['Vomiting', 'Diarrhea', 'Fever']  \n",
              "2  ['Kidney Failure, Chronic', 'Hodgkin Disease',...  \n",
              "3  ['Refractory anemias', 'Neutral Sidebent Rotat...  \n",
              "4  ['Kidney Failure, Chronic', 'Hodgkin Disease',...  "
            ],
            "text/html": [
              "\n",
              "  <div id=\"df-0e810f52-8f48-4ff6-818f-c6f0ff389b93\">\n",
              "    <div class=\"colab-df-container\">\n",
              "      <div>\n",
              "<style scoped>\n",
              "    .dataframe tbody tr th:only-of-type {\n",
              "        vertical-align: middle;\n",
              "    }\n",
              "\n",
              "    .dataframe tbody tr th {\n",
              "        vertical-align: top;\n",
              "    }\n",
              "\n",
              "    .dataframe thead th {\n",
              "        text-align: right;\n",
              "    }\n",
              "</style>\n",
              "<table border=\"1\" class=\"dataframe\">\n",
              "  <thead>\n",
              "    <tr style=\"text-align: right;\">\n",
              "      <th></th>\n",
              "      <th>Unnamed: 0</th>\n",
              "      <th>Unnamed: 0.1</th>\n",
              "      <th>index</th>\n",
              "      <th>HADM_ID</th>\n",
              "      <th>category_Inner</th>\n",
              "      <th>FormName</th>\n",
              "      <th>CUI</th>\n",
              "      <th>canonical_name</th>\n",
              "      <th>Neg_CUI</th>\n",
              "    </tr>\n",
              "  </thead>\n",
              "  <tbody>\n",
              "    <tr>\n",
              "      <th>0</th>\n",
              "      <td>0</td>\n",
              "      <td>0</td>\n",
              "      <td>0</td>\n",
              "      <td>157267</td>\n",
              "      <td>allergies</td>\n",
              "      <td>['Discharge summary' 'Nursing/other']</td>\n",
              "      <td>['C0009214', 'C0009214', 'C0009214', 'C0018926...</td>\n",
              "      <td>['codeine', 'codeine', 'codeine', 'Hematemesis...</td>\n",
              "      <td>['codeine', 'codeine', 'codeine', 'Hematemesis...</td>\n",
              "    </tr>\n",
              "    <tr>\n",
              "      <th>1</th>\n",
              "      <td>1</td>\n",
              "      <td>1</td>\n",
              "      <td>0</td>\n",
              "      <td>157267</td>\n",
              "      <td>chief_complaint</td>\n",
              "      <td>['Discharge summary']</td>\n",
              "      <td>['C0042963', 'C0011991', 'C0015967']</td>\n",
              "      <td>['Vomiting', 'Diarrhea', 'Fever']</td>\n",
              "      <td>['Vomiting', 'Diarrhea', 'Fever']</td>\n",
              "    </tr>\n",
              "    <tr>\n",
              "      <th>2</th>\n",
              "      <td>2</td>\n",
              "      <td>2</td>\n",
              "      <td>0</td>\n",
              "      <td>157267</td>\n",
              "      <td>history_of_present_illness</td>\n",
              "      <td>['Discharge summary']</td>\n",
              "      <td>['C0022661', 'C0019829', 'C0010068', 'C0004238...</td>\n",
              "      <td>['Kidney Failure, Chronic', 'Hodgkin Disease',...</td>\n",
              "      <td>['Kidney Failure, Chronic', 'Hodgkin Disease',...</td>\n",
              "    </tr>\n",
              "    <tr>\n",
              "      <th>3</th>\n",
              "      <td>3</td>\n",
              "      <td>3</td>\n",
              "      <td>0</td>\n",
              "      <td>157267</td>\n",
              "      <td>labs_and_studies</td>\n",
              "      <td>['Discharge summary']</td>\n",
              "      <td>['C0002893', 'C1704493', 'C0001314', 'C0030193...</td>\n",
              "      <td>['Refractory anemias', 'Neutral Sidebent Rotat...</td>\n",
              "      <td>['Refractory anemias', 'Neutral Sidebent Rotat...</td>\n",
              "    </tr>\n",
              "    <tr>\n",
              "      <th>4</th>\n",
              "      <td>4</td>\n",
              "      <td>4</td>\n",
              "      <td>0</td>\n",
              "      <td>157267</td>\n",
              "      <td>past_medical_history</td>\n",
              "      <td>['Discharge summary' 'Radiology']</td>\n",
              "      <td>['C0022661', 'C0019829', 'C0008574', 'C0003855...</td>\n",
              "      <td>['Kidney Failure, Chronic', 'Hodgkin Disease',...</td>\n",
              "      <td>['Kidney Failure, Chronic', 'Hodgkin Disease',...</td>\n",
              "    </tr>\n",
              "  </tbody>\n",
              "</table>\n",
              "</div>\n",
              "      <button class=\"colab-df-convert\" onclick=\"convertToInteractive('df-0e810f52-8f48-4ff6-818f-c6f0ff389b93')\"\n",
              "              title=\"Convert this dataframe to an interactive table.\"\n",
              "              style=\"display:none;\">\n",
              "        \n",
              "  <svg xmlns=\"http://www.w3.org/2000/svg\" height=\"24px\"viewBox=\"0 0 24 24\"\n",
              "       width=\"24px\">\n",
              "    <path d=\"M0 0h24v24H0V0z\" fill=\"none\"/>\n",
              "    <path d=\"M18.56 5.44l.94 2.06.94-2.06 2.06-.94-2.06-.94-.94-2.06-.94 2.06-2.06.94zm-11 1L8.5 8.5l.94-2.06 2.06-.94-2.06-.94L8.5 2.5l-.94 2.06-2.06.94zm10 10l.94 2.06.94-2.06 2.06-.94-2.06-.94-.94-2.06-.94 2.06-2.06.94z\"/><path d=\"M17.41 7.96l-1.37-1.37c-.4-.4-.92-.59-1.43-.59-.52 0-1.04.2-1.43.59L10.3 9.45l-7.72 7.72c-.78.78-.78 2.05 0 2.83L4 21.41c.39.39.9.59 1.41.59.51 0 1.02-.2 1.41-.59l7.78-7.78 2.81-2.81c.8-.78.8-2.07 0-2.86zM5.41 20L4 18.59l7.72-7.72 1.47 1.35L5.41 20z\"/>\n",
              "  </svg>\n",
              "      </button>\n",
              "      \n",
              "  <style>\n",
              "    .colab-df-container {\n",
              "      display:flex;\n",
              "      flex-wrap:wrap;\n",
              "      gap: 12px;\n",
              "    }\n",
              "\n",
              "    .colab-df-convert {\n",
              "      background-color: #E8F0FE;\n",
              "      border: none;\n",
              "      border-radius: 50%;\n",
              "      cursor: pointer;\n",
              "      display: none;\n",
              "      fill: #1967D2;\n",
              "      height: 32px;\n",
              "      padding: 0 0 0 0;\n",
              "      width: 32px;\n",
              "    }\n",
              "\n",
              "    .colab-df-convert:hover {\n",
              "      background-color: #E2EBFA;\n",
              "      box-shadow: 0px 1px 2px rgba(60, 64, 67, 0.3), 0px 1px 3px 1px rgba(60, 64, 67, 0.15);\n",
              "      fill: #174EA6;\n",
              "    }\n",
              "\n",
              "    [theme=dark] .colab-df-convert {\n",
              "      background-color: #3B4455;\n",
              "      fill: #D2E3FC;\n",
              "    }\n",
              "\n",
              "    [theme=dark] .colab-df-convert:hover {\n",
              "      background-color: #434B5C;\n",
              "      box-shadow: 0px 1px 3px 1px rgba(0, 0, 0, 0.15);\n",
              "      filter: drop-shadow(0px 1px 2px rgba(0, 0, 0, 0.3));\n",
              "      fill: #FFFFFF;\n",
              "    }\n",
              "  </style>\n",
              "\n",
              "      <script>\n",
              "        const buttonEl =\n",
              "          document.querySelector('#df-0e810f52-8f48-4ff6-818f-c6f0ff389b93 button.colab-df-convert');\n",
              "        buttonEl.style.display =\n",
              "          google.colab.kernel.accessAllowed ? 'block' : 'none';\n",
              "\n",
              "        async function convertToInteractive(key) {\n",
              "          const element = document.querySelector('#df-0e810f52-8f48-4ff6-818f-c6f0ff389b93');\n",
              "          const dataTable =\n",
              "            await google.colab.kernel.invokeFunction('convertToInteractive',\n",
              "                                                     [key], {});\n",
              "          if (!dataTable) return;\n",
              "\n",
              "          const docLinkHtml = 'Like what you see? Visit the ' +\n",
              "            '<a target=\"_blank\" href=https://colab.research.google.com/notebooks/data_table.ipynb>data table notebook</a>'\n",
              "            + ' to learn more about interactive tables.';\n",
              "          element.innerHTML = '';\n",
              "          dataTable['output_type'] = 'display_data';\n",
              "          await google.colab.output.renderOutput(dataTable, element);\n",
              "          const docLink = document.createElement('div');\n",
              "          docLink.innerHTML = docLinkHtml;\n",
              "          element.appendChild(docLink);\n",
              "        }\n",
              "      </script>\n",
              "    </div>\n",
              "  </div>\n",
              "  "
            ]
          },
          "metadata": {},
          "execution_count": 4
        }
      ]
    },
    {
      "cell_type": "markdown",
      "source": [
        "#ساخت پیکره تجمیعی\n",
        "## در این بخش برای هر بیمار یک رکورد از مفاهیم استخراج شده از قسمت های فوق ایجاد میشود\n"
      ],
      "metadata": {
        "id": "CJgj-hBkdahG"
      }
    },
    {
      "cell_type": "code",
      "source": [
        "import ast"
      ],
      "metadata": {
        "id": "db9B6WxZfv-3"
      },
      "execution_count": 12,
      "outputs": []
    },
    {
      "cell_type": "code",
      "source": [
        "ls_HADM_ID=df.HADM_ID.unique().tolist()\n",
        "ls_corpus_Total=[]\n",
        "k=len(ls_HADM_ID)\n",
        "for i in ls_HADM_ID:\n",
        "  print(k)\n",
        "  k=k-1\n",
        "  ls_Category_HADM_ID=df[df['HADM_ID']==i].category_Inner.unique().tolist()\n",
        "  ls_Intersect=list(set(ls_Category_Prefered) & set(ls_Category_HADM_ID))\n",
        "  ls_Concepts=[]\n",
        "  for j in ls_Intersect:\n",
        "      res=ast.literal_eval(df[(df['HADM_ID']==i) & (df['category_Inner']==j) ].Neg_CUI.tolist()[0])\n",
        "      ls_res=list(set(res))\n",
        "      ls_Concepts=ls_Concepts + ls_res\n",
        "  str_res= ','.join(map(str, list(set(ls_Concepts))))\n",
        "  #print(i,len(list(set(ls_Concepts))),str_res)\n",
        "  ls_corpus_Total.append([i,str_res])"
      ],
      "metadata": {
        "id": "GoU-PdNldkvl"
      },
      "execution_count": null,
      "outputs": []
    },
    {
      "cell_type": "code",
      "source": [
        "df_1=pd.DataFrame(ls_corpus_Total,columns=['label','term'])\n",
        "df_1.to_csv('/content/drive/MyDrive/PaperA3/corpus_BOC.csv')"
      ],
      "metadata": {
        "id": "GzXpIsR6u9Lg"
      },
      "execution_count": 78,
      "outputs": []
    },
    {
      "cell_type": "code",
      "source": [
        "\n",
        "df_1=pd.read_csv('/content/drive/MyDrive/PaperA3/corpus_BOC.csv')\n",
        "df_1['len']= df_1['term'].str.len()\n",
        "df_1['list_CUIs'] = df_1['term'].str.split(',')\n"
      ],
      "metadata": {
        "id": "4ibitlOHFPH6"
      },
      "execution_count": 20,
      "outputs": []
    },
    {
      "cell_type": "code",
      "source": [
        "df_1['number_CUIs']= df_1['list_CUIs'].str.len()"
      ],
      "metadata": {
        "id": "aBfcy4-7VX9U"
      },
      "execution_count": 21,
      "outputs": []
    },
    {
      "cell_type": "code",
      "source": [
        "\n",
        "df_1.drop('Unnamed: 0', axis=1, inplace=True)\n",
        "df_1.head()"
      ],
      "metadata": {
        "colab": {
          "base_uri": "https://localhost:8080/",
          "height": 206
        },
        "id": "-SYY2711NboJ",
        "outputId": "f74b1c2a-4c35-4571-d302-ecc2794234e0"
      },
      "execution_count": 22,
      "outputs": [
        {
          "output_type": "execute_result",
          "data": {
            "text/plain": [
              "    label                                               term    len  \\\n",
              "0  157267  Pressure Ulcer,Abdominal tenderness,Ankle edem...  947.0   \n",
              "1  123103  Edema,Mitral Valve Insufficiency,Lung Volume M...  527.0   \n",
              "2  139931  Sore to touch,Transverse colon,Communicable Di...  750.0   \n",
              "3  198295  Lactates,GEN1 gene,Hypoventilation,Edema,Shock...  827.0   \n",
              "4  177962  Hyperlipidemia,Left Ventricular Function,Non-S...  686.0   \n",
              "\n",
              "                                           list_CUIs  number_CUIs  \n",
              "0  [Pressure Ulcer, Abdominal tenderness, Ankle e...         61.0  \n",
              "1  [Edema, Mitral Valve Insufficiency, Lung Volum...         28.0  \n",
              "2  [Sore to touch, Transverse colon, Communicable...         44.0  \n",
              "3  [Lactates, GEN1 gene, Hypoventilation, Edema, ...         56.0  \n",
              "4  [Hyperlipidemia, Left Ventricular Function, No...         40.0  "
            ],
            "text/html": [
              "\n",
              "  <div id=\"df-21c92dd9-8f6d-4f0b-93ea-b5a974101894\">\n",
              "    <div class=\"colab-df-container\">\n",
              "      <div>\n",
              "<style scoped>\n",
              "    .dataframe tbody tr th:only-of-type {\n",
              "        vertical-align: middle;\n",
              "    }\n",
              "\n",
              "    .dataframe tbody tr th {\n",
              "        vertical-align: top;\n",
              "    }\n",
              "\n",
              "    .dataframe thead th {\n",
              "        text-align: right;\n",
              "    }\n",
              "</style>\n",
              "<table border=\"1\" class=\"dataframe\">\n",
              "  <thead>\n",
              "    <tr style=\"text-align: right;\">\n",
              "      <th></th>\n",
              "      <th>label</th>\n",
              "      <th>term</th>\n",
              "      <th>len</th>\n",
              "      <th>list_CUIs</th>\n",
              "      <th>number_CUIs</th>\n",
              "    </tr>\n",
              "  </thead>\n",
              "  <tbody>\n",
              "    <tr>\n",
              "      <th>0</th>\n",
              "      <td>157267</td>\n",
              "      <td>Pressure Ulcer,Abdominal tenderness,Ankle edem...</td>\n",
              "      <td>947.0</td>\n",
              "      <td>[Pressure Ulcer, Abdominal tenderness, Ankle e...</td>\n",
              "      <td>61.0</td>\n",
              "    </tr>\n",
              "    <tr>\n",
              "      <th>1</th>\n",
              "      <td>123103</td>\n",
              "      <td>Edema,Mitral Valve Insufficiency,Lung Volume M...</td>\n",
              "      <td>527.0</td>\n",
              "      <td>[Edema, Mitral Valve Insufficiency, Lung Volum...</td>\n",
              "      <td>28.0</td>\n",
              "    </tr>\n",
              "    <tr>\n",
              "      <th>2</th>\n",
              "      <td>139931</td>\n",
              "      <td>Sore to touch,Transverse colon,Communicable Di...</td>\n",
              "      <td>750.0</td>\n",
              "      <td>[Sore to touch, Transverse colon, Communicable...</td>\n",
              "      <td>44.0</td>\n",
              "    </tr>\n",
              "    <tr>\n",
              "      <th>3</th>\n",
              "      <td>198295</td>\n",
              "      <td>Lactates,GEN1 gene,Hypoventilation,Edema,Shock...</td>\n",
              "      <td>827.0</td>\n",
              "      <td>[Lactates, GEN1 gene, Hypoventilation, Edema, ...</td>\n",
              "      <td>56.0</td>\n",
              "    </tr>\n",
              "    <tr>\n",
              "      <th>4</th>\n",
              "      <td>177962</td>\n",
              "      <td>Hyperlipidemia,Left Ventricular Function,Non-S...</td>\n",
              "      <td>686.0</td>\n",
              "      <td>[Hyperlipidemia, Left Ventricular Function, No...</td>\n",
              "      <td>40.0</td>\n",
              "    </tr>\n",
              "  </tbody>\n",
              "</table>\n",
              "</div>\n",
              "      <button class=\"colab-df-convert\" onclick=\"convertToInteractive('df-21c92dd9-8f6d-4f0b-93ea-b5a974101894')\"\n",
              "              title=\"Convert this dataframe to an interactive table.\"\n",
              "              style=\"display:none;\">\n",
              "        \n",
              "  <svg xmlns=\"http://www.w3.org/2000/svg\" height=\"24px\"viewBox=\"0 0 24 24\"\n",
              "       width=\"24px\">\n",
              "    <path d=\"M0 0h24v24H0V0z\" fill=\"none\"/>\n",
              "    <path d=\"M18.56 5.44l.94 2.06.94-2.06 2.06-.94-2.06-.94-.94-2.06-.94 2.06-2.06.94zm-11 1L8.5 8.5l.94-2.06 2.06-.94-2.06-.94L8.5 2.5l-.94 2.06-2.06.94zm10 10l.94 2.06.94-2.06 2.06-.94-2.06-.94-.94-2.06-.94 2.06-2.06.94z\"/><path d=\"M17.41 7.96l-1.37-1.37c-.4-.4-.92-.59-1.43-.59-.52 0-1.04.2-1.43.59L10.3 9.45l-7.72 7.72c-.78.78-.78 2.05 0 2.83L4 21.41c.39.39.9.59 1.41.59.51 0 1.02-.2 1.41-.59l7.78-7.78 2.81-2.81c.8-.78.8-2.07 0-2.86zM5.41 20L4 18.59l7.72-7.72 1.47 1.35L5.41 20z\"/>\n",
              "  </svg>\n",
              "      </button>\n",
              "      \n",
              "  <style>\n",
              "    .colab-df-container {\n",
              "      display:flex;\n",
              "      flex-wrap:wrap;\n",
              "      gap: 12px;\n",
              "    }\n",
              "\n",
              "    .colab-df-convert {\n",
              "      background-color: #E8F0FE;\n",
              "      border: none;\n",
              "      border-radius: 50%;\n",
              "      cursor: pointer;\n",
              "      display: none;\n",
              "      fill: #1967D2;\n",
              "      height: 32px;\n",
              "      padding: 0 0 0 0;\n",
              "      width: 32px;\n",
              "    }\n",
              "\n",
              "    .colab-df-convert:hover {\n",
              "      background-color: #E2EBFA;\n",
              "      box-shadow: 0px 1px 2px rgba(60, 64, 67, 0.3), 0px 1px 3px 1px rgba(60, 64, 67, 0.15);\n",
              "      fill: #174EA6;\n",
              "    }\n",
              "\n",
              "    [theme=dark] .colab-df-convert {\n",
              "      background-color: #3B4455;\n",
              "      fill: #D2E3FC;\n",
              "    }\n",
              "\n",
              "    [theme=dark] .colab-df-convert:hover {\n",
              "      background-color: #434B5C;\n",
              "      box-shadow: 0px 1px 3px 1px rgba(0, 0, 0, 0.15);\n",
              "      filter: drop-shadow(0px 1px 2px rgba(0, 0, 0, 0.3));\n",
              "      fill: #FFFFFF;\n",
              "    }\n",
              "  </style>\n",
              "\n",
              "      <script>\n",
              "        const buttonEl =\n",
              "          document.querySelector('#df-21c92dd9-8f6d-4f0b-93ea-b5a974101894 button.colab-df-convert');\n",
              "        buttonEl.style.display =\n",
              "          google.colab.kernel.accessAllowed ? 'block' : 'none';\n",
              "\n",
              "        async function convertToInteractive(key) {\n",
              "          const element = document.querySelector('#df-21c92dd9-8f6d-4f0b-93ea-b5a974101894');\n",
              "          const dataTable =\n",
              "            await google.colab.kernel.invokeFunction('convertToInteractive',\n",
              "                                                     [key], {});\n",
              "          if (!dataTable) return;\n",
              "\n",
              "          const docLinkHtml = 'Like what you see? Visit the ' +\n",
              "            '<a target=\"_blank\" href=https://colab.research.google.com/notebooks/data_table.ipynb>data table notebook</a>'\n",
              "            + ' to learn more about interactive tables.';\n",
              "          element.innerHTML = '';\n",
              "          dataTable['output_type'] = 'display_data';\n",
              "          await google.colab.output.renderOutput(dataTable, element);\n",
              "          const docLink = document.createElement('div');\n",
              "          docLink.innerHTML = docLinkHtml;\n",
              "          element.appendChild(docLink);\n",
              "        }\n",
              "      </script>\n",
              "    </div>\n",
              "  </div>\n",
              "  "
            ]
          },
          "metadata": {},
          "execution_count": 22
        }
      ]
    },
    {
      "cell_type": "code",
      "source": [
        "df_1.describe()"
      ],
      "metadata": {
        "colab": {
          "base_uri": "https://localhost:8080/",
          "height": 280
        },
        "id": "ZWo_jS7uNTU6",
        "outputId": "a60129ee-b8df-4c1c-fdab-3aad3db9824d"
      },
      "execution_count": 23,
      "outputs": [
        {
          "output_type": "execute_result",
          "data": {
            "text/plain": [
              "                len   number_CUIs\n",
              "count  24538.000000  24538.000000\n",
              "mean    1321.528242     84.244885\n",
              "std      933.178169     59.540646\n",
              "min        7.000000      1.000000\n",
              "25%      708.000000     45.000000\n",
              "50%     1099.000000     70.000000\n",
              "75%     1658.000000    106.000000\n",
              "max    10867.000000    646.000000"
            ],
            "text/html": [
              "\n",
              "  <div id=\"df-cc1ffde7-2c1d-4ad5-a6ec-fc55019e83cd\">\n",
              "    <div class=\"colab-df-container\">\n",
              "      <div>\n",
              "<style scoped>\n",
              "    .dataframe tbody tr th:only-of-type {\n",
              "        vertical-align: middle;\n",
              "    }\n",
              "\n",
              "    .dataframe tbody tr th {\n",
              "        vertical-align: top;\n",
              "    }\n",
              "\n",
              "    .dataframe thead th {\n",
              "        text-align: right;\n",
              "    }\n",
              "</style>\n",
              "<table border=\"1\" class=\"dataframe\">\n",
              "  <thead>\n",
              "    <tr style=\"text-align: right;\">\n",
              "      <th></th>\n",
              "      <th>len</th>\n",
              "      <th>number_CUIs</th>\n",
              "    </tr>\n",
              "  </thead>\n",
              "  <tbody>\n",
              "    <tr>\n",
              "      <th>count</th>\n",
              "      <td>24538.000000</td>\n",
              "      <td>24538.000000</td>\n",
              "    </tr>\n",
              "    <tr>\n",
              "      <th>mean</th>\n",
              "      <td>1321.528242</td>\n",
              "      <td>84.244885</td>\n",
              "    </tr>\n",
              "    <tr>\n",
              "      <th>std</th>\n",
              "      <td>933.178169</td>\n",
              "      <td>59.540646</td>\n",
              "    </tr>\n",
              "    <tr>\n",
              "      <th>min</th>\n",
              "      <td>7.000000</td>\n",
              "      <td>1.000000</td>\n",
              "    </tr>\n",
              "    <tr>\n",
              "      <th>25%</th>\n",
              "      <td>708.000000</td>\n",
              "      <td>45.000000</td>\n",
              "    </tr>\n",
              "    <tr>\n",
              "      <th>50%</th>\n",
              "      <td>1099.000000</td>\n",
              "      <td>70.000000</td>\n",
              "    </tr>\n",
              "    <tr>\n",
              "      <th>75%</th>\n",
              "      <td>1658.000000</td>\n",
              "      <td>106.000000</td>\n",
              "    </tr>\n",
              "    <tr>\n",
              "      <th>max</th>\n",
              "      <td>10867.000000</td>\n",
              "      <td>646.000000</td>\n",
              "    </tr>\n",
              "  </tbody>\n",
              "</table>\n",
              "</div>\n",
              "      <button class=\"colab-df-convert\" onclick=\"convertToInteractive('df-cc1ffde7-2c1d-4ad5-a6ec-fc55019e83cd')\"\n",
              "              title=\"Convert this dataframe to an interactive table.\"\n",
              "              style=\"display:none;\">\n",
              "        \n",
              "  <svg xmlns=\"http://www.w3.org/2000/svg\" height=\"24px\"viewBox=\"0 0 24 24\"\n",
              "       width=\"24px\">\n",
              "    <path d=\"M0 0h24v24H0V0z\" fill=\"none\"/>\n",
              "    <path d=\"M18.56 5.44l.94 2.06.94-2.06 2.06-.94-2.06-.94-.94-2.06-.94 2.06-2.06.94zm-11 1L8.5 8.5l.94-2.06 2.06-.94-2.06-.94L8.5 2.5l-.94 2.06-2.06.94zm10 10l.94 2.06.94-2.06 2.06-.94-2.06-.94-.94-2.06-.94 2.06-2.06.94z\"/><path d=\"M17.41 7.96l-1.37-1.37c-.4-.4-.92-.59-1.43-.59-.52 0-1.04.2-1.43.59L10.3 9.45l-7.72 7.72c-.78.78-.78 2.05 0 2.83L4 21.41c.39.39.9.59 1.41.59.51 0 1.02-.2 1.41-.59l7.78-7.78 2.81-2.81c.8-.78.8-2.07 0-2.86zM5.41 20L4 18.59l7.72-7.72 1.47 1.35L5.41 20z\"/>\n",
              "  </svg>\n",
              "      </button>\n",
              "      \n",
              "  <style>\n",
              "    .colab-df-container {\n",
              "      display:flex;\n",
              "      flex-wrap:wrap;\n",
              "      gap: 12px;\n",
              "    }\n",
              "\n",
              "    .colab-df-convert {\n",
              "      background-color: #E8F0FE;\n",
              "      border: none;\n",
              "      border-radius: 50%;\n",
              "      cursor: pointer;\n",
              "      display: none;\n",
              "      fill: #1967D2;\n",
              "      height: 32px;\n",
              "      padding: 0 0 0 0;\n",
              "      width: 32px;\n",
              "    }\n",
              "\n",
              "    .colab-df-convert:hover {\n",
              "      background-color: #E2EBFA;\n",
              "      box-shadow: 0px 1px 2px rgba(60, 64, 67, 0.3), 0px 1px 3px 1px rgba(60, 64, 67, 0.15);\n",
              "      fill: #174EA6;\n",
              "    }\n",
              "\n",
              "    [theme=dark] .colab-df-convert {\n",
              "      background-color: #3B4455;\n",
              "      fill: #D2E3FC;\n",
              "    }\n",
              "\n",
              "    [theme=dark] .colab-df-convert:hover {\n",
              "      background-color: #434B5C;\n",
              "      box-shadow: 0px 1px 3px 1px rgba(0, 0, 0, 0.15);\n",
              "      filter: drop-shadow(0px 1px 2px rgba(0, 0, 0, 0.3));\n",
              "      fill: #FFFFFF;\n",
              "    }\n",
              "  </style>\n",
              "\n",
              "      <script>\n",
              "        const buttonEl =\n",
              "          document.querySelector('#df-cc1ffde7-2c1d-4ad5-a6ec-fc55019e83cd button.colab-df-convert');\n",
              "        buttonEl.style.display =\n",
              "          google.colab.kernel.accessAllowed ? 'block' : 'none';\n",
              "\n",
              "        async function convertToInteractive(key) {\n",
              "          const element = document.querySelector('#df-cc1ffde7-2c1d-4ad5-a6ec-fc55019e83cd');\n",
              "          const dataTable =\n",
              "            await google.colab.kernel.invokeFunction('convertToInteractive',\n",
              "                                                     [key], {});\n",
              "          if (!dataTable) return;\n",
              "\n",
              "          const docLinkHtml = 'Like what you see? Visit the ' +\n",
              "            '<a target=\"_blank\" href=https://colab.research.google.com/notebooks/data_table.ipynb>data table notebook</a>'\n",
              "            + ' to learn more about interactive tables.';\n",
              "          element.innerHTML = '';\n",
              "          dataTable['output_type'] = 'display_data';\n",
              "          await google.colab.output.renderOutput(dataTable, element);\n",
              "          const docLink = document.createElement('div');\n",
              "          docLink.innerHTML = docLinkHtml;\n",
              "          element.appendChild(docLink);\n",
              "        }\n",
              "      </script>\n",
              "    </div>\n",
              "  </div>\n",
              "  "
            ]
          },
          "metadata": {},
          "execution_count": 23
        }
      ]
    },
    {
      "cell_type": "code",
      "source": [
        "df_1['number_CUIs'].tolist()"
      ],
      "metadata": {
        "id": "xr9Zy_WdWqw0"
      },
      "execution_count": null,
      "outputs": []
    },
    {
      "cell_type": "code",
      "source": [
        "import seaborn as sns\n",
        "sns.set_theme(style=\"whitegrid\")\n",
        "sns.set(rc={'figure.figsize':(15,6)})\n",
        "tips = sns.load_dataset(\"tips\")\n",
        "ax = sns.boxplot(x=df_1['number_CUIs'])"
      ],
      "metadata": {
        "colab": {
          "base_uri": "https://localhost:8080/",
          "height": 394
        },
        "id": "FCY7MLA7V4NK",
        "outputId": "9d335046-c95e-4c21-a86a-63bc8834fb72"
      },
      "execution_count": 54,
      "outputs": [
        {
          "output_type": "display_data",
          "data": {
            "text/plain": [
              "<Figure size 1080x432 with 1 Axes>"
            ],
            "image/png": "[encoded data removed]"
          },
          "metadata": {}
        }
      ]
    },
    {
      "cell_type": "code",
      "source": [
        "df_1.to_csv('/content/drive/MyDrive/PaperA3/corpus_BOC.csv')"
      ],
      "metadata": {
        "id": "uqQuRfIYaj_l"
      },
      "execution_count": 55,
      "outputs": []
    }
  ]
}