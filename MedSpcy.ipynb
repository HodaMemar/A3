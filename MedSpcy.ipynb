{
  "cells": [
    {
      "cell_type": "markdown",
      "metadata": {
        "id": "view-in-github",
        "colab_type": "text"
      },
      "source": [
        "<a href=\"https://colab.research.google.com/github/HodaMemar/A3/blob/main/MedSpcy.ipynb\" target=\"_parent\"><img src=\"https://colab.research.google.com/assets/colab-badge.svg\" alt=\"Open In Colab\"/></a>"
      ]
    },
    {
      "cell_type": "code",
      "execution_count": null,
      "metadata": {
        "colab": {
          "base_uri": "https://localhost:8080/"
        },
        "id": "DkHR6KzKZESK",
        "outputId": "39c0476a-e305-4703-9dfd-cf22ebe4a6d4"
      },
      "outputs": [
        {
          "name": "stdout",
          "output_type": "stream",
          "text": [
            "Mounted at /content/mydrive/\n",
            "mydrive  sample_data\n"
          ]
        }
      ],
      "source": [
        "from google.colab import drive\n",
        "drive.mount('/content/mydrive/')\n",
        "!ls"
      ]
    },
    {
      "cell_type": "code",
      "execution_count": null,
      "metadata": {
        "id": "BKpzjTvDifEN"
      },
      "outputs": [],
      "source": [
        "!pip install medspacy"
      ]
    },
    {
      "cell_type": "code",
      "execution_count": null,
      "metadata": {
        "id": "BvC8-RA_0LRk"
      },
      "outputs": [],
      "source": [
        "import medspacy\n",
        "import pandas as pd\n",
        "nlp = medspacy.load()\n",
        "sectionizer = nlp.add_pipe(\"medspacy_sectionizer\")"
      ]
    },
    {
      "cell_type": "code",
      "execution_count": null,
      "metadata": {
        "id": "7z1QdcHVed5P"
      },
      "outputs": [],
      "source": [
        "def nlp_sections(x):\n",
        "      doc=nlp(x)\n",
        "      sections = doc._.sections\n",
        "      return sections"
      ]
    },
    {
      "cell_type": "code",
      "execution_count": null,
      "metadata": {
        "id": "F3zxo4Heef86"
      },
      "outputs": [],
      "source": [
        ""
      ]
    },
    {
      "cell_type": "markdown",
      "source": [
        "پاکسازی اولیه متن"
      ],
      "metadata": {
        "id": "9clc64hhlLzu"
      }
    },
    {
      "cell_type": "code",
      "execution_count": null,
      "metadata": {
        "colab": {
          "base_uri": "https://localhost:8080/"
        },
        "id": "SquysEW0xjxQ",
        "outputId": "692a9446-2643-4b7d-c45a-97c7fdb1e76c"
      },
      "outputs": [
        {
          "name": "stderr",
          "output_type": "stream",
          "text": [
            "<input>:4: DeprecationWarning: invalid escape sequence \\.\n",
            "<input>:4: DeprecationWarning: invalid escape sequence \\.\n",
            "<input>:5: DeprecationWarning: invalid escape sequence \\.\n",
            "<input>:4: DeprecationWarning: invalid escape sequence \\.\n",
            "<input>:5: DeprecationWarning: invalid escape sequence \\.\n",
            "<input>:6: DeprecationWarning: invalid escape sequence \\.\n",
            "<input>:4: DeprecationWarning: invalid escape sequence \\.\n",
            "<input>:5: DeprecationWarning: invalid escape sequence \\.\n",
            "<input>:6: DeprecationWarning: invalid escape sequence \\.\n",
            "<input>:4: DeprecationWarning: invalid escape sequence \\.\n",
            "<input>:5: DeprecationWarning: invalid escape sequence \\.\n",
            "<input>:6: DeprecationWarning: invalid escape sequence \\.\n",
            "<input>:4: DeprecationWarning: invalid escape sequence \\.\n",
            "<input>:5: DeprecationWarning: invalid escape sequence \\.\n",
            "<input>:6: DeprecationWarning: invalid escape sequence \\.\n",
            "<input>:4: DeprecationWarning: invalid escape sequence \\.\n",
            "<input>:5: DeprecationWarning: invalid escape sequence \\.\n",
            "<input>:6: DeprecationWarning: invalid escape sequence \\.\n",
            "<input>:4: DeprecationWarning: invalid escape sequence \\.\n",
            "<input>:5: DeprecationWarning: invalid escape sequence \\.\n",
            "<input>:6: DeprecationWarning: invalid escape sequence \\.\n",
            "<input>:4: DeprecationWarning: invalid escape sequence \\.\n",
            "<input>:5: DeprecationWarning: invalid escape sequence \\.\n",
            "<input>:6: DeprecationWarning: invalid escape sequence \\.\n",
            "<input>:4: DeprecationWarning: invalid escape sequence \\.\n",
            "<input>:5: DeprecationWarning: invalid escape sequence \\.\n",
            "<input>:6: DeprecationWarning: invalid escape sequence \\.\n",
            "<input>:4: DeprecationWarning: invalid escape sequence \\.\n",
            "<input>:5: DeprecationWarning: invalid escape sequence \\.\n",
            "<input>:6: DeprecationWarning: invalid escape sequence \\.\n",
            "<input>:4: DeprecationWarning: invalid escape sequence \\.\n",
            "<input>:5: DeprecationWarning: invalid escape sequence \\.\n",
            "<input>:6: DeprecationWarning: invalid escape sequence \\.\n",
            "<ipython-input-5-9c175be50414>:4: DeprecationWarning: invalid escape sequence \\.\n",
            "  y=re.sub('[0-9]+\\.','',y) #remove 1.2. since the segmenter segments based on this\n",
            "<ipython-input-5-9c175be50414>:5: DeprecationWarning: invalid escape sequence \\.\n",
            "  y=re.sub('dr\\.','doctor',y)\n",
            "<ipython-input-5-9c175be50414>:6: DeprecationWarning: invalid escape sequence \\.\n",
            "  y=re.sub('m\\.d\\.','md',y)\n"
          ]
        }
      ],
      "source": [
        "import re\n",
        "def preprocess(x):\n",
        "    y=re.sub('\\\\[(.*?)\\\\]','',x) #remove de-identified brackets\n",
        "    y=re.sub('[0-9]+\\.','',y) #remove 1.2. since the segmenter segments based on this\n",
        "    y=re.sub('dr\\.','doctor',y)\n",
        "    y=re.sub('m\\.d\\.','md',y)\n",
        "    y=re.sub('admission date:','',y)\n",
        "    y=re.sub('Admission Date:','',y)\n",
        "    y=re.sub('discharge date:','',y)\n",
        "    y=re.sub('Discharge Date:','',y)\n",
        "    y=re.sub('Date of Birth:','',y)\n",
        "    y=re.sub('date of birth:','',y)\n",
        "    y=re.sub('--|__|==','',y)\n",
        "    y = y.strip()\n",
        "    return y"
      ]
    },
    {
      "cell_type": "markdown",
      "source": [
        "در این بخش داده های فایل های مختلف جداگانه برای شناسایی قسمت ها پردازش میشوند"
      ],
      "metadata": {
        "id": "QHE_azm9lRvn"
      }
    },
    {
      "cell_type": "code",
      "execution_count": null,
      "metadata": {
        "colab": {
          "background_save": true
        },
        "id": "elaPNpKvyzG_"
      },
      "outputs": [],
      "source": [
        "\n",
        "%%time\n",
        "\n",
        "\n",
        "for chunk_index in (9,13,14) :\n",
        "    filename=\"/content/mydrive/MyDrive/PaperA3/Notes/Notes_\"+str(chunk_index)+\".csv\"\n",
        "    \n",
        "    df=pd.read_csv(filename)\n",
        "    print(filename)\n",
        "    #if (chunk_index>0):\n",
        "    #  break;\n",
        "    ls_notes=[]\n",
        "    for i in range(len(df)):\n",
        "      print(i)\n",
        "      print(\"\\n\")\n",
        "      text=df.iloc[i]['TEXT']\n",
        "      doc=nlp(text)\n",
        "      sections = doc._.sections\n",
        "      for j in range(len(sections)):\n",
        "        mystr=sections[j].body_span.text\n",
        "        mystr_Wothout_line=preprocess(mystr)\n",
        "        ls_notes.append([df.iloc[i]['HADM_ID'],df.iloc[i]['DRG_CODE'],\n",
        "                         df.iloc[i]['GENDER'],df.iloc[i]['AGE'],\n",
        "                         df.iloc[i]['CHARTDATE'],\n",
        "                         df.iloc[i]['CATEGORY'],df.iloc[i]['TAA'],\n",
        "                         sections[j].title_span.text,sections[j].body_span.text,\n",
        "                         sections[j].category,mystr_Wothout_line])\n",
        "    df2=pd.DataFrame(ls_notes,columns=[\"HADM_ID\",\"DRG_CODE\",'GENDER','AGE','CHARTDATE','CATEGORY',\"TAA\",\n",
        "                                       \"title_span\",\"body_span\",\"category_Inner\",\"body_span_Wothout_line\"]) \n",
        "    filename=\"section_\"+str(chunk_index)+\".csv\"\n",
        "    df2.to_csv(\"/content/mydrive/MyDrive/PaperA3/Section/\" + filename)\n",
        "\n"
      ]
    }
  ],
  "metadata": {
    "colab": {
      "collapsed_sections": [],
      "name": "MedSpcy.ipynb",
      "provenance": [],
      "authorship_tag": "ABX9TyN0ez5cbuSI+nLa3mC9w3x8",
      "include_colab_link": true
    },
    "kernelspec": {
      "display_name": "Python 3",
      "name": "python3"
    },
    "language_info": {
      "name": "python"
    }
  },
  "nbformat": 4,
  "nbformat_minor": 0
}