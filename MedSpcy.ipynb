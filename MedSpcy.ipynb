{
  "cells": [
    {
      "cell_type": "markdown",
      "metadata": {
        "id": "view-in-github",
        "colab_type": "text"
      },
      "source": [
        "<a href=\"https://colab.research.google.com/github/HodaMemar/A3/blob/main/MedSpcy.ipynb\" target=\"_parent\"><img src=\"https://colab.research.google.com/assets/colab-badge.svg\" alt=\"Open In Colab\"/></a>"
      ]
    },
    {
      "cell_type": "code",
      "execution_count": null,
      "metadata": {
        "colab": {
          "base_uri": "https://localhost:8080/"
        },
        "id": "DkHR6KzKZESK",
        "outputId": "39c0476a-e305-4703-9dfd-cf22ebe4a6d4"
      },
      "outputs": [
        {
          "name": "stdout",
          "output_type": "stream",
          "text": [
            "Mounted at /content/mydrive/\n",
            "mydrive  sample_data\n"
          ]
        }
      ],
      "source": [
        "from google.colab import drive\n",
        "drive.mount('/content/mydrive/')\n",
        "!ls"
      ]
    },
    {
      "cell_type": "code",
      "execution_count": null,
      "metadata": {
        "colab": {
          "base_uri": "https://localhost:8080/",
          "height": 1000
        },
        "id": "BKpzjTvDifEN",
        "outputId": "0fc7cc09-1706-4824-c7bb-d569a379eab2"
      },
      "outputs": [
        {
          "name": "stdout",
          "output_type": "stream",
          "text": [
            "Looking in indexes: https://pypi.org/simple, https://us-python.pkg.dev/colab-wheels/public/simple/\n",
            "Collecting medspacy\n",
            "  Downloading medspacy-0.2.0.0.tar.gz (111 kB)\n",
            "\u001b[K     |████████████████████████████████| 111 kB 7.3 MB/s \n",
            "\u001b[?25hCollecting spacy<3.2.0,>=3.1.3\n",
            "  Downloading spacy-3.1.6-cp37-cp37m-manylinux_2_17_x86_64.manylinux2014_x86_64.whl (5.9 MB)\n",
            "\u001b[K     |████████████████████████████████| 5.9 MB 49.1 MB/s \n",
            "\u001b[?25hCollecting PyRuSH>=1.0.3.5\n",
            "  Downloading PyRuSH-1.0.3.6-cp37-cp37m-manylinux_2_5_x86_64.manylinux1_x86_64.manylinux_2_17_x86_64.manylinux2014_x86_64.whl (69 kB)\n",
            "\u001b[K     |████████████████████████████████| 69 kB 6.8 MB/s \n",
            "\u001b[?25hCollecting pysbd==0.3.4\n",
            "  Downloading pysbd-0.3.4-py3-none-any.whl (71 kB)\n",
            "\u001b[K     |████████████████████████████████| 71 kB 7.7 MB/s \n",
            "\u001b[?25hRequirement already satisfied: jsonschema in /usr/local/lib/python3.7/dist-packages (from medspacy) (4.3.3)\n",
            "Collecting requests<2.16,>=2.13.0\n",
            "  Downloading requests-2.15.1-py2.py3-none-any.whl (558 kB)\n",
            "\u001b[K     |████████████████████████████████| 558 kB 50.8 MB/s \n",
            "\u001b[?25hRequirement already satisfied: six>=1.14.0 in /usr/local/lib/python3.7/dist-packages (from medspacy) (1.15.0)\n",
            "Collecting medspacy_quickumls>=2.4.1\n",
            "  Downloading medspacy_quickumls-2.4.1.tar.gz (25 kB)\n",
            "Collecting leveldb>=0.193\n",
            "  Downloading leveldb-0.201.tar.gz (236 kB)\n",
            "\u001b[K     |████████████████████████████████| 236 kB 54.3 MB/s \n",
            "\u001b[?25hRequirement already satisfied: numpy>=1.8.2 in /usr/local/lib/python3.7/dist-packages (from medspacy_quickumls>=2.4.1->medspacy) (1.21.6)\n",
            "Collecting unidecode>=0.4.19\n",
            "  Downloading Unidecode-1.3.4-py3-none-any.whl (235 kB)\n",
            "\u001b[K     |████████████████████████████████| 235 kB 50.6 MB/s \n",
            "\u001b[?25hCollecting nltk>=3.3\n",
            "  Downloading nltk-3.7-py3-none-any.whl (1.5 MB)\n",
            "\u001b[K     |████████████████████████████████| 1.5 MB 35.5 MB/s \n",
            "\u001b[?25hCollecting quickumls_simstring>=1.1.5r1\n",
            "  Downloading quickumls_simstring-1.1.5r1.tar.gz (68 kB)\n",
            "\u001b[K     |████████████████████████████████| 68 kB 4.8 MB/s \n",
            "\u001b[?25hCollecting unqlite>=0.8.1\n",
            "  Downloading unqlite-0.9.3.tar.gz (575 kB)\n",
            "\u001b[K     |████████████████████████████████| 575 kB 47.9 MB/s \n",
            "\u001b[?25hCollecting regex>=2021.8.3\n",
            "  Downloading regex-2022.4.24-cp37-cp37m-manylinux_2_17_x86_64.manylinux2014_x86_64.whl (749 kB)\n",
            "\u001b[K     |████████████████████████████████| 749 kB 57.6 MB/s \n",
            "\u001b[?25hRequirement already satisfied: joblib in /usr/local/lib/python3.7/dist-packages (from nltk>=3.3->medspacy_quickumls>=2.4.1->medspacy) (1.1.0)\n",
            "Requirement already satisfied: click in /usr/local/lib/python3.7/dist-packages (from nltk>=3.3->medspacy_quickumls>=2.4.1->medspacy) (7.1.2)\n",
            "Requirement already satisfied: tqdm in /usr/local/lib/python3.7/dist-packages (from nltk>=3.3->medspacy_quickumls>=2.4.1->medspacy) (4.64.0)\n",
            "Collecting PyFastNER>=1.0.8b1\n",
            "  Downloading PyFastNER-1.0.8-py3-none-any.whl (18 kB)\n",
            "Collecting quicksectx>=0.3.1\n",
            "  Downloading quicksectx-0.3.1-cp37-cp37m-manylinux_2_17_x86_64.manylinux2014_x86_64.whl (231 kB)\n",
            "\u001b[K     |████████████████████████████████| 231 kB 58.1 MB/s \n",
            "\u001b[?25hRequirement already satisfied: cython>=0.29 in /usr/local/lib/python3.7/dist-packages (from quicksectx>=0.3.1->PyRuSH>=1.0.3.5->medspacy) (0.29.30)\n",
            "Collecting catalogue<2.1.0,>=2.0.6\n",
            "  Downloading catalogue-2.0.7-py3-none-any.whl (17 kB)\n",
            "Collecting srsly<3.0.0,>=2.4.1\n",
            "  Downloading srsly-2.4.3-cp37-cp37m-manylinux_2_17_x86_64.manylinux2014_x86_64.whl (457 kB)\n",
            "\u001b[K     |████████████████████████████████| 457 kB 48.8 MB/s \n",
            "\u001b[?25hCollecting thinc<8.1.0,>=8.0.12\n",
            "  Downloading thinc-8.0.16-cp37-cp37m-manylinux_2_17_x86_64.manylinux2014_x86_64.whl (660 kB)\n",
            "\u001b[K     |████████████████████████████████| 660 kB 58.2 MB/s \n",
            "\u001b[?25hRequirement already satisfied: cymem<2.1.0,>=2.0.2 in /usr/local/lib/python3.7/dist-packages (from spacy<3.2.0,>=3.1.3->medspacy) (2.0.6)\n",
            "Collecting typing-extensions<4.0.0.0,>=3.7.4\n",
            "  Downloading typing_extensions-3.10.0.2-py3-none-any.whl (26 kB)\n",
            "Requirement already satisfied: preshed<3.1.0,>=3.0.2 in /usr/local/lib/python3.7/dist-packages (from spacy<3.2.0,>=3.1.3->medspacy) (3.0.6)\n",
            "Requirement already satisfied: blis<0.8.0,>=0.4.0 in /usr/local/lib/python3.7/dist-packages (from spacy<3.2.0,>=3.1.3->medspacy) (0.4.1)\n",
            "Collecting spacy-legacy<3.1.0,>=3.0.8\n",
            "  Downloading spacy_legacy-3.0.9-py2.py3-none-any.whl (20 kB)\n",
            "Requirement already satisfied: wasabi<1.1.0,>=0.8.1 in /usr/local/lib/python3.7/dist-packages (from spacy<3.2.0,>=3.1.3->medspacy) (0.9.1)\n",
            "Collecting pathy>=0.3.5\n",
            "  Downloading pathy-0.6.1-py3-none-any.whl (42 kB)\n",
            "\u001b[K     |████████████████████████████████| 42 kB 1.3 MB/s \n",
            "\u001b[?25hCollecting typer<0.5.0,>=0.3.0\n",
            "  Downloading typer-0.4.1-py3-none-any.whl (27 kB)\n",
            "Requirement already satisfied: packaging>=20.0 in /usr/local/lib/python3.7/dist-packages (from spacy<3.2.0,>=3.1.3->medspacy) (21.3)\n",
            "Collecting pydantic!=1.8,!=1.8.1,<1.9.0,>=1.7.4\n",
            "  Downloading pydantic-1.8.2-cp37-cp37m-manylinux2014_x86_64.whl (10.1 MB)\n",
            "\u001b[K     |████████████████████████████████| 10.1 MB 45.2 MB/s \n",
            "\u001b[?25hRequirement already satisfied: jinja2 in /usr/local/lib/python3.7/dist-packages (from spacy<3.2.0,>=3.1.3->medspacy) (2.11.3)\n",
            "Requirement already satisfied: murmurhash<1.1.0,>=0.28.0 in /usr/local/lib/python3.7/dist-packages (from spacy<3.2.0,>=3.1.3->medspacy) (1.0.7)\n",
            "Requirement already satisfied: setuptools in /usr/local/lib/python3.7/dist-packages (from spacy<3.2.0,>=3.1.3->medspacy) (57.4.0)\n",
            "Requirement already satisfied: zipp>=0.5 in /usr/local/lib/python3.7/dist-packages (from catalogue<2.1.0,>=2.0.6->spacy<3.2.0,>=3.1.3->medspacy) (3.8.0)\n",
            "Requirement already satisfied: pyparsing!=3.0.5,>=2.0.2 in /usr/local/lib/python3.7/dist-packages (from packaging>=20.0->spacy<3.2.0,>=3.1.3->medspacy) (3.0.9)\n",
            "Collecting smart-open<6.0.0,>=5.0.0\n",
            "  Downloading smart_open-5.2.1-py3-none-any.whl (58 kB)\n",
            "\u001b[K     |████████████████████████████████| 58 kB 5.8 MB/s \n",
            "\u001b[?25hRequirement already satisfied: MarkupSafe>=0.23 in /usr/local/lib/python3.7/dist-packages (from jinja2->spacy<3.2.0,>=3.1.3->medspacy) (2.0.1)\n",
            "Requirement already satisfied: attrs>=17.4.0 in /usr/local/lib/python3.7/dist-packages (from jsonschema->medspacy) (21.4.0)\n",
            "Requirement already satisfied: importlib-resources>=1.4.0 in /usr/local/lib/python3.7/dist-packages (from jsonschema->medspacy) (5.7.1)\n",
            "Requirement already satisfied: importlib-metadata in /usr/local/lib/python3.7/dist-packages (from jsonschema->medspacy) (4.11.3)\n",
            "Requirement already satisfied: pyrsistent!=0.17.0,!=0.17.1,!=0.17.2,>=0.14.0 in /usr/local/lib/python3.7/dist-packages (from jsonschema->medspacy) (0.18.1)\n",
            "Building wheels for collected packages: medspacy, medspacy-quickumls, leveldb, quickumls-simstring, unqlite\n",
            "  Building wheel for medspacy (setup.py) ... \u001b[?25l\u001b[?25hdone\n",
            "  Created wheel for medspacy: filename=medspacy-0.2.0.0-py3-none-any.whl size=150060 sha256=dd18c4313690025d21eb1a98759c1c05fc817b3f5281940762caae5775e14bdb\n",
            "  Stored in directory: /root/.cache/pip/wheels/ef/6f/76/6f20187af03d9e8d630facda18f8e408ee3c91bdad3c83c84c\n",
            "  Building wheel for medspacy-quickumls (setup.py) ... \u001b[?25l\u001b[?25hdone\n",
            "  Created wheel for medspacy-quickumls: filename=medspacy_quickumls-2.4.1-py3-none-any.whl size=28471 sha256=a0e291cb9354c93b7bbe0341c9e7b4c258128e548347ee786cc9ce67521fa5ec\n",
            "  Stored in directory: /root/.cache/pip/wheels/a0/77/7e/8715c5d67cc1eec9277e8c97a890bb892cf0ac29d2e4f27089\n",
            "  Building wheel for leveldb (setup.py) ... \u001b[?25l\u001b[?25hdone\n",
            "  Created wheel for leveldb: filename=leveldb-0.201-cp37-cp37m-linux_x86_64.whl size=1617065 sha256=c7f0eda21e0472093539127b22b7ab261cbac83d4451804dfbb08a1b14755686\n",
            "  Stored in directory: /root/.cache/pip/wheels/fc/d1/ee/64fc1a724925dcad75d5c740e8cf49fcf3bf0179393e7f2756\n",
            "  Building wheel for quickumls-simstring (setup.py) ... \u001b[?25l\u001b[?25hdone\n",
            "  Created wheel for quickumls-simstring: filename=quickumls_simstring-1.1.5.post1-cp37-cp37m-linux_x86_64.whl size=891900 sha256=23c315b67d2fce9069d6049bf905af571163a6ebda7a5ddad430c24935c3011f\n",
            "  Stored in directory: /root/.cache/pip/wheels/e3/29/f9/a55590ac20c887aefa397945ca53955d82c5368ece09582fec\n",
            "  Building wheel for unqlite (setup.py) ... \u001b[?25l\u001b[?25hdone\n",
            "  Created wheel for unqlite: filename=unqlite-0.9.3-cp37-cp37m-linux_x86_64.whl size=1127471 sha256=3652ffad98cd325fa87043c8342b63e8b77b847396d3704b8370f7500f9abc6e\n",
            "  Stored in directory: /root/.cache/pip/wheels/23/04/2a/9a6be9b5fdef16b0473f19945818a77e5ad344c395f3616764\n",
            "Successfully built medspacy medspacy-quickumls leveldb quickumls-simstring unqlite\n",
            "Installing collected packages: typing-extensions, catalogue, typer, srsly, smart-open, pydantic, thinc, spacy-legacy, requests, regex, quicksectx, pathy, unqlite, unidecode, spacy, quickumls-simstring, PyFastNER, nltk, leveldb, pysbd, PyRuSH, medspacy-quickumls, medspacy\n",
            "  Attempting uninstall: typing-extensions\n",
            "    Found existing installation: typing-extensions 4.2.0\n",
            "    Uninstalling typing-extensions-4.2.0:\n",
            "      Successfully uninstalled typing-extensions-4.2.0\n",
            "  Attempting uninstall: catalogue\n",
            "    Found existing installation: catalogue 1.0.0\n",
            "    Uninstalling catalogue-1.0.0:\n",
            "      Successfully uninstalled catalogue-1.0.0\n",
            "  Attempting uninstall: srsly\n",
            "    Found existing installation: srsly 1.0.5\n",
            "    Uninstalling srsly-1.0.5:\n",
            "      Successfully uninstalled srsly-1.0.5\n",
            "  Attempting uninstall: smart-open\n",
            "    Found existing installation: smart-open 6.0.0\n",
            "    Uninstalling smart-open-6.0.0:\n",
            "      Successfully uninstalled smart-open-6.0.0\n",
            "  Attempting uninstall: thinc\n",
            "    Found existing installation: thinc 7.4.0\n",
            "    Uninstalling thinc-7.4.0:\n",
            "      Successfully uninstalled thinc-7.4.0\n",
            "  Attempting uninstall: requests\n",
            "    Found existing installation: requests 2.23.0\n",
            "    Uninstalling requests-2.23.0:\n",
            "      Successfully uninstalled requests-2.23.0\n",
            "  Attempting uninstall: regex\n",
            "    Found existing installation: regex 2019.12.20\n",
            "    Uninstalling regex-2019.12.20:\n",
            "      Successfully uninstalled regex-2019.12.20\n",
            "  Attempting uninstall: spacy\n",
            "    Found existing installation: spacy 2.2.4\n",
            "    Uninstalling spacy-2.2.4:\n",
            "      Successfully uninstalled spacy-2.2.4\n",
            "  Attempting uninstall: nltk\n",
            "    Found existing installation: nltk 3.2.5\n",
            "    Uninstalling nltk-3.2.5:\n",
            "      Successfully uninstalled nltk-3.2.5\n",
            "\u001b[31mERROR: pip's dependency resolver does not currently take into account all the packages that are installed. This behaviour is the source of the following dependency conflicts.\n",
            "tensorflow 2.8.0+zzzcolab20220506162203 requires tf-estimator-nightly==2.8.0.dev2021122109, which is not installed.\n",
            "tensorflow-datasets 4.0.1 requires requests>=2.19.0, but you have requests 2.15.1 which is incompatible.\n",
            "tensorboard 2.8.0 requires requests<3,>=2.21.0, but you have requests 2.15.1 which is incompatible.\n",
            "pooch 1.6.0 requires requests>=2.19.0, but you have requests 2.15.1 which is incompatible.\n",
            "pandas-datareader 0.9.0 requires requests>=2.19.0, but you have requests 2.15.1 which is incompatible.\n",
            "google-colab 1.0.0 requires requests~=2.23.0, but you have requests 2.15.1 which is incompatible.\n",
            "google-api-core 1.31.5 requires requests<3.0.0dev,>=2.18.0, but you have requests 2.15.1 which is incompatible.\n",
            "datascience 0.10.6 requires folium==0.2.1, but you have folium 0.8.3 which is incompatible.\u001b[0m\n",
            "Successfully installed PyFastNER-1.0.8 PyRuSH-1.0.3.6 catalogue-2.0.7 leveldb-0.201 medspacy-0.2.0.0 medspacy-quickumls-2.4.1 nltk-3.7 pathy-0.6.1 pydantic-1.8.2 pysbd-0.3.4 quicksectx-0.3.1 quickumls-simstring-1.1.5.post1 regex-2022.4.24 requests-2.15.1 smart-open-5.2.1 spacy-3.1.6 spacy-legacy-3.0.9 srsly-2.4.3 thinc-8.0.16 typer-0.4.1 typing-extensions-3.10.0.2 unidecode-1.3.4 unqlite-0.9.3\n"
          ]
        },
        {
          "data": {
            "application/vnd.colab-display-data+json": {
              "pip_warning": {
                "packages": [
                  "typing_extensions"
                ]
              }
            }
          },
          "metadata": {},
          "output_type": "display_data"
        }
      ],
      "source": [
        "!pip install medspacy"
      ]
    },
    {
      "cell_type": "code",
      "execution_count": null,
      "metadata": {
        "id": "BvC8-RA_0LRk"
      },
      "outputs": [],
      "source": [
        "import medspacy\n",
        "import pandas as pd\n",
        "nlp = medspacy.load()\n",
        "sectionizer = nlp.add_pipe(\"medspacy_sectionizer\")"
      ]
    },
    {
      "cell_type": "code",
      "execution_count": null,
      "metadata": {
        "id": "7z1QdcHVed5P"
      },
      "outputs": [],
      "source": [
        "def nlp_sections(x):\n",
        "      doc=nlp(x)\n",
        "      sections = doc._.sections\n",
        "      return sections"
      ]
    },
    {
      "cell_type": "code",
      "execution_count": null,
      "metadata": {
        "id": "F3zxo4Heef86"
      },
      "outputs": [],
      "source": [
        ""
      ]
    },
    {
      "cell_type": "code",
      "execution_count": null,
      "metadata": {
        "colab": {
          "base_uri": "https://localhost:8080/"
        },
        "id": "SquysEW0xjxQ",
        "outputId": "692a9446-2643-4b7d-c45a-97c7fdb1e76c"
      },
      "outputs": [
        {
          "name": "stderr",
          "output_type": "stream",
          "text": [
            "<input>:4: DeprecationWarning: invalid escape sequence \\.\n",
            "<input>:4: DeprecationWarning: invalid escape sequence \\.\n",
            "<input>:5: DeprecationWarning: invalid escape sequence \\.\n",
            "<input>:4: DeprecationWarning: invalid escape sequence \\.\n",
            "<input>:5: DeprecationWarning: invalid escape sequence \\.\n",
            "<input>:6: DeprecationWarning: invalid escape sequence \\.\n",
            "<input>:4: DeprecationWarning: invalid escape sequence \\.\n",
            "<input>:5: DeprecationWarning: invalid escape sequence \\.\n",
            "<input>:6: DeprecationWarning: invalid escape sequence \\.\n",
            "<input>:4: DeprecationWarning: invalid escape sequence \\.\n",
            "<input>:5: DeprecationWarning: invalid escape sequence \\.\n",
            "<input>:6: DeprecationWarning: invalid escape sequence \\.\n",
            "<input>:4: DeprecationWarning: invalid escape sequence \\.\n",
            "<input>:5: DeprecationWarning: invalid escape sequence \\.\n",
            "<input>:6: DeprecationWarning: invalid escape sequence \\.\n",
            "<input>:4: DeprecationWarning: invalid escape sequence \\.\n",
            "<input>:5: DeprecationWarning: invalid escape sequence \\.\n",
            "<input>:6: DeprecationWarning: invalid escape sequence \\.\n",
            "<input>:4: DeprecationWarning: invalid escape sequence \\.\n",
            "<input>:5: DeprecationWarning: invalid escape sequence \\.\n",
            "<input>:6: DeprecationWarning: invalid escape sequence \\.\n",
            "<input>:4: DeprecationWarning: invalid escape sequence \\.\n",
            "<input>:5: DeprecationWarning: invalid escape sequence \\.\n",
            "<input>:6: DeprecationWarning: invalid escape sequence \\.\n",
            "<input>:4: DeprecationWarning: invalid escape sequence \\.\n",
            "<input>:5: DeprecationWarning: invalid escape sequence \\.\n",
            "<input>:6: DeprecationWarning: invalid escape sequence \\.\n",
            "<input>:4: DeprecationWarning: invalid escape sequence \\.\n",
            "<input>:5: DeprecationWarning: invalid escape sequence \\.\n",
            "<input>:6: DeprecationWarning: invalid escape sequence \\.\n",
            "<input>:4: DeprecationWarning: invalid escape sequence \\.\n",
            "<input>:5: DeprecationWarning: invalid escape sequence \\.\n",
            "<input>:6: DeprecationWarning: invalid escape sequence \\.\n",
            "<ipython-input-5-9c175be50414>:4: DeprecationWarning: invalid escape sequence \\.\n",
            "  y=re.sub('[0-9]+\\.','',y) #remove 1.2. since the segmenter segments based on this\n",
            "<ipython-input-5-9c175be50414>:5: DeprecationWarning: invalid escape sequence \\.\n",
            "  y=re.sub('dr\\.','doctor',y)\n",
            "<ipython-input-5-9c175be50414>:6: DeprecationWarning: invalid escape sequence \\.\n",
            "  y=re.sub('m\\.d\\.','md',y)\n"
          ]
        }
      ],
      "source": [
        "import re\n",
        "def preprocess(x):\n",
        "    y=re.sub('\\\\[(.*?)\\\\]','',x) #remove de-identified brackets\n",
        "    y=re.sub('[0-9]+\\.','',y) #remove 1.2. since the segmenter segments based on this\n",
        "    y=re.sub('dr\\.','doctor',y)\n",
        "    y=re.sub('m\\.d\\.','md',y)\n",
        "    y=re.sub('admission date:','',y)\n",
        "    y=re.sub('Admission Date:','',y)\n",
        "    y=re.sub('discharge date:','',y)\n",
        "    y=re.sub('Discharge Date:','',y)\n",
        "    y=re.sub('Date of Birth:','',y)\n",
        "    y=re.sub('date of birth:','',y)\n",
        "    y=re.sub('--|__|==','',y)\n",
        "    y = y.strip()\n",
        "    return y"
      ]
    },
    {
      "cell_type": "code",
      "execution_count": null,
      "metadata": {
        "colab": {
          "background_save": true,
          "base_uri": "https://localhost:8080/"
        },
        "id": "elaPNpKvyzG_",
        "outputId": "87bab1c2-20f8-4e40-88b1-33fe5372a67d"
      },
      "outputs": [],
      "source": [
        "\n",
        "%%time\n",
        "\n",
        "\n",
        "for chunk_index in (9,13,14) :\n",
        "    filename=\"/content/mydrive/MyDrive/PaperA3/Notes/Notes_\"+str(chunk_index)+\".csv\"\n",
        "    \n",
        "    df=pd.read_csv(filename)\n",
        "    print(filename)\n",
        "    #if (chunk_index>0):\n",
        "    #  break;\n",
        "    ls_notes=[]\n",
        "    for i in range(len(df)):\n",
        "      print(i)\n",
        "      print(\"\\n\")\n",
        "      text=df.iloc[i]['TEXT']\n",
        "      doc=nlp(text)\n",
        "      sections = doc._.sections\n",
        "      for j in range(len(sections)):\n",
        "        mystr=sections[j].body_span.text\n",
        "        mystr_Wothout_line=preprocess(mystr)\n",
        "        ls_notes.append([df.iloc[i]['HADM_ID'],df.iloc[i]['DRG_CODE'],\n",
        "                         df.iloc[i]['GENDER'],df.iloc[i]['AGE'],\n",
        "                         df.iloc[i]['CHARTDATE'],\n",
        "                         df.iloc[i]['CATEGORY'],df.iloc[i]['TAA'],\n",
        "                         sections[j].title_span.text,sections[j].body_span.text,\n",
        "                         sections[j].category,mystr_Wothout_line])\n",
        "    df2=pd.DataFrame(ls_notes,columns=[\"HADM_ID\",\"DRG_CODE\",'GENDER','AGE','CHARTDATE','CATEGORY',\"TAA\",\n",
        "                                       \"title_span\",\"body_span\",\"category_Inner\",\"body_span_Wothout_line\"]) \n",
        "    filename=\"section_\"+str(chunk_index)+\".csv\"\n",
        "    df2.to_csv(\"/content/mydrive/MyDrive/PaperA3/Section/\" + filename)\n",
        "\n"
      ]
    }
  ],
  "metadata": {
    "colab": {
      "collapsed_sections": [],
      "name": "MedSpcy.ipynb",
      "provenance": [],
      "authorship_tag": "ABX9TyN/Fuo5L+Wajp1wvbGIalJo",
      "include_colab_link": true
    },
    "kernelspec": {
      "display_name": "Python 3",
      "name": "python3"
    },
    "language_info": {
      "name": "python"
    }
  },
  "nbformat": 4,
  "nbformat_minor": 0
}