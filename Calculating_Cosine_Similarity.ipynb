{
  "nbformat": 4,
  "nbformat_minor": 0,
  "metadata": {
    "colab": {
      "name": "Calculating_Cosine_Similarity.ipynb",
      "provenance": [],
      "authorship_tag": "ABX9TyO6nD73XAGYTJUwBRtaqeDf",
      "include_colab_link": true
    },
    "kernelspec": {
      "name": "python3",
      "display_name": "Python 3"
    },
    "language_info": {
      "name": "python"
    }
  },
  "cells": [
    {
      "cell_type": "markdown",
      "metadata": {
        "id": "view-in-github",
        "colab_type": "text"
      },
      "source": [
        "<a href=\"https://colab.research.google.com/github/HodaMemar/A3/blob/main/Calculating_Cosine_Similarity.ipynb\" target=\"_parent\"><img src=\"https://colab.research.google.com/assets/colab-badge.svg\" alt=\"Open In Colab\"/></a>"
      ]
    },
    {
      "cell_type": "code",
      "execution_count": null,
      "metadata": {
        "id": "9PS3gzb9sqQn"
      },
      "outputs": [],
      "source": [
        "from sklearn.metrics.pairwise import cosine_similarity\n",
        "import pandas as pd\n",
        "import numpy as np"
      ]
    },
    {
      "cell_type": "code",
      "source": [
        "df_RonS.hadm_ID.unique().tolist()\n",
        "df_dis=pd.read_csv('...\\Embedding.csv')\n",
        "df_dis = df_dis.rename(columns={'Unnamed: 0': 'hadm_ID'})\n",
        "df.iloc[:,0:200]\n",
        "df_dis_RonS=df_dis[df_dis['hadm_ID'].isin(ls_RonS)]\n",
        "list_patient=df_dis_RonS['hadm_ID'].unique().tolist()\n",
        "len(list_patient)"
      ],
      "metadata": {
        "id": "rcNZ1x2cswoL"
      },
      "execution_count": null,
      "outputs": []
    },
    {
      "cell_type": "code",
      "source": [
        "title='Stage_S_ThirdTry_3'\n",
        "\n",
        "df=pd.read_csv('D:\\\\Embedding\\\\Code\\\\A2021\\\\Embedding\\\\Emb_' + title + '.csv')\n",
        "nVar=df.iloc[:,0:200]\n",
        "\n",
        "indexx=df.admission_Id.tolist()\n",
        "nVar"
      ],
      "metadata": {
        "id": "h9eLZ18Rs-ob"
      },
      "execution_count": null,
      "outputs": []
    },
    {
      "cell_type": "markdown",
      "source": [
        "Convert dataframe to numpy format"
      ],
      "metadata": {
        "id": "-9hne0kBvPBD"
      }
    },
    {
      "cell_type": "code",
      "source": [
        "\n",
        "var1=nVar.to_numpy()\n",
        "var1"
      ],
      "metadata": {
        "id": "qay30B0cvJaa"
      },
      "execution_count": null,
      "outputs": []
    },
    {
      "cell_type": "markdown",
      "source": [
        "Calculation of cosine similarity between vectors"
      ],
      "metadata": {
        "id": "Ucp3NCYzvat7"
      }
    },
    {
      "cell_type": "code",
      "source": [
        "\n",
        "var2=cosine_similarity(var1, var1)\n",
        "var2"
      ],
      "metadata": {
        "id": "RLwcC1KnvLrb"
      },
      "execution_count": null,
      "outputs": []
    },
    {
      "cell_type": "markdown",
      "source": [
        "Naming rows and columns with admission_ID"
      ],
      "metadata": {
        "id": "yYHD1kVEvoNk"
      }
    },
    {
      "cell_type": "code",
      "source": [
        "df1=pd.DataFrame(var2, index=[i for i in indexx])\n",
        "df1.columns = indexx\n",
        "#save as dataframe\n",
        "df1.to_csv('...\\\\dis_'+title+'.csv')"
      ],
      "metadata": {
        "id": "ot18746LvNna"
      },
      "execution_count": null,
      "outputs": []
    }
  ]
}