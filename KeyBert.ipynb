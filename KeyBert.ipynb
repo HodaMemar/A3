{
  "nbformat": 4,
  "nbformat_minor": 0,
  "metadata": {
    "colab": {
      "name": "KeyBert.ipynb",
      "provenance": [],
      "collapsed_sections": [],
      "authorship_tag": "ABX9TyPNnQ1DpDysRDyzzeP4qKTr",
      "include_colab_link": true
    },
    "kernelspec": {
      "name": "python3",
      "display_name": "Python 3"
    },
    "language_info": {
      "name": "python"
    }
  },
  "cells": [
    {
      "cell_type": "markdown",
      "metadata": {
        "id": "view-in-github",
        "colab_type": "text"
      },
      "source": [
        "<a href=\"https://colab.research.google.com/github/HodaMemar/A3/blob/main/KeyBert.ipynb\" target=\"_parent\"><img src=\"https://colab.research.google.com/assets/colab-badge.svg\" alt=\"Open In Colab\"/></a>"
      ]
    },
    {
      "cell_type": "code",
      "execution_count": 2,
      "metadata": {
        "colab": {
          "base_uri": "https://localhost:8080/"
        },
        "id": "1Dg4Ues7kKqe",
        "outputId": "7f9c5ab8-ac39-4e6a-c028-a89373d3f7f4"
      },
      "outputs": [
        {
          "output_type": "stream",
          "name": "stdout",
          "text": [
            "Drive already mounted at /content/drive; to attempt to forcibly remount, call drive.mount(\"/content/drive\", force_remount=True).\n"
          ]
        }
      ],
      "source": [
        "from google.colab import drive\n",
        "drive.mount('/content/drive')"
      ]
    },
    {
      "cell_type": "code",
      "source": [
        "import pandas as pd\n",
        "import numpy as np\n",
        "import matplotlib.pyplot as plt\n",
        "from os.path import exists"
      ],
      "metadata": {
        "id": "1tjamy74kMPu"
      },
      "execution_count": 3,
      "outputs": []
    },
    {
      "cell_type": "markdown",
      "source": [
        "df =pd.read_csv('/content/drive/MyDrive/PaperA3/Corpus/corpus_BOC_NegCUI.csv')\n",
        "df.drop('Unnamed: 0', axis=1, inplace=True)\n",
        "df.dropna()"
      ],
      "metadata": {
        "id": "uc4knoUSkMMd"
      }
    },
    {
      "cell_type": "code",
      "source": [
        "df.iloc[0]['term']"
      ],
      "metadata": {
        "colab": {
          "base_uri": "https://localhost:8080/",
          "height": 70
        },
        "id": "8qIB6SGllRcq",
        "outputId": "1611c7ce-e05d-4c59-ba47-150a564e8871"
      },
      "execution_count": null,
      "outputs": [
        {
          "output_type": "execute_result",
          "data": {
            "text/plain": [
              "'C0002893,C0018802,C0149531,C0020295,C0027270,C0000729,C0972395,C1704493,C0002940,C0013428,C1320474,C0013404,C0041582,C0055856,C0585361,C0027497,C0151594,C0019829,C0235439,C0030193,C0022661,C0004238,C0079304,C0034063,C0221198,C0022116,C0017110,C0011127,C3537184,C0036439,C0010068,C0008574,C0011168,C0017540,C0032227,C0028778,C0030252,C0234233,C0003855,C0876139,C0016658,C0004144,C0444532,C0007097,C0042963,C0015967,C0001314,C0011570,C0699678,C0392756,C0030920,C0008031,C0232498,C0019552,C0028128,C0011991,C0026727,C0010200,C0000737'"
            ],
            "application/vnd.google.colaboratory.intrinsic+json": {
              "type": "string"
            }
          },
          "metadata": {},
          "execution_count": 4
        }
      ]
    },
    {
      "cell_type": "code",
      "source": [
        "dd=pd.read_csv('/content/drive/MyDrive/PaperA3/Diagnoses_labels/Dictionary.csv')\n",
        "dictionary = dict(zip(dd.first_cuid, dd.canonical_name))"
      ],
      "metadata": {
        "id": "iqyYiKUqkMJ-"
      },
      "execution_count": 5,
      "outputs": []
    },
    {
      "cell_type": "code",
      "source": [
        "import ast\n",
        "def complex_function( x):\n",
        "    res =x.split(\",\")\n",
        "    tms_text=''    \n",
        "    for i in range(len(res)):\n",
        "        try:  \n",
        "            if(res[i].upper().startswith(\"NOT\")):\n",
        "              tms_text=tms_text +'NOT '+dictionary[res[i][4:].upper()] +', '\n",
        "            else:\n",
        "              tms_text=tms_text +dictionary[res[i].upper()] +', '  \n",
        "        except :\n",
        "              print(res[i])    \n",
        "    return tms_text "
      ],
      "metadata": {
        "id": "WY52w68mkMHd"
      },
      "execution_count": 6,
      "outputs": []
    },
    {
      "cell_type": "code",
      "source": [
        "\n",
        "x='C0002893,C0018802,C0149531,C0020295,C0027270,C0000729,C0972395,C1704493,C0002940,C0013428,C1320474,C0013404,C0041582,C0055856,C0585361,C0027497,C0151594,C0019829,C0235439,C0030193,C0022661,C0004238,C0079304,C0034063,C0221198,C0022116,C0017110,C0011127,C3537184,C0036439,C0010068,C0008574,C0011168,C0017540,C0032227,C0028778,C0030252,C0234233,C0003855,C0876139,C0016658,C0004144,C0444532,C0007097,C0042963,C0015967,C0001314,C0011570,C0699678,C0392756,C0030920,C0008031,C0232498,C0019552,C0028128,C0011991,C0026727,C0010200,C0000737'\n",
        "complex_function( x)"
      ],
      "metadata": {
        "colab": {
          "base_uri": "https://localhost:8080/",
          "height": 122
        },
        "id": "aZVH-HK-lcTj",
        "outputId": "a1e6bb11-157a-47b3-d574-3559317f7c25"
      },
      "execution_count": null,
      "outputs": [
        {
          "output_type": "execute_result",
          "data": {
            "text/plain": [
              "'Refractory anemias, Congestive heart failure, Fracture of pelvis, Hydronephrosis, nicotinamide adenine dinucleotide (NAD), Abdominal Cramps, Automatic Implantable Cardioverter-Defibrillators, Neutral Sidebent Rotated, Aneurysm, Dysuria, Nuchal Rigidity, Dyspnea, Ulcer, clarithromycin, Twice a day, Nausea, Hemorrhagic diarrhea, Hodgkin Disease, Ankle edema (finding), Pain, Kidney Failure, Chronic, Atrial Fibrillation, Esophagogastroduodenoscopy, Pulmonary Edema, Lesion, Ischemia, Gases, Pressure Ulcer, Non-ST Elevation Myocardial Infarction by ECG Finding, Scoliosis, unspecified, Coronary heart disease, chromium, Deglutition Disorders, Gibraltar, Pleural effusion disorder, Obstruction, Palpitations, Sore to touch, Arteriovenous fistula, Protonix, Fracture, Atelectasis, Right sided, Carcinoma, Vomiting, Fever, Acute Disease, Mental Depression, Flagyl, Reduced, Peptic Ulcer, Chest Pain, Abdominal tenderness, Hip structure, nitric oxide, Diarrhea, Mucous body substance, Coughing, Abdominal Pain, '"
            ],
            "application/vnd.google.colaboratory.intrinsic+json": {
              "type": "string"
            }
          },
          "metadata": {},
          "execution_count": 7
        }
      ]
    },
    {
      "cell_type": "code",
      "source": [
        "df=df.dropna()\n",
        "df['Text'] = df.apply(lambda x: complex_function(x['term']), axis=1)\n",
        "df.shape"
      ],
      "metadata": {
        "colab": {
          "base_uri": "https://localhost:8080/"
        },
        "id": "YTaG7ZSGkMEv",
        "outputId": "6a6fe11f-cd06-4c36-95b1-d3b9d6df6fcf"
      },
      "execution_count": 7,
      "outputs": [
        {
          "output_type": "execute_result",
          "data": {
            "text/plain": [
              "(26357, 3)"
            ]
          },
          "metadata": {},
          "execution_count": 7
        }
      ]
    },
    {
      "cell_type": "code",
      "source": [
        "df.head()"
      ],
      "metadata": {
        "colab": {
          "base_uri": "https://localhost:8080/",
          "height": 206
        },
        "id": "F29WKevGHCsj",
        "outputId": "3351aeb9-9bfe-4dfd-a05a-521cace1a739"
      },
      "execution_count": null,
      "outputs": [
        {
          "output_type": "execute_result",
          "data": {
            "text/plain": [
              "    label                                               term  \\\n",
              "0  157267  C0002893,C0018802,C0149531,C0020295,C0027270,C...   \n",
              "1  123103  C0002893,C0007012,C0027270,C0032326,C0013604,C...   \n",
              "2  139931  C0262613,C0007012,C0441713,C0020295,C0013604,C...   \n",
              "3  198295  C0036690,C0018802,C0024117,C0032326,C1704493,C...   \n",
              "4  177962  C0080310,C0027270,C0032326,C0020676,C0392689,C...   \n",
              "\n",
              "                                                Text  \n",
              "0  Refractory anemias, Congestive heart failure, ...  \n",
              "1  Refractory anemias, carbon dioxide, nicotinami...  \n",
              "2  Renal mass, carbon dioxide, Chemical injury, H...  \n",
              "3  Septicemia, Congestive heart failure, Chronic ...  \n",
              "4  Left Ventricular Function, nicotinamide adenin...  "
            ],
            "text/html": [
              "\n",
              "  <div id=\"df-9b0c0d37-ce48-4e80-aeb9-5202d5a6a914\">\n",
              "    <div class=\"colab-df-container\">\n",
              "      <div>\n",
              "<style scoped>\n",
              "    .dataframe tbody tr th:only-of-type {\n",
              "        vertical-align: middle;\n",
              "    }\n",
              "\n",
              "    .dataframe tbody tr th {\n",
              "        vertical-align: top;\n",
              "    }\n",
              "\n",
              "    .dataframe thead th {\n",
              "        text-align: right;\n",
              "    }\n",
              "</style>\n",
              "<table border=\"1\" class=\"dataframe\">\n",
              "  <thead>\n",
              "    <tr style=\"text-align: right;\">\n",
              "      <th></th>\n",
              "      <th>label</th>\n",
              "      <th>term</th>\n",
              "      <th>Text</th>\n",
              "    </tr>\n",
              "  </thead>\n",
              "  <tbody>\n",
              "    <tr>\n",
              "      <th>0</th>\n",
              "      <td>157267</td>\n",
              "      <td>C0002893,C0018802,C0149531,C0020295,C0027270,C...</td>\n",
              "      <td>Refractory anemias, Congestive heart failure, ...</td>\n",
              "    </tr>\n",
              "    <tr>\n",
              "      <th>1</th>\n",
              "      <td>123103</td>\n",
              "      <td>C0002893,C0007012,C0027270,C0032326,C0013604,C...</td>\n",
              "      <td>Refractory anemias, carbon dioxide, nicotinami...</td>\n",
              "    </tr>\n",
              "    <tr>\n",
              "      <th>2</th>\n",
              "      <td>139931</td>\n",
              "      <td>C0262613,C0007012,C0441713,C0020295,C0013604,C...</td>\n",
              "      <td>Renal mass, carbon dioxide, Chemical injury, H...</td>\n",
              "    </tr>\n",
              "    <tr>\n",
              "      <th>3</th>\n",
              "      <td>198295</td>\n",
              "      <td>C0036690,C0018802,C0024117,C0032326,C1704493,C...</td>\n",
              "      <td>Septicemia, Congestive heart failure, Chronic ...</td>\n",
              "    </tr>\n",
              "    <tr>\n",
              "      <th>4</th>\n",
              "      <td>177962</td>\n",
              "      <td>C0080310,C0027270,C0032326,C0020676,C0392689,C...</td>\n",
              "      <td>Left Ventricular Function, nicotinamide adenin...</td>\n",
              "    </tr>\n",
              "  </tbody>\n",
              "</table>\n",
              "</div>\n",
              "      <button class=\"colab-df-convert\" onclick=\"convertToInteractive('df-9b0c0d37-ce48-4e80-aeb9-5202d5a6a914')\"\n",
              "              title=\"Convert this dataframe to an interactive table.\"\n",
              "              style=\"display:none;\">\n",
              "        \n",
              "  <svg xmlns=\"http://www.w3.org/2000/svg\" height=\"24px\"viewBox=\"0 0 24 24\"\n",
              "       width=\"24px\">\n",
              "    <path d=\"M0 0h24v24H0V0z\" fill=\"none\"/>\n",
              "    <path d=\"M18.56 5.44l.94 2.06.94-2.06 2.06-.94-2.06-.94-.94-2.06-.94 2.06-2.06.94zm-11 1L8.5 8.5l.94-2.06 2.06-.94-2.06-.94L8.5 2.5l-.94 2.06-2.06.94zm10 10l.94 2.06.94-2.06 2.06-.94-2.06-.94-.94-2.06-.94 2.06-2.06.94z\"/><path d=\"M17.41 7.96l-1.37-1.37c-.4-.4-.92-.59-1.43-.59-.52 0-1.04.2-1.43.59L10.3 9.45l-7.72 7.72c-.78.78-.78 2.05 0 2.83L4 21.41c.39.39.9.59 1.41.59.51 0 1.02-.2 1.41-.59l7.78-7.78 2.81-2.81c.8-.78.8-2.07 0-2.86zM5.41 20L4 18.59l7.72-7.72 1.47 1.35L5.41 20z\"/>\n",
              "  </svg>\n",
              "      </button>\n",
              "      \n",
              "  <style>\n",
              "    .colab-df-container {\n",
              "      display:flex;\n",
              "      flex-wrap:wrap;\n",
              "      gap: 12px;\n",
              "    }\n",
              "\n",
              "    .colab-df-convert {\n",
              "      background-color: #E8F0FE;\n",
              "      border: none;\n",
              "      border-radius: 50%;\n",
              "      cursor: pointer;\n",
              "      display: none;\n",
              "      fill: #1967D2;\n",
              "      height: 32px;\n",
              "      padding: 0 0 0 0;\n",
              "      width: 32px;\n",
              "    }\n",
              "\n",
              "    .colab-df-convert:hover {\n",
              "      background-color: #E2EBFA;\n",
              "      box-shadow: 0px 1px 2px rgba(60, 64, 67, 0.3), 0px 1px 3px 1px rgba(60, 64, 67, 0.15);\n",
              "      fill: #174EA6;\n",
              "    }\n",
              "\n",
              "    [theme=dark] .colab-df-convert {\n",
              "      background-color: #3B4455;\n",
              "      fill: #D2E3FC;\n",
              "    }\n",
              "\n",
              "    [theme=dark] .colab-df-convert:hover {\n",
              "      background-color: #434B5C;\n",
              "      box-shadow: 0px 1px 3px 1px rgba(0, 0, 0, 0.15);\n",
              "      filter: drop-shadow(0px 1px 2px rgba(0, 0, 0, 0.3));\n",
              "      fill: #FFFFFF;\n",
              "    }\n",
              "  </style>\n",
              "\n",
              "      <script>\n",
              "        const buttonEl =\n",
              "          document.querySelector('#df-9b0c0d37-ce48-4e80-aeb9-5202d5a6a914 button.colab-df-convert');\n",
              "        buttonEl.style.display =\n",
              "          google.colab.kernel.accessAllowed ? 'block' : 'none';\n",
              "\n",
              "        async function convertToInteractive(key) {\n",
              "          const element = document.querySelector('#df-9b0c0d37-ce48-4e80-aeb9-5202d5a6a914');\n",
              "          const dataTable =\n",
              "            await google.colab.kernel.invokeFunction('convertToInteractive',\n",
              "                                                     [key], {});\n",
              "          if (!dataTable) return;\n",
              "\n",
              "          const docLinkHtml = 'Like what you see? Visit the ' +\n",
              "            '<a target=\"_blank\" href=https://colab.research.google.com/notebooks/data_table.ipynb>data table notebook</a>'\n",
              "            + ' to learn more about interactive tables.';\n",
              "          element.innerHTML = '';\n",
              "          dataTable['output_type'] = 'display_data';\n",
              "          await google.colab.output.renderOutput(dataTable, element);\n",
              "          const docLink = document.createElement('div');\n",
              "          docLink.innerHTML = docLinkHtml;\n",
              "          element.appendChild(docLink);\n",
              "        }\n",
              "      </script>\n",
              "    </div>\n",
              "  </div>\n",
              "  "
            ]
          },
          "metadata": {},
          "execution_count": 9
        }
      ]
    },
    {
      "cell_type": "code",
      "source": [
        "df1=df[['label','Text']]\n",
        "df1.head()\n",
        "df1.shape"
      ],
      "metadata": {
        "colab": {
          "base_uri": "https://localhost:8080/"
        },
        "id": "QIoPbEzEUhG0",
        "outputId": "94c9153e-becf-41cf-c9bd-0aa8452f3e87"
      },
      "execution_count": 8,
      "outputs": [
        {
          "output_type": "execute_result",
          "data": {
            "text/plain": [
              "(26357, 2)"
            ]
          },
          "metadata": {},
          "execution_count": 8
        }
      ]
    },
    {
      "cell_type": "code",
      "source": [
        "df1.label=df1.label.astype(float).astype(int)"
      ],
      "metadata": {
        "colab": {
          "base_uri": "https://localhost:8080/"
        },
        "id": "keNVwkp8sADu",
        "outputId": "d8691653-8ff4-432d-a80b-e4228f7f4fbd"
      },
      "execution_count": 42,
      "outputs": [
        {
          "output_type": "stream",
          "name": "stderr",
          "text": [
            "/usr/local/lib/python3.7/dist-packages/pandas/core/generic.py:5516: SettingWithCopyWarning: \n",
            "A value is trying to be set on a copy of a slice from a DataFrame.\n",
            "Try using .loc[row_indexer,col_indexer] = value instead\n",
            "\n",
            "See the caveats in the documentation: https://pandas.pydata.org/pandas-docs/stable/user_guide/indexing.html#returning-a-view-versus-a-copy\n",
            "  self[name] = value\n"
          ]
        }
      ]
    },
    {
      "cell_type": "code",
      "source": [
        "\n",
        "df3=df1[~df1.label.isin(ls_remain)]\n"
      ],
      "metadata": {
        "colab": {
          "base_uri": "https://localhost:8080/"
        },
        "id": "_7i2zhj27T6l",
        "outputId": "a148b992-0405-43b9-9a6d-7cfdddbfa4b6"
      },
      "execution_count": 37,
      "outputs": [
        {
          "output_type": "stream",
          "name": "stderr",
          "text": [
            "/usr/local/lib/python3.7/dist-packages/pandas/core/generic.py:5516: SettingWithCopyWarning: \n",
            "A value is trying to be set on a copy of a slice from a DataFrame.\n",
            "Try using .loc[row_indexer,col_indexer] = value instead\n",
            "\n",
            "See the caveats in the documentation: https://pandas.pydata.org/pandas-docs/stable/user_guide/indexing.html#returning-a-view-versus-a-copy\n",
            "  self[name] = value\n"
          ]
        }
      ]
    },
    {
      "cell_type": "code",
      "source": [
        "print(len(df3.label.unique().tolist()))\n",
        "print(len(df1.label.unique().tolist()))\n",
        "print(len(df_remain.label.unique().tolist()))"
      ],
      "metadata": {
        "colab": {
          "base_uri": "https://localhost:8080/"
        },
        "id": "C0Fhkt64m59j",
        "outputId": "7e6837f4-cc67-49fa-e20f-e259d0360eca"
      },
      "execution_count": 46,
      "outputs": [
        {
          "output_type": "stream",
          "name": "stdout",
          "text": [
            "4\n",
            "25926\n",
            "25921\n"
          ]
        }
      ]
    },
    {
      "cell_type": "code",
      "source": [
        "df_remain.to_csv('/content/drive/MyDrive/PaperA3/KeyBERT/KeyBERT_Total.csv')"
      ],
      "metadata": {
        "id": "8bvfsCdrsoY-"
      },
      "execution_count": 47,
      "outputs": []
    },
    {
      "cell_type": "markdown",
      "source": [
        "#Run KeyBERT"
      ],
      "metadata": {
        "id": "bvAk48_AtDlK"
      }
    },
    {
      "cell_type": "code",
      "source": [
        "from keybert import KeyBERT\n",
        "kw_model = KeyBERT()"
      ],
      "metadata": {
        "id": "0rScIlQrnx4M"
      },
      "execution_count": null,
      "outputs": []
    },
    {
      "cell_type": "code",
      "source": [
        "!pip install keybert"
      ],
      "metadata": {
        "id": "xa4_RTx1kMB3"
      },
      "execution_count": null,
      "outputs": []
    },
    {
      "cell_type": "code",
      "source": [
        "def keyBert_20(arg):\n",
        " label,doc = arg\n",
        " ls_Keys=kw_model.extract_keywords(doc, keyphrase_ngram_range=(1, 3), stop_words='english', use_maxsum=False,  top_n=20)\n",
        " str_tmp=''\n",
        " ls=[]\n",
        " for i in range(len(ls_Keys)):\n",
        "   str_tmp=str_tmp + ls_Keys[i][0] +', '\n",
        " ls.append([label,str_tmp]) \n",
        " return pd.DataFrame(ls,columns=['label','Text'])\n"
      ],
      "metadata": {
        "id": "3t2VbKA6u2a7"
      },
      "execution_count": null,
      "outputs": []
    },
    {
      "cell_type": "code",
      "source": [
        "a=[(idx,row) for idx,row in df3.itertuples(index=False)]\n"
      ],
      "metadata": {
        "id": "op5y3ZdXT0N9"
      },
      "execution_count": null,
      "outputs": []
    },
    {
      "cell_type": "code",
      "source": [
        "len(df_remain.label.astype(float).astype(int).unique().tolist())"
      ],
      "metadata": {
        "colab": {
          "base_uri": "https://localhost:8080/"
        },
        "id": "s5k-SwqwVB-1",
        "outputId": "c777b8ab-194b-425e-9452-bf244aeec6f7"
      },
      "execution_count": 29,
      "outputs": [
        {
          "output_type": "execute_result",
          "data": {
            "text/plain": [
              "25922"
            ]
          },
          "metadata": {},
          "execution_count": 29
        }
      ]
    },
    {
      "cell_type": "code",
      "source": [
        "\n",
        "data_all_new= pd.DataFrame(columns = ['label', 'Text'])\n",
        "for i in range(len(a)):\n",
        "      print(len(a)-i)\n",
        "      data_all_new =data_all_new.append( keyBert_20(a[i]) )\n",
        "      if (i % 1000 ==0):\n",
        "          filename=int(i/1000+30)\n",
        "          data_all_new.to_csv('/content/drive/MyDrive/PaperA3/KeyBERT/KeyBERT_20_'+str(filename)+'.csv')\n",
        "          data_all_new= pd.DataFrame(columns = ['label', 'Text'])"
      ],
      "metadata": {
        "id": "QNgz1IyZnlIr"
      },
      "execution_count": null,
      "outputs": []
    },
    {
      "cell_type": "code",
      "source": [
        "data_all_new"
      ],
      "metadata": {
        "colab": {
          "base_uri": "https://localhost:8080/",
          "height": 424
        },
        "id": "uNpA8eehdNo6",
        "outputId": "0fd1d6ec-257f-4ef3-efe9-df4726e2fac4"
      },
      "execution_count": null,
      "outputs": [
        {
          "output_type": "execute_result",
          "data": {
            "text/plain": [
              "     label                                               Text\n",
              "0   157267  congestive heart failure, heart failure, infar...\n",
              "0   123103  coronary heart disease, coronary disease, bica...\n",
              "0   139931  mitral valve insufficiency, left renal, effusi...\n",
              "0   198295  congestive heart failure, cholecystitis fentan...\n",
              "0   177962  coronary disease, coronary disease hypertensiv...\n",
              "..     ...                                                ...\n",
              "0   162156  atelectatic respiratory distress, cholecalcife...\n",
              "0   175606  congestive heart failure, heart failure, hyper...\n",
              "0   177610  spinal injuries, injury physiologic, vertebra ...\n",
              "0   157308  heart failure, atelectatic heart failure, nad ...\n",
              "0   191405  lung diseases hypotensive, hypotension pulmona...\n",
              "\n",
              "[100 rows x 2 columns]"
            ],
            "text/html": [
              "\n",
              "  <div id=\"df-4e5d8db4-70d6-46f0-89ba-e5eb6a96e338\">\n",
              "    <div class=\"colab-df-container\">\n",
              "      <div>\n",
              "<style scoped>\n",
              "    .dataframe tbody tr th:only-of-type {\n",
              "        vertical-align: middle;\n",
              "    }\n",
              "\n",
              "    .dataframe tbody tr th {\n",
              "        vertical-align: top;\n",
              "    }\n",
              "\n",
              "    .dataframe thead th {\n",
              "        text-align: right;\n",
              "    }\n",
              "</style>\n",
              "<table border=\"1\" class=\"dataframe\">\n",
              "  <thead>\n",
              "    <tr style=\"text-align: right;\">\n",
              "      <th></th>\n",
              "      <th>label</th>\n",
              "      <th>Text</th>\n",
              "    </tr>\n",
              "  </thead>\n",
              "  <tbody>\n",
              "    <tr>\n",
              "      <th>0</th>\n",
              "      <td>157267</td>\n",
              "      <td>congestive heart failure, heart failure, infar...</td>\n",
              "    </tr>\n",
              "    <tr>\n",
              "      <th>0</th>\n",
              "      <td>123103</td>\n",
              "      <td>coronary heart disease, coronary disease, bica...</td>\n",
              "    </tr>\n",
              "    <tr>\n",
              "      <th>0</th>\n",
              "      <td>139931</td>\n",
              "      <td>mitral valve insufficiency, left renal, effusi...</td>\n",
              "    </tr>\n",
              "    <tr>\n",
              "      <th>0</th>\n",
              "      <td>198295</td>\n",
              "      <td>congestive heart failure, cholecystitis fentan...</td>\n",
              "    </tr>\n",
              "    <tr>\n",
              "      <th>0</th>\n",
              "      <td>177962</td>\n",
              "      <td>coronary disease, coronary disease hypertensiv...</td>\n",
              "    </tr>\n",
              "    <tr>\n",
              "      <th>...</th>\n",
              "      <td>...</td>\n",
              "      <td>...</td>\n",
              "    </tr>\n",
              "    <tr>\n",
              "      <th>0</th>\n",
              "      <td>162156</td>\n",
              "      <td>atelectatic respiratory distress, cholecalcife...</td>\n",
              "    </tr>\n",
              "    <tr>\n",
              "      <th>0</th>\n",
              "      <td>175606</td>\n",
              "      <td>congestive heart failure, heart failure, hyper...</td>\n",
              "    </tr>\n",
              "    <tr>\n",
              "      <th>0</th>\n",
              "      <td>177610</td>\n",
              "      <td>spinal injuries, injury physiologic, vertebra ...</td>\n",
              "    </tr>\n",
              "    <tr>\n",
              "      <th>0</th>\n",
              "      <td>157308</td>\n",
              "      <td>heart failure, atelectatic heart failure, nad ...</td>\n",
              "    </tr>\n",
              "    <tr>\n",
              "      <th>0</th>\n",
              "      <td>191405</td>\n",
              "      <td>lung diseases hypotensive, hypotension pulmona...</td>\n",
              "    </tr>\n",
              "  </tbody>\n",
              "</table>\n",
              "<p>100 rows × 2 columns</p>\n",
              "</div>\n",
              "      <button class=\"colab-df-convert\" onclick=\"convertToInteractive('df-4e5d8db4-70d6-46f0-89ba-e5eb6a96e338')\"\n",
              "              title=\"Convert this dataframe to an interactive table.\"\n",
              "              style=\"display:none;\">\n",
              "        \n",
              "  <svg xmlns=\"http://www.w3.org/2000/svg\" height=\"24px\"viewBox=\"0 0 24 24\"\n",
              "       width=\"24px\">\n",
              "    <path d=\"M0 0h24v24H0V0z\" fill=\"none\"/>\n",
              "    <path d=\"M18.56 5.44l.94 2.06.94-2.06 2.06-.94-2.06-.94-.94-2.06-.94 2.06-2.06.94zm-11 1L8.5 8.5l.94-2.06 2.06-.94-2.06-.94L8.5 2.5l-.94 2.06-2.06.94zm10 10l.94 2.06.94-2.06 2.06-.94-2.06-.94-.94-2.06-.94 2.06-2.06.94z\"/><path d=\"M17.41 7.96l-1.37-1.37c-.4-.4-.92-.59-1.43-.59-.52 0-1.04.2-1.43.59L10.3 9.45l-7.72 7.72c-.78.78-.78 2.05 0 2.83L4 21.41c.39.39.9.59 1.41.59.51 0 1.02-.2 1.41-.59l7.78-7.78 2.81-2.81c.8-.78.8-2.07 0-2.86zM5.41 20L4 18.59l7.72-7.72 1.47 1.35L5.41 20z\"/>\n",
              "  </svg>\n",
              "      </button>\n",
              "      \n",
              "  <style>\n",
              "    .colab-df-container {\n",
              "      display:flex;\n",
              "      flex-wrap:wrap;\n",
              "      gap: 12px;\n",
              "    }\n",
              "\n",
              "    .colab-df-convert {\n",
              "      background-color: #E8F0FE;\n",
              "      border: none;\n",
              "      border-radius: 50%;\n",
              "      cursor: pointer;\n",
              "      display: none;\n",
              "      fill: #1967D2;\n",
              "      height: 32px;\n",
              "      padding: 0 0 0 0;\n",
              "      width: 32px;\n",
              "    }\n",
              "\n",
              "    .colab-df-convert:hover {\n",
              "      background-color: #E2EBFA;\n",
              "      box-shadow: 0px 1px 2px rgba(60, 64, 67, 0.3), 0px 1px 3px 1px rgba(60, 64, 67, 0.15);\n",
              "      fill: #174EA6;\n",
              "    }\n",
              "\n",
              "    [theme=dark] .colab-df-convert {\n",
              "      background-color: #3B4455;\n",
              "      fill: #D2E3FC;\n",
              "    }\n",
              "\n",
              "    [theme=dark] .colab-df-convert:hover {\n",
              "      background-color: #434B5C;\n",
              "      box-shadow: 0px 1px 3px 1px rgba(0, 0, 0, 0.15);\n",
              "      filter: drop-shadow(0px 1px 2px rgba(0, 0, 0, 0.3));\n",
              "      fill: #FFFFFF;\n",
              "    }\n",
              "  </style>\n",
              "\n",
              "      <script>\n",
              "        const buttonEl =\n",
              "          document.querySelector('#df-4e5d8db4-70d6-46f0-89ba-e5eb6a96e338 button.colab-df-convert');\n",
              "        buttonEl.style.display =\n",
              "          google.colab.kernel.accessAllowed ? 'block' : 'none';\n",
              "\n",
              "        async function convertToInteractive(key) {\n",
              "          const element = document.querySelector('#df-4e5d8db4-70d6-46f0-89ba-e5eb6a96e338');\n",
              "          const dataTable =\n",
              "            await google.colab.kernel.invokeFunction('convertToInteractive',\n",
              "                                                     [key], {});\n",
              "          if (!dataTable) return;\n",
              "\n",
              "          const docLinkHtml = 'Like what you see? Visit the ' +\n",
              "            '<a target=\"_blank\" href=https://colab.research.google.com/notebooks/data_table.ipynb>data table notebook</a>'\n",
              "            + ' to learn more about interactive tables.';\n",
              "          element.innerHTML = '';\n",
              "          dataTable['output_type'] = 'display_data';\n",
              "          await google.colab.output.renderOutput(dataTable, element);\n",
              "          const docLink = document.createElement('div');\n",
              "          docLink.innerHTML = docLinkHtml;\n",
              "          element.appendChild(docLink);\n",
              "        }\n",
              "      </script>\n",
              "    </div>\n",
              "  </div>\n",
              "  "
            ]
          },
          "metadata": {},
          "execution_count": 77
        }
      ]
    }
  ]
}