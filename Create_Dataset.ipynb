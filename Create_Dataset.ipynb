{
  "cells": [
    {
      "cell_type": "markdown",
      "metadata": {
        "id": "view-in-github",
        "colab_type": "text"
      },
      "source": [
        "<a href=\"https://colab.research.google.com/github/HodaMemar/A3/blob/main/Create_Dataset.ipynb\" target=\"_parent\"><img src=\"https://colab.research.google.com/assets/colab-badge.svg\" alt=\"Open In Colab\"/></a>"
      ]
    },
    {
      "cell_type": "markdown",
      "metadata": {
        "id": "peOBhNVWudpR"
      },
      "source": [
        "##DataSet"
      ]
    },
    {
      "cell_type": "code",
      "execution_count": 8,
      "metadata": {
        "colab": {
          "base_uri": "https://localhost:8080/"
        },
        "id": "K466kVWxE8J8",
        "outputId": "278b435c-138b-4acd-a915-52c1281ad8e1"
      },
      "outputs": [
        {
          "output_type": "stream",
          "name": "stdout",
          "text": [
            "Drive already mounted at /content/drive; to attempt to forcibly remount, call drive.mount(\"/content/drive\", force_remount=True).\n"
          ]
        }
      ],
      "source": [
        "from google.colab import drive\n",
        "drive.mount('/content/drive')"
      ]
    },
    {
      "cell_type": "code",
      "execution_count": 9,
      "metadata": {
        "id": "S4fLKiUyn8qt"
      },
      "outputs": [],
      "source": [
        "import pandas as pd\n",
        "import numpy as np\n",
        "import matplotlib.pyplot as plt\n",
        "from os.path import exists"
      ]
    },
    {
      "cell_type": "markdown",
      "metadata": {
        "id": "pihrOphEZmEi"
      },
      "source": [
        "#Preprocess"
      ]
    },
    {
      "cell_type": "code",
      "source": [
        "df_text=pd.read_csv('/content/drive/MyDrive/PaperA3/TFIDF/L2_G08')"
      ],
      "metadata": {
        "id": "bLEGXJn4Z0tN"
      },
      "execution_count": 10,
      "outputs": []
    },
    {
      "cell_type": "code",
      "source": [
        "path=[[\"MultipartiteRank\",\"/content/drive/MyDrive/PaperA3/MultipartiteRank/MultipartiteRank_20_\"],\n",
        "      [\"YAKE\",\"/content/drive/MyDrive/PaperA3/YAKE/YAKE_20_\"],\n",
        "      [\"KeyBERT\",\"/content/drive/MyDrive/PaperA3/KeyBERT/KeyBERT_20_\"],\n",
        "      [\"Key2Vec\",\"/content/drive/MyDrive/PaperA3/Key2Vec/Key2Vec_20_\"],\n",
        "      [\"PositionRank\",\"/content/drive/MyDrive/PaperA3/PositionRank/PositionRank_20_\"]]"
      ],
      "metadata": {
        "id": "1B3lM9m3F3PM"
      },
      "execution_count": 11,
      "outputs": []
    },
    {
      "cell_type": "code",
      "source": [
        "for j in range(len(path)) :\n",
        "    df_remain=pd.DataFrame(columns = ['label','Text'])\n",
        "    for i in range(1,80):\n",
        "      filename=path[j][1]+str(i)+\".csv\"\n",
        "      \n",
        "      if (exists(filename)==True):\n",
        "              \n",
        "              df2=pd.read_csv(filename)\n",
        "              df2=df2[['label','Text']]\n",
        "              \n",
        "              df_remain=pd.concat([df_remain, df2])\n",
        "      df_remain.label=df_remain.label.astype(float).astype(int) \n",
        "      df_remain.drop_duplicates(subset=['label','Text'], keep='last')       \n",
        "    print(path[j][0],len(df_remain),len(df_remain.label.unique().tolist()))\n",
        "    df_remain.to_csv(path[j][1]+'Total')"
      ],
      "metadata": {
        "colab": {
          "base_uri": "https://localhost:8080/"
        },
        "id": "aBOy0KZrFveM",
        "outputId": "79d041bc-3fff-44b6-fb28-1a382b12126e"
      },
      "execution_count": 21,
      "outputs": [
        {
          "output_type": "stream",
          "name": "stdout",
          "text": [
            "MultipartiteRank 26029 25926\n",
            "YAKE 26927 25926\n",
            "KeyBERT 25923 25921\n",
            "Key2Vec 27111 25924\n",
            "PositionRank 26123 25924\n"
          ]
        }
      ]
    },
    {
      "cell_type": "markdown",
      "source": [
        "#Diagnoses_labels"
      ],
      "metadata": {
        "id": "O-FFbtAfb2u1"
      }
    },
    {
      "cell_type": "code",
      "execution_count": 22,
      "metadata": {
        "id": "Rv_hQp2sGNGY"
      },
      "outputs": [],
      "source": [
        "\n",
        "df_diagnosis=pd.read_csv('/content/drive/MyDrive/PaperA3/Diagnoses_labels/Final_L1.csv')"
      ]
    },
    {
      "cell_type": "code",
      "source": [
        "filename=path[0][1]+'Total'\n",
        "df_text=pd.read_csv(filename)\n",
        "print(path[0][0])"
      ],
      "metadata": {
        "colab": {
          "base_uri": "https://localhost:8080/"
        },
        "id": "7xga3-Z3figr",
        "outputId": "b8c51c05-8f8d-4686-f1a7-b4c82573a263"
      },
      "execution_count": 23,
      "outputs": [
        {
          "output_type": "stream",
          "name": "stdout",
          "text": [
            "MultipartiteRank\n"
          ]
        }
      ]
    },
    {
      "cell_type": "code",
      "execution_count": 24,
      "metadata": {
        "colab": {
          "base_uri": "https://localhost:8080/"
        },
        "id": "h1kJNG8hGi2q",
        "outputId": "0ff6f4b6-1158-438e-f2f0-fe35b2391db4"
      },
      "outputs": [
        {
          "output_type": "stream",
          "name": "stdout",
          "text": [
            "(26029, 3)\n",
            "(52307, 21)\n"
          ]
        }
      ],
      "source": [
        "print(df_text.shape)\n",
        "print(df_diagnosis.shape)"
      ]
    },
    {
      "cell_type": "code",
      "execution_count": 25,
      "metadata": {
        "colab": {
          "base_uri": "https://localhost:8080/",
          "height": 206
        },
        "id": "sr3R_JkrITYB",
        "outputId": "7773d2e4-0bea-4c8b-e3b2-dc0f549fec50"
      },
      "outputs": [
        {
          "output_type": "execute_result",
          "data": {
            "text/plain": [
              "   Unnamed: 0   label                                               Text\n",
              "0           0  157267  ulcer, ankle edema, pain, finding, hodgkin dis...\n",
              "1           0  123103  heart valve disease, cholesterol measurement t...\n",
              "2           1  139931  mitral valve insufficiency, hypertensive disea...\n",
              "3           2  198295  hypertensive disease, edema, cholecystitis, ox...\n",
              "4           3  177962  vessel coronary disease, left ventricular func..."
            ],
            "text/html": [
              "\n",
              "  <div id=\"df-88f81e67-c8a2-4485-9d2d-d4b31cab5e18\">\n",
              "    <div class=\"colab-df-container\">\n",
              "      <div>\n",
              "<style scoped>\n",
              "    .dataframe tbody tr th:only-of-type {\n",
              "        vertical-align: middle;\n",
              "    }\n",
              "\n",
              "    .dataframe tbody tr th {\n",
              "        vertical-align: top;\n",
              "    }\n",
              "\n",
              "    .dataframe thead th {\n",
              "        text-align: right;\n",
              "    }\n",
              "</style>\n",
              "<table border=\"1\" class=\"dataframe\">\n",
              "  <thead>\n",
              "    <tr style=\"text-align: right;\">\n",
              "      <th></th>\n",
              "      <th>Unnamed: 0</th>\n",
              "      <th>label</th>\n",
              "      <th>Text</th>\n",
              "    </tr>\n",
              "  </thead>\n",
              "  <tbody>\n",
              "    <tr>\n",
              "      <th>0</th>\n",
              "      <td>0</td>\n",
              "      <td>157267</td>\n",
              "      <td>ulcer, ankle edema, pain, finding, hodgkin dis...</td>\n",
              "    </tr>\n",
              "    <tr>\n",
              "      <th>1</th>\n",
              "      <td>0</td>\n",
              "      <td>123103</td>\n",
              "      <td>heart valve disease, cholesterol measurement t...</td>\n",
              "    </tr>\n",
              "    <tr>\n",
              "      <th>2</th>\n",
              "      <td>1</td>\n",
              "      <td>139931</td>\n",
              "      <td>mitral valve insufficiency, hypertensive disea...</td>\n",
              "    </tr>\n",
              "    <tr>\n",
              "      <th>3</th>\n",
              "      <td>2</td>\n",
              "      <td>198295</td>\n",
              "      <td>hypertensive disease, edema, cholecystitis, ox...</td>\n",
              "    </tr>\n",
              "    <tr>\n",
              "      <th>4</th>\n",
              "      <td>3</td>\n",
              "      <td>177962</td>\n",
              "      <td>vessel coronary disease, left ventricular func...</td>\n",
              "    </tr>\n",
              "  </tbody>\n",
              "</table>\n",
              "</div>\n",
              "      <button class=\"colab-df-convert\" onclick=\"convertToInteractive('df-88f81e67-c8a2-4485-9d2d-d4b31cab5e18')\"\n",
              "              title=\"Convert this dataframe to an interactive table.\"\n",
              "              style=\"display:none;\">\n",
              "        \n",
              "  <svg xmlns=\"http://www.w3.org/2000/svg\" height=\"24px\"viewBox=\"0 0 24 24\"\n",
              "       width=\"24px\">\n",
              "    <path d=\"M0 0h24v24H0V0z\" fill=\"none\"/>\n",
              "    <path d=\"M18.56 5.44l.94 2.06.94-2.06 2.06-.94-2.06-.94-.94-2.06-.94 2.06-2.06.94zm-11 1L8.5 8.5l.94-2.06 2.06-.94-2.06-.94L8.5 2.5l-.94 2.06-2.06.94zm10 10l.94 2.06.94-2.06 2.06-.94-2.06-.94-.94-2.06-.94 2.06-2.06.94z\"/><path d=\"M17.41 7.96l-1.37-1.37c-.4-.4-.92-.59-1.43-.59-.52 0-1.04.2-1.43.59L10.3 9.45l-7.72 7.72c-.78.78-.78 2.05 0 2.83L4 21.41c.39.39.9.59 1.41.59.51 0 1.02-.2 1.41-.59l7.78-7.78 2.81-2.81c.8-.78.8-2.07 0-2.86zM5.41 20L4 18.59l7.72-7.72 1.47 1.35L5.41 20z\"/>\n",
              "  </svg>\n",
              "      </button>\n",
              "      \n",
              "  <style>\n",
              "    .colab-df-container {\n",
              "      display:flex;\n",
              "      flex-wrap:wrap;\n",
              "      gap: 12px;\n",
              "    }\n",
              "\n",
              "    .colab-df-convert {\n",
              "      background-color: #E8F0FE;\n",
              "      border: none;\n",
              "      border-radius: 50%;\n",
              "      cursor: pointer;\n",
              "      display: none;\n",
              "      fill: #1967D2;\n",
              "      height: 32px;\n",
              "      padding: 0 0 0 0;\n",
              "      width: 32px;\n",
              "    }\n",
              "\n",
              "    .colab-df-convert:hover {\n",
              "      background-color: #E2EBFA;\n",
              "      box-shadow: 0px 1px 2px rgba(60, 64, 67, 0.3), 0px 1px 3px 1px rgba(60, 64, 67, 0.15);\n",
              "      fill: #174EA6;\n",
              "    }\n",
              "\n",
              "    [theme=dark] .colab-df-convert {\n",
              "      background-color: #3B4455;\n",
              "      fill: #D2E3FC;\n",
              "    }\n",
              "\n",
              "    [theme=dark] .colab-df-convert:hover {\n",
              "      background-color: #434B5C;\n",
              "      box-shadow: 0px 1px 3px 1px rgba(0, 0, 0, 0.15);\n",
              "      filter: drop-shadow(0px 1px 2px rgba(0, 0, 0, 0.3));\n",
              "      fill: #FFFFFF;\n",
              "    }\n",
              "  </style>\n",
              "\n",
              "      <script>\n",
              "        const buttonEl =\n",
              "          document.querySelector('#df-88f81e67-c8a2-4485-9d2d-d4b31cab5e18 button.colab-df-convert');\n",
              "        buttonEl.style.display =\n",
              "          google.colab.kernel.accessAllowed ? 'block' : 'none';\n",
              "\n",
              "        async function convertToInteractive(key) {\n",
              "          const element = document.querySelector('#df-88f81e67-c8a2-4485-9d2d-d4b31cab5e18');\n",
              "          const dataTable =\n",
              "            await google.colab.kernel.invokeFunction('convertToInteractive',\n",
              "                                                     [key], {});\n",
              "          if (!dataTable) return;\n",
              "\n",
              "          const docLinkHtml = 'Like what you see? Visit the ' +\n",
              "            '<a target=\"_blank\" href=https://colab.research.google.com/notebooks/data_table.ipynb>data table notebook</a>'\n",
              "            + ' to learn more about interactive tables.';\n",
              "          element.innerHTML = '';\n",
              "          dataTable['output_type'] = 'display_data';\n",
              "          await google.colab.output.renderOutput(dataTable, element);\n",
              "          const docLink = document.createElement('div');\n",
              "          docLink.innerHTML = docLinkHtml;\n",
              "          element.appendChild(docLink);\n",
              "        }\n",
              "      </script>\n",
              "    </div>\n",
              "  </div>\n",
              "  "
            ]
          },
          "metadata": {},
          "execution_count": 25
        }
      ],
      "source": [
        "df_text.head()"
      ]
    },
    {
      "cell_type": "markdown",
      "source": [
        "#تولید دیکشنری از مفاهیم"
      ],
      "metadata": {
        "id": "14SdZbkxZ44c"
      }
    },
    {
      "cell_type": "code",
      "source": [
        "dd=pd.read_csv('/content/drive/MyDrive/PaperA3/Diagnoses_labels/Dictionary.csv')\n",
        "dictionary = dict(zip(dd.first_cuid, dd.canonical_name))"
      ],
      "metadata": {
        "id": "L_j4WzCOf3eO"
      },
      "execution_count": 26,
      "outputs": []
    },
    {
      "cell_type": "markdown",
      "source": [
        "# تولید دیکشنری"
      ],
      "metadata": {
        "id": "Xy11lYLzf5nE"
      }
    },
    {
      "cell_type": "code",
      "execution_count": null,
      "metadata": {
        "colab": {
          "base_uri": "https://localhost:8080/"
        },
        "id": "nIQDS-VIvljA",
        "outputId": "07831c77-03d1-4d9e-c425-06f4cb0f43b5"
      },
      "outputs": [
        {
          "name": "stderr",
          "output_type": "stream",
          "text": [
            "/usr/local/lib/python3.7/dist-packages/IPython/core/interactiveshell.py:2882: DtypeWarning: Columns (1,2,5) have mixed types.Specify dtype option on import or set low_memory=False.\n",
            "  exec(code_obj, self.user_global_ns, self.user_ns)\n"
          ]
        }
      ],
      "source": [
        "filename=\"/content/drive/MyDrive/PaperA3/CUI/CUI_Total.csv\"\n",
        "df=pd.read_csv(filename)"
      ]
    },
    {
      "cell_type": "code",
      "execution_count": null,
      "metadata": {
        "colab": {
          "base_uri": "https://localhost:8080/"
        },
        "id": "Ry5xsZDrMj2I",
        "outputId": "1e7f5bba-401c-4831-b2bf-e198ade69cd4"
      },
      "outputs": [
        {
          "name": "stdout",
          "output_type": "stream",
          "text": [
            "18075318\n",
            "25312\n"
          ]
        },
        {
          "name": "stderr",
          "output_type": "stream",
          "text": [
            "/usr/local/lib/python3.7/dist-packages/pandas/util/_decorators.py:311: SettingWithCopyWarning: \n",
            "A value is trying to be set on a copy of a slice from a DataFrame\n",
            "\n",
            "See the caveats in the documentation: https://pandas.pydata.org/pandas-docs/stable/user_guide/indexing.html#returning-a-view-versus-a-copy\n",
            "  return func(*args, **kwargs)\n"
          ]
        }
      ],
      "source": [
        "dd=df[['first_cuid', 'canonical_name']]\n",
        "print(len(dd))\n",
        "dd.drop_duplicates(keep=\"last\",inplace=True)\n",
        "print(len(dd))"
      ]
    },
    {
      "cell_type": "code",
      "execution_count": null,
      "metadata": {
        "colab": {
          "base_uri": "https://localhost:8080/",
          "height": 206
        },
        "id": "bxIDtrRMT4TO",
        "outputId": "bb78f2da-4186-4e9c-c7ea-5d4df478e939"
      },
      "outputs": [
        {
          "data": {
            "text/html": [
              "\n",
              "  <div id=\"df-a76c8b5b-e8f3-4ff8-a357-189f72edd7d5\">\n",
              "    <div class=\"colab-df-container\">\n",
              "      <div>\n",
              "<style scoped>\n",
              "    .dataframe tbody tr th:only-of-type {\n",
              "        vertical-align: middle;\n",
              "    }\n",
              "\n",
              "    .dataframe tbody tr th {\n",
              "        vertical-align: top;\n",
              "    }\n",
              "\n",
              "    .dataframe thead th {\n",
              "        text-align: right;\n",
              "    }\n",
              "</style>\n",
              "<table border=\"1\" class=\"dataframe\">\n",
              "  <thead>\n",
              "    <tr style=\"text-align: right;\">\n",
              "      <th></th>\n",
              "      <th>first_cuid</th>\n",
              "      <th>canonical_name</th>\n",
              "    </tr>\n",
              "  </thead>\n",
              "  <tbody>\n",
              "    <tr>\n",
              "      <th>355</th>\n",
              "      <td>C1278302</td>\n",
              "      <td>Hepatitis B screening test</td>\n",
              "    </tr>\n",
              "    <tr>\n",
              "      <th>400</th>\n",
              "      <td>C0004285</td>\n",
              "      <td>Audiology</td>\n",
              "    </tr>\n",
              "    <tr>\n",
              "      <th>833</th>\n",
              "      <td>C0001916</td>\n",
              "      <td>Albinism</td>\n",
              "    </tr>\n",
              "    <tr>\n",
              "      <th>1130</th>\n",
              "      <td>C0013069</td>\n",
              "      <td>Double Outlet Right Ventricle</td>\n",
              "    </tr>\n",
              "    <tr>\n",
              "      <th>1691</th>\n",
              "      <td>C1394030</td>\n",
              "      <td>Coronal hypospadias</td>\n",
              "    </tr>\n",
              "  </tbody>\n",
              "</table>\n",
              "</div>\n",
              "      <button class=\"colab-df-convert\" onclick=\"convertToInteractive('df-a76c8b5b-e8f3-4ff8-a357-189f72edd7d5')\"\n",
              "              title=\"Convert this dataframe to an interactive table.\"\n",
              "              style=\"display:none;\">\n",
              "        \n",
              "  <svg xmlns=\"http://www.w3.org/2000/svg\" height=\"24px\"viewBox=\"0 0 24 24\"\n",
              "       width=\"24px\">\n",
              "    <path d=\"M0 0h24v24H0V0z\" fill=\"none\"/>\n",
              "    <path d=\"M18.56 5.44l.94 2.06.94-2.06 2.06-.94-2.06-.94-.94-2.06-.94 2.06-2.06.94zm-11 1L8.5 8.5l.94-2.06 2.06-.94-2.06-.94L8.5 2.5l-.94 2.06-2.06.94zm10 10l.94 2.06.94-2.06 2.06-.94-2.06-.94-.94-2.06-.94 2.06-2.06.94z\"/><path d=\"M17.41 7.96l-1.37-1.37c-.4-.4-.92-.59-1.43-.59-.52 0-1.04.2-1.43.59L10.3 9.45l-7.72 7.72c-.78.78-.78 2.05 0 2.83L4 21.41c.39.39.9.59 1.41.59.51 0 1.02-.2 1.41-.59l7.78-7.78 2.81-2.81c.8-.78.8-2.07 0-2.86zM5.41 20L4 18.59l7.72-7.72 1.47 1.35L5.41 20z\"/>\n",
              "  </svg>\n",
              "      </button>\n",
              "      \n",
              "  <style>\n",
              "    .colab-df-container {\n",
              "      display:flex;\n",
              "      flex-wrap:wrap;\n",
              "      gap: 12px;\n",
              "    }\n",
              "\n",
              "    .colab-df-convert {\n",
              "      background-color: #E8F0FE;\n",
              "      border: none;\n",
              "      border-radius: 50%;\n",
              "      cursor: pointer;\n",
              "      display: none;\n",
              "      fill: #1967D2;\n",
              "      height: 32px;\n",
              "      padding: 0 0 0 0;\n",
              "      width: 32px;\n",
              "    }\n",
              "\n",
              "    .colab-df-convert:hover {\n",
              "      background-color: #E2EBFA;\n",
              "      box-shadow: 0px 1px 2px rgba(60, 64, 67, 0.3), 0px 1px 3px 1px rgba(60, 64, 67, 0.15);\n",
              "      fill: #174EA6;\n",
              "    }\n",
              "\n",
              "    [theme=dark] .colab-df-convert {\n",
              "      background-color: #3B4455;\n",
              "      fill: #D2E3FC;\n",
              "    }\n",
              "\n",
              "    [theme=dark] .colab-df-convert:hover {\n",
              "      background-color: #434B5C;\n",
              "      box-shadow: 0px 1px 3px 1px rgba(0, 0, 0, 0.15);\n",
              "      filter: drop-shadow(0px 1px 2px rgba(0, 0, 0, 0.3));\n",
              "      fill: #FFFFFF;\n",
              "    }\n",
              "  </style>\n",
              "\n",
              "      <script>\n",
              "        const buttonEl =\n",
              "          document.querySelector('#df-a76c8b5b-e8f3-4ff8-a357-189f72edd7d5 button.colab-df-convert');\n",
              "        buttonEl.style.display =\n",
              "          google.colab.kernel.accessAllowed ? 'block' : 'none';\n",
              "\n",
              "        async function convertToInteractive(key) {\n",
              "          const element = document.querySelector('#df-a76c8b5b-e8f3-4ff8-a357-189f72edd7d5');\n",
              "          const dataTable =\n",
              "            await google.colab.kernel.invokeFunction('convertToInteractive',\n",
              "                                                     [key], {});\n",
              "          if (!dataTable) return;\n",
              "\n",
              "          const docLinkHtml = 'Like what you see? Visit the ' +\n",
              "            '<a target=\"_blank\" href=https://colab.research.google.com/notebooks/data_table.ipynb>data table notebook</a>'\n",
              "            + ' to learn more about interactive tables.';\n",
              "          element.innerHTML = '';\n",
              "          dataTable['output_type'] = 'display_data';\n",
              "          await google.colab.output.renderOutput(dataTable, element);\n",
              "          const docLink = document.createElement('div');\n",
              "          docLink.innerHTML = docLinkHtml;\n",
              "          element.appendChild(docLink);\n",
              "        }\n",
              "      </script>\n",
              "    </div>\n",
              "  </div>\n",
              "  "
            ],
            "text/plain": [
              "     first_cuid                 canonical_name\n",
              "355    C1278302     Hepatitis B screening test\n",
              "400    C0004285                      Audiology\n",
              "833    C0001916                       Albinism\n",
              "1130   C0013069  Double Outlet Right Ventricle\n",
              "1691   C1394030            Coronal hypospadias"
            ]
          },
          "execution_count": 41,
          "metadata": {},
          "output_type": "execute_result"
        }
      ],
      "source": [
        "\n",
        "dd.head()"
      ]
    },
    {
      "cell_type": "markdown",
      "metadata": {
        "id": "i7_epa70YAIW"
      },
      "source": [
        "برای تولید دیکشنری به این فرم حتما باید زیپ کرد"
      ]
    },
    {
      "cell_type": "code",
      "execution_count": null,
      "metadata": {
        "id": "bm_U6jXoUqYx"
      },
      "outputs": [],
      "source": [
        "\n",
        "dictionary = dict(zip(dd.first_cuid, dd.canonical_name))\n"
      ]
    },
    {
      "cell_type": "code",
      "execution_count": null,
      "metadata": {
        "id": "6SDnM2WRX5_m"
      },
      "outputs": [],
      "source": [
        "dictionary"
      ]
    },
    {
      "cell_type": "code",
      "execution_count": null,
      "metadata": {
        "id": "OXhcvDWmwGmy"
      },
      "outputs": [],
      "source": [
        "dd.to_csv('/content/drive/MyDrive/PaperA3/Diagnoses_labels/Dictionary.csv')\n"
      ]
    },
    {
      "cell_type": "markdown",
      "source": [
        "#Integration"
      ],
      "metadata": {
        "id": "fP43L1JSFsqF"
      }
    },
    {
      "cell_type": "markdown",
      "source": [
        "#تولید دیتاست"
      ],
      "metadata": {
        "id": "hGje0pH0Z_Mf"
      }
    },
    {
      "cell_type": "code",
      "execution_count": 27,
      "metadata": {
        "id": "M0iQ_DpSwgLa"
      },
      "outputs": [],
      "source": [
        "import ast\n",
        "def complex_function( ini_list):\n",
        "\n",
        "    res = ast.literal_eval(ini_list)\n",
        "    tms_text=''\n",
        "    try:\n",
        "      for i in res:\n",
        "        \n",
        "        if(i.upper().startswith(\"NOT\")):\n",
        "          tms_text=tms_text +'NOT '+dictionary[i[4:].upper()] +' '\n",
        "        else:\n",
        "          tms_text=tms_text +dictionary[i.upper()] +' '  \n",
        "    except :\n",
        "          print(i)    \n",
        "    return tms_text "
      ]
    },
    {
      "cell_type": "code",
      "execution_count": 28,
      "metadata": {
        "colab": {
          "base_uri": "https://localhost:8080/",
          "height": 36
        },
        "id": "XqJsb06k6-rq",
        "outputId": "7ebf43b6-d918-47a3-8b76-02319f68d73d"
      },
      "outputs": [
        {
          "output_type": "execute_result",
          "data": {
            "text/plain": [
              "'Mucous body substance'"
            ],
            "application/vnd.google.colaboratory.intrinsic+json": {
              "type": "string"
            }
          },
          "metadata": {},
          "execution_count": 28
        }
      ],
      "source": [
        "dictionary['C0026727']"
      ]
    },
    {
      "cell_type": "code",
      "execution_count": null,
      "metadata": {
        "id": "sC41KKpg7Ys8"
      },
      "outputs": [],
      "source": [
        "#only for TFIDF\n",
        "df_text['Text'] = df_text.apply(lambda x: complex_function(x['list_CUIs']), axis=1)\n",
        "df_text.head()\n"
      ]
    },
    {
      "cell_type": "code",
      "source": [
        "df_text = df_text.rename(columns={'label': 'HADM_ID'})"
      ],
      "metadata": {
        "id": "QmIpEDJrgXid"
      },
      "execution_count": 31,
      "outputs": []
    },
    {
      "cell_type": "code",
      "execution_count": 32,
      "metadata": {
        "colab": {
          "base_uri": "https://localhost:8080/",
          "height": 646
        },
        "id": "hdRxr_BZGiqC",
        "outputId": "3e583ec2-e780-4e15-aa75-15d11dcdd074"
      },
      "outputs": [
        {
          "output_type": "stream",
          "name": "stdout",
          "text": [
            "(26029, 23)\n"
          ]
        },
        {
          "output_type": "execute_result",
          "data": {
            "text/plain": [
              "   Unnamed: 0_x  HADM_ID                                               Text  \\\n",
              "0             0   157267  ulcer, ankle edema, pain, finding, hodgkin dis...   \n",
              "1             0   123103  heart valve disease, cholesterol measurement t...   \n",
              "2             1   139931  mitral valve insufficiency, hypertensive disea...   \n",
              "3             2   198295  hypertensive disease, edema, cholecystitis, ox...   \n",
              "4             3   177962  vessel coronary disease, left ventricular func...   \n",
              "\n",
              "   Unnamed: 0_y    L1    1    2    3    4    5  ...    9   10   11   12   13  \\\n",
              "0       29918.0  13.0  0.0  0.0  1.0  0.0  0.0  ...  0.0  1.0  0.0  0.0  0.0   \n",
              "1       12144.0  18.0  0.0  0.0  1.0  0.0  0.0  ...  0.0  0.0  0.0  0.0  0.0   \n",
              "2       20902.0  21.0  0.0  0.0  0.0  0.0  0.0  ...  0.0  0.0  0.0  0.0  0.0   \n",
              "3       51440.0  25.0  0.0  0.0  0.0  0.0  0.0  ...  0.0  0.0  0.0  0.0  0.0   \n",
              "4       40804.0  21.0  0.0  0.0  0.0  0.0  0.0  ...  0.0  0.0  0.0  0.0  0.0   \n",
              "\n",
              "    14   15   16   17   18  \n",
              "0  0.0  0.0  0.0  0.0  0.0  \n",
              "1  0.0  0.0  0.0  0.0  0.0  \n",
              "2  0.0  0.0  0.0  0.0  0.0  \n",
              "3  0.0  0.0  0.0  1.0  0.0  \n",
              "4  0.0  0.0  0.0  0.0  0.0  \n",
              "\n",
              "[5 rows x 23 columns]"
            ],
            "text/html": [
              "\n",
              "  <div id=\"df-e8f7333d-a686-419a-89ee-7f316aa470eb\">\n",
              "    <div class=\"colab-df-container\">\n",
              "      <div>\n",
              "<style scoped>\n",
              "    .dataframe tbody tr th:only-of-type {\n",
              "        vertical-align: middle;\n",
              "    }\n",
              "\n",
              "    .dataframe tbody tr th {\n",
              "        vertical-align: top;\n",
              "    }\n",
              "\n",
              "    .dataframe thead th {\n",
              "        text-align: right;\n",
              "    }\n",
              "</style>\n",
              "<table border=\"1\" class=\"dataframe\">\n",
              "  <thead>\n",
              "    <tr style=\"text-align: right;\">\n",
              "      <th></th>\n",
              "      <th>Unnamed: 0_x</th>\n",
              "      <th>HADM_ID</th>\n",
              "      <th>Text</th>\n",
              "      <th>Unnamed: 0_y</th>\n",
              "      <th>L1</th>\n",
              "      <th>1</th>\n",
              "      <th>2</th>\n",
              "      <th>3</th>\n",
              "      <th>4</th>\n",
              "      <th>5</th>\n",
              "      <th>...</th>\n",
              "      <th>9</th>\n",
              "      <th>10</th>\n",
              "      <th>11</th>\n",
              "      <th>12</th>\n",
              "      <th>13</th>\n",
              "      <th>14</th>\n",
              "      <th>15</th>\n",
              "      <th>16</th>\n",
              "      <th>17</th>\n",
              "      <th>18</th>\n",
              "    </tr>\n",
              "  </thead>\n",
              "  <tbody>\n",
              "    <tr>\n",
              "      <th>0</th>\n",
              "      <td>0</td>\n",
              "      <td>157267</td>\n",
              "      <td>ulcer, ankle edema, pain, finding, hodgkin dis...</td>\n",
              "      <td>29918.0</td>\n",
              "      <td>13.0</td>\n",
              "      <td>0.0</td>\n",
              "      <td>0.0</td>\n",
              "      <td>1.0</td>\n",
              "      <td>0.0</td>\n",
              "      <td>0.0</td>\n",
              "      <td>...</td>\n",
              "      <td>0.0</td>\n",
              "      <td>1.0</td>\n",
              "      <td>0.0</td>\n",
              "      <td>0.0</td>\n",
              "      <td>0.0</td>\n",
              "      <td>0.0</td>\n",
              "      <td>0.0</td>\n",
              "      <td>0.0</td>\n",
              "      <td>0.0</td>\n",
              "      <td>0.0</td>\n",
              "    </tr>\n",
              "    <tr>\n",
              "      <th>1</th>\n",
              "      <td>0</td>\n",
              "      <td>123103</td>\n",
              "      <td>heart valve disease, cholesterol measurement t...</td>\n",
              "      <td>12144.0</td>\n",
              "      <td>18.0</td>\n",
              "      <td>0.0</td>\n",
              "      <td>0.0</td>\n",
              "      <td>1.0</td>\n",
              "      <td>0.0</td>\n",
              "      <td>0.0</td>\n",
              "      <td>...</td>\n",
              "      <td>0.0</td>\n",
              "      <td>0.0</td>\n",
              "      <td>0.0</td>\n",
              "      <td>0.0</td>\n",
              "      <td>0.0</td>\n",
              "      <td>0.0</td>\n",
              "      <td>0.0</td>\n",
              "      <td>0.0</td>\n",
              "      <td>0.0</td>\n",
              "      <td>0.0</td>\n",
              "    </tr>\n",
              "    <tr>\n",
              "      <th>2</th>\n",
              "      <td>1</td>\n",
              "      <td>139931</td>\n",
              "      <td>mitral valve insufficiency, hypertensive disea...</td>\n",
              "      <td>20902.0</td>\n",
              "      <td>21.0</td>\n",
              "      <td>0.0</td>\n",
              "      <td>0.0</td>\n",
              "      <td>0.0</td>\n",
              "      <td>0.0</td>\n",
              "      <td>0.0</td>\n",
              "      <td>...</td>\n",
              "      <td>0.0</td>\n",
              "      <td>0.0</td>\n",
              "      <td>0.0</td>\n",
              "      <td>0.0</td>\n",
              "      <td>0.0</td>\n",
              "      <td>0.0</td>\n",
              "      <td>0.0</td>\n",
              "      <td>0.0</td>\n",
              "      <td>0.0</td>\n",
              "      <td>0.0</td>\n",
              "    </tr>\n",
              "    <tr>\n",
              "      <th>3</th>\n",
              "      <td>2</td>\n",
              "      <td>198295</td>\n",
              "      <td>hypertensive disease, edema, cholecystitis, ox...</td>\n",
              "      <td>51440.0</td>\n",
              "      <td>25.0</td>\n",
              "      <td>0.0</td>\n",
              "      <td>0.0</td>\n",
              "      <td>0.0</td>\n",
              "      <td>0.0</td>\n",
              "      <td>0.0</td>\n",
              "      <td>...</td>\n",
              "      <td>0.0</td>\n",
              "      <td>0.0</td>\n",
              "      <td>0.0</td>\n",
              "      <td>0.0</td>\n",
              "      <td>0.0</td>\n",
              "      <td>0.0</td>\n",
              "      <td>0.0</td>\n",
              "      <td>0.0</td>\n",
              "      <td>1.0</td>\n",
              "      <td>0.0</td>\n",
              "    </tr>\n",
              "    <tr>\n",
              "      <th>4</th>\n",
              "      <td>3</td>\n",
              "      <td>177962</td>\n",
              "      <td>vessel coronary disease, left ventricular func...</td>\n",
              "      <td>40804.0</td>\n",
              "      <td>21.0</td>\n",
              "      <td>0.0</td>\n",
              "      <td>0.0</td>\n",
              "      <td>0.0</td>\n",
              "      <td>0.0</td>\n",
              "      <td>0.0</td>\n",
              "      <td>...</td>\n",
              "      <td>0.0</td>\n",
              "      <td>0.0</td>\n",
              "      <td>0.0</td>\n",
              "      <td>0.0</td>\n",
              "      <td>0.0</td>\n",
              "      <td>0.0</td>\n",
              "      <td>0.0</td>\n",
              "      <td>0.0</td>\n",
              "      <td>0.0</td>\n",
              "      <td>0.0</td>\n",
              "    </tr>\n",
              "  </tbody>\n",
              "</table>\n",
              "<p>5 rows × 23 columns</p>\n",
              "</div>\n",
              "      <button class=\"colab-df-convert\" onclick=\"convertToInteractive('df-e8f7333d-a686-419a-89ee-7f316aa470eb')\"\n",
              "              title=\"Convert this dataframe to an interactive table.\"\n",
              "              style=\"display:none;\">\n",
              "        \n",
              "  <svg xmlns=\"http://www.w3.org/2000/svg\" height=\"24px\"viewBox=\"0 0 24 24\"\n",
              "       width=\"24px\">\n",
              "    <path d=\"M0 0h24v24H0V0z\" fill=\"none\"/>\n",
              "    <path d=\"M18.56 5.44l.94 2.06.94-2.06 2.06-.94-2.06-.94-.94-2.06-.94 2.06-2.06.94zm-11 1L8.5 8.5l.94-2.06 2.06-.94-2.06-.94L8.5 2.5l-.94 2.06-2.06.94zm10 10l.94 2.06.94-2.06 2.06-.94-2.06-.94-.94-2.06-.94 2.06-2.06.94z\"/><path d=\"M17.41 7.96l-1.37-1.37c-.4-.4-.92-.59-1.43-.59-.52 0-1.04.2-1.43.59L10.3 9.45l-7.72 7.72c-.78.78-.78 2.05 0 2.83L4 21.41c.39.39.9.59 1.41.59.51 0 1.02-.2 1.41-.59l7.78-7.78 2.81-2.81c.8-.78.8-2.07 0-2.86zM5.41 20L4 18.59l7.72-7.72 1.47 1.35L5.41 20z\"/>\n",
              "  </svg>\n",
              "      </button>\n",
              "      \n",
              "  <style>\n",
              "    .colab-df-container {\n",
              "      display:flex;\n",
              "      flex-wrap:wrap;\n",
              "      gap: 12px;\n",
              "    }\n",
              "\n",
              "    .colab-df-convert {\n",
              "      background-color: #E8F0FE;\n",
              "      border: none;\n",
              "      border-radius: 50%;\n",
              "      cursor: pointer;\n",
              "      display: none;\n",
              "      fill: #1967D2;\n",
              "      height: 32px;\n",
              "      padding: 0 0 0 0;\n",
              "      width: 32px;\n",
              "    }\n",
              "\n",
              "    .colab-df-convert:hover {\n",
              "      background-color: #E2EBFA;\n",
              "      box-shadow: 0px 1px 2px rgba(60, 64, 67, 0.3), 0px 1px 3px 1px rgba(60, 64, 67, 0.15);\n",
              "      fill: #174EA6;\n",
              "    }\n",
              "\n",
              "    [theme=dark] .colab-df-convert {\n",
              "      background-color: #3B4455;\n",
              "      fill: #D2E3FC;\n",
              "    }\n",
              "\n",
              "    [theme=dark] .colab-df-convert:hover {\n",
              "      background-color: #434B5C;\n",
              "      box-shadow: 0px 1px 3px 1px rgba(0, 0, 0, 0.15);\n",
              "      filter: drop-shadow(0px 1px 2px rgba(0, 0, 0, 0.3));\n",
              "      fill: #FFFFFF;\n",
              "    }\n",
              "  </style>\n",
              "\n",
              "      <script>\n",
              "        const buttonEl =\n",
              "          document.querySelector('#df-e8f7333d-a686-419a-89ee-7f316aa470eb button.colab-df-convert');\n",
              "        buttonEl.style.display =\n",
              "          google.colab.kernel.accessAllowed ? 'block' : 'none';\n",
              "\n",
              "        async function convertToInteractive(key) {\n",
              "          const element = document.querySelector('#df-e8f7333d-a686-419a-89ee-7f316aa470eb');\n",
              "          const dataTable =\n",
              "            await google.colab.kernel.invokeFunction('convertToInteractive',\n",
              "                                                     [key], {});\n",
              "          if (!dataTable) return;\n",
              "\n",
              "          const docLinkHtml = 'Like what you see? Visit the ' +\n",
              "            '<a target=\"_blank\" href=https://colab.research.google.com/notebooks/data_table.ipynb>data table notebook</a>'\n",
              "            + ' to learn more about interactive tables.';\n",
              "          element.innerHTML = '';\n",
              "          dataTable['output_type'] = 'display_data';\n",
              "          await google.colab.output.renderOutput(dataTable, element);\n",
              "          const docLink = document.createElement('div');\n",
              "          docLink.innerHTML = docLinkHtml;\n",
              "          element.appendChild(docLink);\n",
              "        }\n",
              "      </script>\n",
              "    </div>\n",
              "  </div>\n",
              "  "
            ]
          },
          "metadata": {},
          "execution_count": 32
        }
      ],
      "source": [
        "df_total = pd.merge(df_text, df_diagnosis, on=[\"HADM_ID\"],how=\"left\")\n",
        "print(df_total.shape)\n",
        "df_total.head()"
      ]
    },
    {
      "cell_type": "code",
      "execution_count": null,
      "metadata": {
        "id": "vSHmPEebHtUl"
      },
      "outputs": [],
      "source": [
        "#Only for TFIDF\n",
        "df_total.drop(['L1','Unnamed: 0_x',  'TFIDF', 'list_CUIs', 'number_CUIs','Unnamed: 0_y'], axis=1, inplace=True)\n",
        "df_total.columns\n",
        "\n"
      ]
    },
    {
      "cell_type": "code",
      "source": [
        "df_total.drop(['L1','Unnamed: 0_x', 'Unnamed: 0_y'], axis=1, inplace=True)\n",
        "df_total.columns"
      ],
      "metadata": {
        "colab": {
          "base_uri": "https://localhost:8080/"
        },
        "id": "RnSPCbQcgqTg",
        "outputId": "0e4d99bd-3cca-4319-c044-a3bad591ffcc"
      },
      "execution_count": 34,
      "outputs": [
        {
          "output_type": "execute_result",
          "data": {
            "text/plain": [
              "Index(['HADM_ID', 'Text', '1', '2', '3', '4', '5', '6', '7', '8', '9', '10',\n",
              "       '11', '12', '13', '14', '15', '16', '17', '18'],\n",
              "      dtype='object')"
            ]
          },
          "metadata": {},
          "execution_count": 34
        }
      ]
    },
    {
      "cell_type": "code",
      "execution_count": 35,
      "metadata": {
        "id": "4TzQjER-U0SI"
      },
      "outputs": [],
      "source": [
        "\n",
        "df_raw=df_total\n",
        "df_raw = df_raw.rename(columns={'Text': 'comment_text'})"
      ]
    },
    {
      "cell_type": "code",
      "execution_count": 36,
      "metadata": {
        "colab": {
          "base_uri": "https://localhost:8080/"
        },
        "id": "0UErIEWUU0PS",
        "outputId": "d37ddc83-d7f3-4c37-fe2e-f99d93d6940c"
      },
      "outputs": [
        {
          "output_type": "execute_result",
          "data": {
            "text/plain": [
              "(26029, 20)"
            ]
          },
          "metadata": {},
          "execution_count": 36
        }
      ],
      "source": [
        "df_raw.shape"
      ]
    },
    {
      "cell_type": "code",
      "execution_count": 37,
      "metadata": {
        "id": "8q0Bce9QGqY8"
      },
      "outputs": [],
      "source": [
        "def bool(value):    \n",
        "  if(value==1):\n",
        "          tms_text=True\n",
        "  else:\n",
        "          tms_text=False    \n",
        "  return tms_text \n",
        "\n",
        "\n"
      ]
    },
    {
      "cell_type": "code",
      "source": [
        "df_raw.rename(columns={'1' : 'L_1.0', '2':'L_2.0', '3':'L_3.0', '4':'L_4.0', '5':'L_5.0', '6':'L_6.0', '7':'L_7.0', '8':'L_8.0', '9':'L_9.0', '10':'L_10.0',\n",
        "       '11':'L_11.0', '12':'L_12.0', '13':'L_13.0', '14':'L_14.0', '15':'L_15.0', '16':'L_16.0', '17':'L_17.0', '18':'L_18.0'}, inplace=True)\n",
        "df_raw.columns"
      ],
      "metadata": {
        "colab": {
          "base_uri": "https://localhost:8080/"
        },
        "id": "erE7IMhXg5Rw",
        "outputId": "67699fe3-92b9-4716-bdab-7ab064a68a71"
      },
      "execution_count": 38,
      "outputs": [
        {
          "output_type": "execute_result",
          "data": {
            "text/plain": [
              "Index(['HADM_ID', 'comment_text', 'L_1.0', 'L_2.0', 'L_3.0', 'L_4.0', 'L_5.0',\n",
              "       'L_6.0', 'L_7.0', 'L_8.0', 'L_9.0', 'L_10.0', 'L_11.0', 'L_12.0',\n",
              "       'L_13.0', 'L_14.0', 'L_15.0', 'L_16.0', 'L_17.0', 'L_18.0'],\n",
              "      dtype='object')"
            ]
          },
          "metadata": {},
          "execution_count": 38
        }
      ]
    },
    {
      "cell_type": "code",
      "execution_count": 39,
      "metadata": {
        "id": "A72_SjAOOhNJ"
      },
      "outputs": [],
      "source": [
        "df_raw['L_1.0'] = df_raw.apply(lambda x: bool(x['L_1.0']), axis=1)  \n",
        "df_raw['L_2.0'] = df_raw.apply(lambda x: bool(x['L_2.0']), axis=1)  \n",
        "df_raw['L_3.0'] = df_raw.apply(lambda x: bool(x['L_3.0']), axis=1)  \n",
        "df_raw['L_4.0'] = df_raw.apply(lambda x: bool(x['L_4.0']), axis=1) \n",
        "df_raw['L_5.0'] = df_raw.apply(lambda x: bool(x['L_5.0']), axis=1)  \n",
        "df_raw['L_6.0'] = df_raw.apply(lambda x: bool(x['L_6.0']), axis=1)  \n",
        "df_raw['L_7.0'] = df_raw.apply(lambda x: bool(x['L_7.0']), axis=1)  \n",
        "df_raw['L_8.0'] = df_raw.apply(lambda x: bool(x['L_8.0']), axis=1)  \n",
        "df_raw['L_9.0'] = df_raw.apply(lambda x: bool(x['L_9.0']), axis=1) \n",
        "df_raw['L_10.0'] = df_raw.apply(lambda x: bool(x['L_10.0']), axis=1)  \n",
        "df_raw['L_11.0'] = df_raw.apply(lambda x: bool(x['L_11.0']), axis=1)  \n",
        "df_raw['L_12.0'] = df_raw.apply(lambda x: bool(x['L_12.0']), axis=1)  \n",
        "df_raw['L_13.0'] = df_raw.apply(lambda x: bool(x['L_13.0']), axis=1)  \n",
        "df_raw['L_14.0'] = df_raw.apply(lambda x: bool(x['L_14.0']), axis=1) \n",
        "df_raw['L_15.0'] = df_raw.apply(lambda x: bool(x['L_15.0']), axis=1)  \n",
        "df_raw['L_16.0'] = df_raw.apply(lambda x: bool(x['L_16.0']), axis=1)  \n",
        "df_raw['L_17.0'] = df_raw.apply(lambda x: bool(x['L_17.0']), axis=1)  \n",
        "df_raw['L_18.0'] = df_raw.apply(lambda x: bool(x['L_18.0']), axis=1)  \n"
      ]
    },
    {
      "cell_type": "code",
      "execution_count": 40,
      "metadata": {
        "id": "7nS1pNISGeS3"
      },
      "outputs": [],
      "source": [
        "df_raw.to_csv('/content/drive/MyDrive/PaperA3/Final_Dataset/df_raw_'+ path[0][0]+\".csv\")"
      ]
    }
  ],
  "metadata": {
    "accelerator": "GPU",
    "colab": {
      "collapsed_sections": [],
      "name": "Create_Dataset",
      "provenance": [],
      "include_colab_link": true
    },
    "gpuClass": "standard",
    "kernelspec": {
      "display_name": "Python 3",
      "name": "python3"
    }
  },
  "nbformat": 4,
  "nbformat_minor": 0
}