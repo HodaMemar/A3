{
  "nbformat": 4,
  "nbformat_minor": 0,
  "metadata": {
    "colab": {
      "name": "Pivot.ipynb",
      "provenance": [],
      "authorship_tag": "ABX9TyPK08nRvrdcnySqfCFo/Yyb",
      "include_colab_link": true
    },
    "kernelspec": {
      "name": "python3",
      "display_name": "Python 3"
    },
    "language_info": {
      "name": "python"
    }
  },
  "cells": [
    {
      "cell_type": "markdown",
      "metadata": {
        "id": "view-in-github",
        "colab_type": "text"
      },
      "source": [
        "<a href=\"https://colab.research.google.com/github/HodaMemar/A3/blob/main/Pivot.ipynb\" target=\"_parent\"><img src=\"https://colab.research.google.com/assets/colab-badge.svg\" alt=\"Open In Colab\"/></a>"
      ]
    },
    {
      "cell_type": "code",
      "execution_count": null,
      "metadata": {
        "id": "1rcJVCASYuGJ"
      },
      "outputs": [],
      "source": [
        "from google.colab import drive\n",
        "drive.mount('/content/drive')"
      ]
    },
    {
      "cell_type": "code",
      "source": [
        "import pandas as pd\n",
        "import numpy as np\n",
        "import matplotlib.pyplot as plt\n",
        "from os.path import exists\n"
      ],
      "metadata": {
        "id": "ri-gVt9SY0vw"
      },
      "execution_count": null,
      "outputs": []
    },
    {
      "cell_type": "code",
      "source": [
        "filename=\"/content/drive/MyDrive/PaperA3/CUI__0.csv\"\n",
        "df=pd.read_csv(filename)\n",
        "for i in range(1,76):\n",
        "  filename=\"/content/drive/MyDrive/PaperA3/CUI__\"+str(i)+\".csv\"\n",
        "  if (exists(filename)==True):\n",
        "          print(i)\n",
        "          df1=pd.read_csv(filename)\n",
        "          df=pd.concat([df, df1])"
      ],
      "metadata": {
        "id": "CPO20O6_Y2d3"
      },
      "execution_count": null,
      "outputs": []
    },
    {
      "cell_type": "code",
      "source": [
        "df.to_csv('/content/drive/MyDrive/PaperA3/CUI_Total.csv')"
      ],
      "metadata": {
        "id": "vh5QQcFQY4PE"
      },
      "execution_count": null,
      "outputs": []
    },
    {
      "cell_type": "code",
      "source": [
        "def fxy(x, y):\n",
        "        if(x =='True'):\n",
        "            r='not ' + y \n",
        "        else:\n",
        "            r=y\n",
        "        return r             "
      ],
      "metadata": {
        "id": "jHZ9We2rY6NJ"
      },
      "execution_count": null,
      "outputs": []
    },
    {
      "cell_type": "markdown",
      "source": [
        "#Pivot and integrating primary dataset"
      ],
      "metadata": {
        "id": "T2r5wN3fY97g"
      }
    },
    {
      "cell_type": "code",
      "source": [
        "%%time\n",
        "for k in range(0,76):\n",
        "  filename=\"/content/drive/MyDrive/PaperA3/CUI__\"+str(k)+\".csv\"\n",
        "  if (exists(filename)==True):\n",
        "          \n",
        "          df=pd.read_csv(filename)\n",
        "          #df=pd.concat([df, df1])\n",
        "          df['Neg_CUI'] = df.apply(lambda x: fxy(x['negex'], x['canonical_name']), axis=1)\n",
        "          ls_patient=df.HADM_ID.unique()\n",
        "          print(\"CUI__\"+str(k) + \"_Number of Patients:  \" + str(len(ls_patient)) + \",   Number of records:  \" + str(len(df)))\n",
        "          FormName=''\n",
        "\n",
        "          ls_Category_Section=[]\n",
        "\n",
        "          for i in range(len(ls_patient)):\n",
        "            ls_category=df[(df['HADM_ID']==ls_patient[i] )].category_Inner.dropna().unique().tolist()\n",
        "            print(i,ls_patient[i])\n",
        "            for j in  range(len(ls_category)):\n",
        "                FormName=df[(df['HADM_ID']==ls_patient[i] ) & (df['category_Inner']==ls_category[j] )].CATEGORY.unique()\n",
        "                #print(FormName)\n",
        "                ls_Category_Section.append([k,ls_patient[i],ls_category[j]\n",
        "                                            ,FormName\n",
        "                                            ,df[(df['HADM_ID']==ls_patient[i] ) & (df['category_Inner']==ls_category[j] )].first_cuid.values.tolist()\n",
        "                                            ,df[(df['HADM_ID']==ls_patient[i] ) & (df['category_Inner']==ls_category[j] )].canonical_name.values.tolist()\n",
        "                                            ,df[(df['HADM_ID']==ls_patient[i] ) & (df['category_Inner']==ls_category[j] )].Neg_CUI.values.tolist()])\n",
        "\n",
        "          dt=pd.DataFrame(ls_Category_Section,columns=['index','HADM_ID','category_Inner','FormName','CUI','canonical_name','Neg_CUI'])\n",
        "          dt.to_csv('/content/drive/MyDrive/PaperA3/Processed/processed_'+str(k)+'.csv')"
      ],
      "metadata": {
        "id": "8XBys8iHY8qv"
      },
      "execution_count": null,
      "outputs": []
    },
    {
      "cell_type": "code",
      "source": [
        "ls_patient=dt.HADM_ID.unique()\n",
        "print(\"Number of Patients:  \" + str(len(ls_patient)) + \",   Number of records:  \" + str(len(dt)))"
      ],
      "metadata": {
        "id": "pmTWzzAFZqv5"
      },
      "execution_count": null,
      "outputs": []
    }
  ]
}