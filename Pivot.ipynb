{
  "nbformat": 4,
  "nbformat_minor": 0,
  "metadata": {
    "colab": {
      "name": "Pivot.ipynb",
      "provenance": [],
      "authorship_tag": "ABX9TyM6Zn6UAhbJXAUf/Ky3mHe8",
      "include_colab_link": true
    },
    "kernelspec": {
      "name": "python3",
      "display_name": "Python 3"
    },
    "language_info": {
      "name": "python"
    }
  },
  "cells": [
    {
      "cell_type": "markdown",
      "metadata": {
        "id": "view-in-github",
        "colab_type": "text"
      },
      "source": [
        "<a href=\"https://colab.research.google.com/github/HodaMemar/A3/blob/main/Pivot.ipynb\" target=\"_parent\"><img src=\"https://colab.research.google.com/assets/colab-badge.svg\" alt=\"Open In Colab\"/></a>"
      ]
    },
    {
      "cell_type": "code",
      "execution_count": 1,
      "metadata": {
        "id": "1rcJVCASYuGJ",
        "outputId": "c1d7984d-ab96-465a-a7bd-75a9ceb65de2",
        "colab": {
          "base_uri": "https://localhost:8080/"
        }
      },
      "outputs": [
        {
          "output_type": "stream",
          "name": "stdout",
          "text": [
            "Mounted at /content/drive\n"
          ]
        }
      ],
      "source": [
        "from google.colab import drive\n",
        "drive.mount('/content/drive')"
      ]
    },
    {
      "cell_type": "code",
      "source": [
        "import pandas as pd\n",
        "import numpy as np\n",
        "import matplotlib.pyplot as plt\n",
        "from os.path import exists\n"
      ],
      "metadata": {
        "id": "ri-gVt9SY0vw"
      },
      "execution_count": 2,
      "outputs": []
    },
    {
      "cell_type": "code",
      "source": [
        "filename=\"/content/drive/MyDrive/PaperA3/CUI/CUI__0.csv\"\n",
        "df=pd.read_csv(filename)\n",
        "df.columns"
      ],
      "metadata": {
        "id": "i9s94hW0wDMM",
        "outputId": "7b0cf0f2-372f-4ba4-b9b4-7f79e6eb2767",
        "colab": {
          "base_uri": "https://localhost:8080/"
        }
      },
      "execution_count": 4,
      "outputs": [
        {
          "output_type": "execute_result",
          "data": {
            "text/plain": [
              "Index(['Unnamed: 0', 'HADM_ID', 'title_span', 'category_Inner', 'negex',\n",
              "       'entity_text', 'first_cuid', 'canonical_name', 'label', 'CATEGORY',\n",
              "       'DRG_CODE', 'GENDER', 'AGE', 'CHARTDATE', 'TAA'],\n",
              "      dtype='object')"
            ]
          },
          "metadata": {},
          "execution_count": 4
        }
      ]
    },
    {
      "cell_type": "markdown",
      "source": [
        "\n",
        "#First solution : Integrate all CUI_#\n",
        "---\n",
        "\n",
        "\n",
        "برای پیوت کردن یک راه این است که همه فایل های مرحله قبل را ابتدا یکی کنیم و بعد \n",
        "وارد مرحله پیوت شویم. ولی این کار باعث کندی بسیار زیاد میشود\n",
        "امکان موازی سازی هم به راحتی فراهم نیست چون عملیات روی تعدادی از رکورد های پانداس است. \n"
      ],
      "metadata": {
        "id": "JKnp85b5cVTQ"
      }
    },
    {
      "cell_type": "markdown",
      "source": [
        ""
      ],
      "metadata": {
        "id": "rWKQpISscmsA"
      }
    },
    {
      "cell_type": "code",
      "source": [
        "filename=\"/content/drive/MyDrive/PaperA3/CUI/CUI__remain.csv\"\n",
        "df=pd.read_csv(filename)\n",
        "for i in range(0,76):\n",
        "  filename=\"/content/drive/MyDrive/PaperA3/CUI/CUI__\"+str(i)+\".csv\"\n",
        "  if (exists(filename)==True):\n",
        "          print(df.shape)\n",
        "          df1=pd.read_csv(filename)\n",
        "          df1=df1[['Unnamed: 0', 'HADM_ID', 'title_span', 'category_Inner', 'negex',\n",
        "                    'entity_text', 'first_cuid', 'canonical_name', 'label']]\n",
        "          df=pd.concat([df, df1])\n"
      ],
      "metadata": {
        "id": "CPO20O6_Y2d3"
      },
      "execution_count": null,
      "outputs": []
    },
    {
      "cell_type": "code",
      "source": [
        "df"
      ],
      "metadata": {
        "id": "HEEYgwpyxlZr",
        "outputId": "dc81594d-93fb-48d9-d955-b1cda615cab2",
        "colab": {
          "base_uri": "https://localhost:8080/",
          "height": 424
        }
      },
      "execution_count": 9,
      "outputs": [
        {
          "output_type": "execute_result",
          "data": {
            "text/plain": [
              "       Unnamed: 0   HADM_ID        title_span              category_Inner  \\\n",
              "0             0.0  167853.0        Allergies:                   allergies   \n",
              "1             1.0  167853.0  Chief Complaint:             chief_complaint   \n",
              "2             2.0  167853.0  Chief Complaint:             chief_complaint   \n",
              "3             3.0  167853.0  Chief Complaint:             chief_complaint   \n",
              "4             4.0  167853.0              HPI:  history_of_present_illness   \n",
              "...           ...       ...               ...                         ...   \n",
              "102090     102090    110075         FINDINGS:            labs_and_studies   \n",
              "102091     102091    110075         FINDINGS:            labs_and_studies   \n",
              "102092     102092    110075         FINDINGS:            labs_and_studies   \n",
              "102093     102093    110075         FINDINGS:            labs_and_studies   \n",
              "102094     102094    110075         FINDINGS:            labs_and_studies   \n",
              "\n",
              "        negex         entity_text first_cuid  \\\n",
              "0       False              Flagyl   C0699678   \n",
              "1       False      Abdominal Pain   C0000737   \n",
              "2       False             Heparin   C0019134   \n",
              "3       False  pulmonary\\nembolus   C0034065   \n",
              "4       False                pain   C0030193   \n",
              "...       ...                 ...        ...   \n",
              "102090  False                NSIP   C1290344   \n",
              "102091   True    pleural effusion   C0032227   \n",
              "102092   True        pneumothorax   C0032326   \n",
              "102093   True        pneumothorax   C0032326   \n",
              "102094  False         atelectatic   C0439688   \n",
              "\n",
              "                            canonical_name     label  \n",
              "0                                   Flagyl  CHEMICAL  \n",
              "1                           Abdominal Pain   DISEASE  \n",
              "2                                  heparin  CHEMICAL  \n",
              "3                       Pulmonary Embolism   DISEASE  \n",
              "4                                     Pain   DISEASE  \n",
              "...                                    ...       ...  \n",
              "102090  Nonspecific interstitial pneumonia   DISEASE  \n",
              "102091           Pleural effusion disorder   DISEASE  \n",
              "102092                        Pneumothorax   DISEASE  \n",
              "102093                        Pneumothorax   DISEASE  \n",
              "102094                         Atelectatic   DISEASE  \n",
              "\n",
              "[18075318 rows x 9 columns]"
            ],
            "text/html": [
              "\n",
              "  <div id=\"df-60df9c71-e259-4fea-8bf9-88825a162c53\">\n",
              "    <div class=\"colab-df-container\">\n",
              "      <div>\n",
              "<style scoped>\n",
              "    .dataframe tbody tr th:only-of-type {\n",
              "        vertical-align: middle;\n",
              "    }\n",
              "\n",
              "    .dataframe tbody tr th {\n",
              "        vertical-align: top;\n",
              "    }\n",
              "\n",
              "    .dataframe thead th {\n",
              "        text-align: right;\n",
              "    }\n",
              "</style>\n",
              "<table border=\"1\" class=\"dataframe\">\n",
              "  <thead>\n",
              "    <tr style=\"text-align: right;\">\n",
              "      <th></th>\n",
              "      <th>Unnamed: 0</th>\n",
              "      <th>HADM_ID</th>\n",
              "      <th>title_span</th>\n",
              "      <th>category_Inner</th>\n",
              "      <th>negex</th>\n",
              "      <th>entity_text</th>\n",
              "      <th>first_cuid</th>\n",
              "      <th>canonical_name</th>\n",
              "      <th>label</th>\n",
              "    </tr>\n",
              "  </thead>\n",
              "  <tbody>\n",
              "    <tr>\n",
              "      <th>0</th>\n",
              "      <td>0.0</td>\n",
              "      <td>167853.0</td>\n",
              "      <td>Allergies:</td>\n",
              "      <td>allergies</td>\n",
              "      <td>False</td>\n",
              "      <td>Flagyl</td>\n",
              "      <td>C0699678</td>\n",
              "      <td>Flagyl</td>\n",
              "      <td>CHEMICAL</td>\n",
              "    </tr>\n",
              "    <tr>\n",
              "      <th>1</th>\n",
              "      <td>1.0</td>\n",
              "      <td>167853.0</td>\n",
              "      <td>Chief Complaint:</td>\n",
              "      <td>chief_complaint</td>\n",
              "      <td>False</td>\n",
              "      <td>Abdominal Pain</td>\n",
              "      <td>C0000737</td>\n",
              "      <td>Abdominal Pain</td>\n",
              "      <td>DISEASE</td>\n",
              "    </tr>\n",
              "    <tr>\n",
              "      <th>2</th>\n",
              "      <td>2.0</td>\n",
              "      <td>167853.0</td>\n",
              "      <td>Chief Complaint:</td>\n",
              "      <td>chief_complaint</td>\n",
              "      <td>False</td>\n",
              "      <td>Heparin</td>\n",
              "      <td>C0019134</td>\n",
              "      <td>heparin</td>\n",
              "      <td>CHEMICAL</td>\n",
              "    </tr>\n",
              "    <tr>\n",
              "      <th>3</th>\n",
              "      <td>3.0</td>\n",
              "      <td>167853.0</td>\n",
              "      <td>Chief Complaint:</td>\n",
              "      <td>chief_complaint</td>\n",
              "      <td>False</td>\n",
              "      <td>pulmonary\\nembolus</td>\n",
              "      <td>C0034065</td>\n",
              "      <td>Pulmonary Embolism</td>\n",
              "      <td>DISEASE</td>\n",
              "    </tr>\n",
              "    <tr>\n",
              "      <th>4</th>\n",
              "      <td>4.0</td>\n",
              "      <td>167853.0</td>\n",
              "      <td>HPI:</td>\n",
              "      <td>history_of_present_illness</td>\n",
              "      <td>False</td>\n",
              "      <td>pain</td>\n",
              "      <td>C0030193</td>\n",
              "      <td>Pain</td>\n",
              "      <td>DISEASE</td>\n",
              "    </tr>\n",
              "    <tr>\n",
              "      <th>...</th>\n",
              "      <td>...</td>\n",
              "      <td>...</td>\n",
              "      <td>...</td>\n",
              "      <td>...</td>\n",
              "      <td>...</td>\n",
              "      <td>...</td>\n",
              "      <td>...</td>\n",
              "      <td>...</td>\n",
              "      <td>...</td>\n",
              "    </tr>\n",
              "    <tr>\n",
              "      <th>102090</th>\n",
              "      <td>102090</td>\n",
              "      <td>110075</td>\n",
              "      <td>FINDINGS:</td>\n",
              "      <td>labs_and_studies</td>\n",
              "      <td>False</td>\n",
              "      <td>NSIP</td>\n",
              "      <td>C1290344</td>\n",
              "      <td>Nonspecific interstitial pneumonia</td>\n",
              "      <td>DISEASE</td>\n",
              "    </tr>\n",
              "    <tr>\n",
              "      <th>102091</th>\n",
              "      <td>102091</td>\n",
              "      <td>110075</td>\n",
              "      <td>FINDINGS:</td>\n",
              "      <td>labs_and_studies</td>\n",
              "      <td>True</td>\n",
              "      <td>pleural effusion</td>\n",
              "      <td>C0032227</td>\n",
              "      <td>Pleural effusion disorder</td>\n",
              "      <td>DISEASE</td>\n",
              "    </tr>\n",
              "    <tr>\n",
              "      <th>102092</th>\n",
              "      <td>102092</td>\n",
              "      <td>110075</td>\n",
              "      <td>FINDINGS:</td>\n",
              "      <td>labs_and_studies</td>\n",
              "      <td>True</td>\n",
              "      <td>pneumothorax</td>\n",
              "      <td>C0032326</td>\n",
              "      <td>Pneumothorax</td>\n",
              "      <td>DISEASE</td>\n",
              "    </tr>\n",
              "    <tr>\n",
              "      <th>102093</th>\n",
              "      <td>102093</td>\n",
              "      <td>110075</td>\n",
              "      <td>FINDINGS:</td>\n",
              "      <td>labs_and_studies</td>\n",
              "      <td>True</td>\n",
              "      <td>pneumothorax</td>\n",
              "      <td>C0032326</td>\n",
              "      <td>Pneumothorax</td>\n",
              "      <td>DISEASE</td>\n",
              "    </tr>\n",
              "    <tr>\n",
              "      <th>102094</th>\n",
              "      <td>102094</td>\n",
              "      <td>110075</td>\n",
              "      <td>FINDINGS:</td>\n",
              "      <td>labs_and_studies</td>\n",
              "      <td>False</td>\n",
              "      <td>atelectatic</td>\n",
              "      <td>C0439688</td>\n",
              "      <td>Atelectatic</td>\n",
              "      <td>DISEASE</td>\n",
              "    </tr>\n",
              "  </tbody>\n",
              "</table>\n",
              "<p>18075318 rows × 9 columns</p>\n",
              "</div>\n",
              "      <button class=\"colab-df-convert\" onclick=\"convertToInteractive('df-60df9c71-e259-4fea-8bf9-88825a162c53')\"\n",
              "              title=\"Convert this dataframe to an interactive table.\"\n",
              "              style=\"display:none;\">\n",
              "        \n",
              "  <svg xmlns=\"http://www.w3.org/2000/svg\" height=\"24px\"viewBox=\"0 0 24 24\"\n",
              "       width=\"24px\">\n",
              "    <path d=\"M0 0h24v24H0V0z\" fill=\"none\"/>\n",
              "    <path d=\"M18.56 5.44l.94 2.06.94-2.06 2.06-.94-2.06-.94-.94-2.06-.94 2.06-2.06.94zm-11 1L8.5 8.5l.94-2.06 2.06-.94-2.06-.94L8.5 2.5l-.94 2.06-2.06.94zm10 10l.94 2.06.94-2.06 2.06-.94-2.06-.94-.94-2.06-.94 2.06-2.06.94z\"/><path d=\"M17.41 7.96l-1.37-1.37c-.4-.4-.92-.59-1.43-.59-.52 0-1.04.2-1.43.59L10.3 9.45l-7.72 7.72c-.78.78-.78 2.05 0 2.83L4 21.41c.39.39.9.59 1.41.59.51 0 1.02-.2 1.41-.59l7.78-7.78 2.81-2.81c.8-.78.8-2.07 0-2.86zM5.41 20L4 18.59l7.72-7.72 1.47 1.35L5.41 20z\"/>\n",
              "  </svg>\n",
              "      </button>\n",
              "      \n",
              "  <style>\n",
              "    .colab-df-container {\n",
              "      display:flex;\n",
              "      flex-wrap:wrap;\n",
              "      gap: 12px;\n",
              "    }\n",
              "\n",
              "    .colab-df-convert {\n",
              "      background-color: #E8F0FE;\n",
              "      border: none;\n",
              "      border-radius: 50%;\n",
              "      cursor: pointer;\n",
              "      display: none;\n",
              "      fill: #1967D2;\n",
              "      height: 32px;\n",
              "      padding: 0 0 0 0;\n",
              "      width: 32px;\n",
              "    }\n",
              "\n",
              "    .colab-df-convert:hover {\n",
              "      background-color: #E2EBFA;\n",
              "      box-shadow: 0px 1px 2px rgba(60, 64, 67, 0.3), 0px 1px 3px 1px rgba(60, 64, 67, 0.15);\n",
              "      fill: #174EA6;\n",
              "    }\n",
              "\n",
              "    [theme=dark] .colab-df-convert {\n",
              "      background-color: #3B4455;\n",
              "      fill: #D2E3FC;\n",
              "    }\n",
              "\n",
              "    [theme=dark] .colab-df-convert:hover {\n",
              "      background-color: #434B5C;\n",
              "      box-shadow: 0px 1px 3px 1px rgba(0, 0, 0, 0.15);\n",
              "      filter: drop-shadow(0px 1px 2px rgba(0, 0, 0, 0.3));\n",
              "      fill: #FFFFFF;\n",
              "    }\n",
              "  </style>\n",
              "\n",
              "      <script>\n",
              "        const buttonEl =\n",
              "          document.querySelector('#df-60df9c71-e259-4fea-8bf9-88825a162c53 button.colab-df-convert');\n",
              "        buttonEl.style.display =\n",
              "          google.colab.kernel.accessAllowed ? 'block' : 'none';\n",
              "\n",
              "        async function convertToInteractive(key) {\n",
              "          const element = document.querySelector('#df-60df9c71-e259-4fea-8bf9-88825a162c53');\n",
              "          const dataTable =\n",
              "            await google.colab.kernel.invokeFunction('convertToInteractive',\n",
              "                                                     [key], {});\n",
              "          if (!dataTable) return;\n",
              "\n",
              "          const docLinkHtml = 'Like what you see? Visit the ' +\n",
              "            '<a target=\"_blank\" href=https://colab.research.google.com/notebooks/data_table.ipynb>data table notebook</a>'\n",
              "            + ' to learn more about interactive tables.';\n",
              "          element.innerHTML = '';\n",
              "          dataTable['output_type'] = 'display_data';\n",
              "          await google.colab.output.renderOutput(dataTable, element);\n",
              "          const docLink = document.createElement('div');\n",
              "          docLink.innerHTML = docLinkHtml;\n",
              "          element.appendChild(docLink);\n",
              "        }\n",
              "      </script>\n",
              "    </div>\n",
              "  </div>\n",
              "  "
            ]
          },
          "metadata": {},
          "execution_count": 9
        }
      ]
    },
    {
      "cell_type": "markdown",
      "source": [
        "خروجی یک فایل از ترکیب همه\n",
        "مفاهیم\n",
        " میشود\n",
        "البته برای آمار در مقاله مهم است\n",
        "\n",
        "\n",
        "---\n",
        "(18075318, 10)\n",
        "\n",
        "> Indented block\n",
        "\n",
        "\n"
      ],
      "metadata": {
        "id": "RqKhWZrsc0ki"
      }
    },
    {
      "cell_type": "code",
      "source": [
        "all_CUI=pd.read_csv('/content/drive/MyDrive/PaperA3/CUI/CUI_Total.csv')\n",
        "all_CUI.shape"
      ],
      "metadata": {
        "id": "vh5QQcFQY4PE",
        "outputId": "5b36fe54-81b9-4a56-f733-7ef676da01d2",
        "colab": {
          "base_uri": "https://localhost:8080/"
        }
      },
      "execution_count": 20,
      "outputs": [
        {
          "output_type": "stream",
          "name": "stderr",
          "text": [
            "/usr/local/lib/python3.7/dist-packages/IPython/core/interactiveshell.py:2882: DtypeWarning: Columns (1,2,5) have mixed types.Specify dtype option on import or set low_memory=False.\n",
            "  exec(code_obj, self.user_global_ns, self.user_ns)\n"
          ]
        },
        {
          "output_type": "execute_result",
          "data": {
            "text/plain": [
              "(18075318, 10)"
            ]
          },
          "metadata": {},
          "execution_count": 20
        }
      ]
    },
    {
      "cell_type": "markdown",
      "source": [
        "#Pivot and integrating primary dataset"
      ],
      "metadata": {
        "id": "T2r5wN3fY97g"
      }
    },
    {
      "cell_type": "markdown",
      "source": [
        "این تابع برای تفاوت قائل شدن بین مفهوم مثبت و منفی است"
      ],
      "metadata": {
        "id": "KUBgIDNKdarL"
      }
    },
    {
      "cell_type": "code",
      "source": [
        "def fxy(x, y):\n",
        "        if(x =='True'):\n",
        "            r='not ' + y \n",
        "        else:\n",
        "            r=y\n",
        "        return r             "
      ],
      "metadata": {
        "id": "jHZ9We2rY6NJ"
      },
      "execution_count": 4,
      "outputs": []
    },
    {
      "cell_type": "markdown",
      "source": [
        "یک نمونه فایل اینجا نشان داده شده است"
      ],
      "metadata": {
        "id": "Vn0thDjcdgQc"
      }
    },
    {
      "cell_type": "code",
      "source": [
        "filename='/content/drive/MyDrive/PaperA3/CUI/CUI__77.csv'\n",
        "df=pd.read_csv(filename)"
      ],
      "metadata": {
        "id": "cZzATNdt0py4"
      },
      "execution_count": 5,
      "outputs": []
    },
    {
      "cell_type": "code",
      "source": [
        "df.shape"
      ],
      "metadata": {
        "id": "XLX2lO85VxxF",
        "outputId": "879e6e37-e229-4f49-8e6d-efe58ff303d7",
        "colab": {
          "base_uri": "https://localhost:8080/"
        }
      },
      "execution_count": 6,
      "outputs": [
        {
          "output_type": "execute_result",
          "data": {
            "text/plain": [
              "(85389, 9)"
            ]
          },
          "metadata": {},
          "execution_count": 6
        }
      ]
    },
    {
      "cell_type": "code",
      "source": [
        "df.head()"
      ],
      "metadata": {
        "id": "YqF1RB0UKmKB",
        "outputId": "be648a66-8ed0-4996-e7d7-8d61939c131d",
        "colab": {
          "base_uri": "https://localhost:8080/",
          "height": 206
        }
      },
      "execution_count": 7,
      "outputs": [
        {
          "output_type": "execute_result",
          "data": {
            "text/plain": [
              "   Unnamed: 0   HADM_ID        title_span              category_Inner  negex  \\\n",
              "0           0  167853.0        Allergies:                   allergies  False   \n",
              "1           1  167853.0  Chief Complaint:             chief_complaint  False   \n",
              "2           2  167853.0  Chief Complaint:             chief_complaint  False   \n",
              "3           3  167853.0  Chief Complaint:             chief_complaint  False   \n",
              "4           4  167853.0              HPI:  history_of_present_illness  False   \n",
              "\n",
              "          entity_text first_cuid      canonical_name     label  \n",
              "0              Flagyl   C0699678              Flagyl  CHEMICAL  \n",
              "1      Abdominal Pain   C0000737      Abdominal Pain   DISEASE  \n",
              "2             Heparin   C0019134             heparin  CHEMICAL  \n",
              "3  pulmonary\\nembolus   C0034065  Pulmonary Embolism   DISEASE  \n",
              "4                pain   C0030193                Pain   DISEASE  "
            ],
            "text/html": [
              "\n",
              "  <div id=\"df-f42e81b6-4c2b-45b8-bdf2-f57380f66ad8\">\n",
              "    <div class=\"colab-df-container\">\n",
              "      <div>\n",
              "<style scoped>\n",
              "    .dataframe tbody tr th:only-of-type {\n",
              "        vertical-align: middle;\n",
              "    }\n",
              "\n",
              "    .dataframe tbody tr th {\n",
              "        vertical-align: top;\n",
              "    }\n",
              "\n",
              "    .dataframe thead th {\n",
              "        text-align: right;\n",
              "    }\n",
              "</style>\n",
              "<table border=\"1\" class=\"dataframe\">\n",
              "  <thead>\n",
              "    <tr style=\"text-align: right;\">\n",
              "      <th></th>\n",
              "      <th>Unnamed: 0</th>\n",
              "      <th>HADM_ID</th>\n",
              "      <th>title_span</th>\n",
              "      <th>category_Inner</th>\n",
              "      <th>negex</th>\n",
              "      <th>entity_text</th>\n",
              "      <th>first_cuid</th>\n",
              "      <th>canonical_name</th>\n",
              "      <th>label</th>\n",
              "    </tr>\n",
              "  </thead>\n",
              "  <tbody>\n",
              "    <tr>\n",
              "      <th>0</th>\n",
              "      <td>0</td>\n",
              "      <td>167853.0</td>\n",
              "      <td>Allergies:</td>\n",
              "      <td>allergies</td>\n",
              "      <td>False</td>\n",
              "      <td>Flagyl</td>\n",
              "      <td>C0699678</td>\n",
              "      <td>Flagyl</td>\n",
              "      <td>CHEMICAL</td>\n",
              "    </tr>\n",
              "    <tr>\n",
              "      <th>1</th>\n",
              "      <td>1</td>\n",
              "      <td>167853.0</td>\n",
              "      <td>Chief Complaint:</td>\n",
              "      <td>chief_complaint</td>\n",
              "      <td>False</td>\n",
              "      <td>Abdominal Pain</td>\n",
              "      <td>C0000737</td>\n",
              "      <td>Abdominal Pain</td>\n",
              "      <td>DISEASE</td>\n",
              "    </tr>\n",
              "    <tr>\n",
              "      <th>2</th>\n",
              "      <td>2</td>\n",
              "      <td>167853.0</td>\n",
              "      <td>Chief Complaint:</td>\n",
              "      <td>chief_complaint</td>\n",
              "      <td>False</td>\n",
              "      <td>Heparin</td>\n",
              "      <td>C0019134</td>\n",
              "      <td>heparin</td>\n",
              "      <td>CHEMICAL</td>\n",
              "    </tr>\n",
              "    <tr>\n",
              "      <th>3</th>\n",
              "      <td>3</td>\n",
              "      <td>167853.0</td>\n",
              "      <td>Chief Complaint:</td>\n",
              "      <td>chief_complaint</td>\n",
              "      <td>False</td>\n",
              "      <td>pulmonary\\nembolus</td>\n",
              "      <td>C0034065</td>\n",
              "      <td>Pulmonary Embolism</td>\n",
              "      <td>DISEASE</td>\n",
              "    </tr>\n",
              "    <tr>\n",
              "      <th>4</th>\n",
              "      <td>4</td>\n",
              "      <td>167853.0</td>\n",
              "      <td>HPI:</td>\n",
              "      <td>history_of_present_illness</td>\n",
              "      <td>False</td>\n",
              "      <td>pain</td>\n",
              "      <td>C0030193</td>\n",
              "      <td>Pain</td>\n",
              "      <td>DISEASE</td>\n",
              "    </tr>\n",
              "  </tbody>\n",
              "</table>\n",
              "</div>\n",
              "      <button class=\"colab-df-convert\" onclick=\"convertToInteractive('df-f42e81b6-4c2b-45b8-bdf2-f57380f66ad8')\"\n",
              "              title=\"Convert this dataframe to an interactive table.\"\n",
              "              style=\"display:none;\">\n",
              "        \n",
              "  <svg xmlns=\"http://www.w3.org/2000/svg\" height=\"24px\"viewBox=\"0 0 24 24\"\n",
              "       width=\"24px\">\n",
              "    <path d=\"M0 0h24v24H0V0z\" fill=\"none\"/>\n",
              "    <path d=\"M18.56 5.44l.94 2.06.94-2.06 2.06-.94-2.06-.94-.94-2.06-.94 2.06-2.06.94zm-11 1L8.5 8.5l.94-2.06 2.06-.94-2.06-.94L8.5 2.5l-.94 2.06-2.06.94zm10 10l.94 2.06.94-2.06 2.06-.94-2.06-.94-.94-2.06-.94 2.06-2.06.94z\"/><path d=\"M17.41 7.96l-1.37-1.37c-.4-.4-.92-.59-1.43-.59-.52 0-1.04.2-1.43.59L10.3 9.45l-7.72 7.72c-.78.78-.78 2.05 0 2.83L4 21.41c.39.39.9.59 1.41.59.51 0 1.02-.2 1.41-.59l7.78-7.78 2.81-2.81c.8-.78.8-2.07 0-2.86zM5.41 20L4 18.59l7.72-7.72 1.47 1.35L5.41 20z\"/>\n",
              "  </svg>\n",
              "      </button>\n",
              "      \n",
              "  <style>\n",
              "    .colab-df-container {\n",
              "      display:flex;\n",
              "      flex-wrap:wrap;\n",
              "      gap: 12px;\n",
              "    }\n",
              "\n",
              "    .colab-df-convert {\n",
              "      background-color: #E8F0FE;\n",
              "      border: none;\n",
              "      border-radius: 50%;\n",
              "      cursor: pointer;\n",
              "      display: none;\n",
              "      fill: #1967D2;\n",
              "      height: 32px;\n",
              "      padding: 0 0 0 0;\n",
              "      width: 32px;\n",
              "    }\n",
              "\n",
              "    .colab-df-convert:hover {\n",
              "      background-color: #E2EBFA;\n",
              "      box-shadow: 0px 1px 2px rgba(60, 64, 67, 0.3), 0px 1px 3px 1px rgba(60, 64, 67, 0.15);\n",
              "      fill: #174EA6;\n",
              "    }\n",
              "\n",
              "    [theme=dark] .colab-df-convert {\n",
              "      background-color: #3B4455;\n",
              "      fill: #D2E3FC;\n",
              "    }\n",
              "\n",
              "    [theme=dark] .colab-df-convert:hover {\n",
              "      background-color: #434B5C;\n",
              "      box-shadow: 0px 1px 3px 1px rgba(0, 0, 0, 0.15);\n",
              "      filter: drop-shadow(0px 1px 2px rgba(0, 0, 0, 0.3));\n",
              "      fill: #FFFFFF;\n",
              "    }\n",
              "  </style>\n",
              "\n",
              "      <script>\n",
              "        const buttonEl =\n",
              "          document.querySelector('#df-f42e81b6-4c2b-45b8-bdf2-f57380f66ad8 button.colab-df-convert');\n",
              "        buttonEl.style.display =\n",
              "          google.colab.kernel.accessAllowed ? 'block' : 'none';\n",
              "\n",
              "        async function convertToInteractive(key) {\n",
              "          const element = document.querySelector('#df-f42e81b6-4c2b-45b8-bdf2-f57380f66ad8');\n",
              "          const dataTable =\n",
              "            await google.colab.kernel.invokeFunction('convertToInteractive',\n",
              "                                                     [key], {});\n",
              "          if (!dataTable) return;\n",
              "\n",
              "          const docLinkHtml = 'Like what you see? Visit the ' +\n",
              "            '<a target=\"_blank\" href=https://colab.research.google.com/notebooks/data_table.ipynb>data table notebook</a>'\n",
              "            + ' to learn more about interactive tables.';\n",
              "          element.innerHTML = '';\n",
              "          dataTable['output_type'] = 'display_data';\n",
              "          await google.colab.output.renderOutput(dataTable, element);\n",
              "          const docLink = document.createElement('div');\n",
              "          docLink.innerHTML = docLinkHtml;\n",
              "          element.appendChild(docLink);\n",
              "        }\n",
              "      </script>\n",
              "    </div>\n",
              "  </div>\n",
              "  "
            ]
          },
          "metadata": {},
          "execution_count": 7
        }
      ]
    },
    {
      "cell_type": "markdown",
      "source": [
        "اینجا مفاهیم منفی پردازش شده و در یک ستون جدا ذحیره میشود"
      ],
      "metadata": {
        "id": "-TlrsBcwdlcM"
      }
    },
    {
      "cell_type": "code",
      "source": [
        "df['Neg_CUI'] = df.apply(lambda x: fxy(x['negex'], x['first_cuid']), axis=1)"
      ],
      "metadata": {
        "id": "5T24ufCA1Lfb"
      },
      "execution_count": 8,
      "outputs": []
    },
    {
      "cell_type": "code",
      "source": [
        "df.shape"
      ],
      "metadata": {
        "id": "F7q_n_TlWb1-",
        "outputId": "4e9bb29f-26a1-48fe-94b7-17efd2cec6aa",
        "colab": {
          "base_uri": "https://localhost:8080/"
        }
      },
      "execution_count": 9,
      "outputs": [
        {
          "output_type": "execute_result",
          "data": {
            "text/plain": [
              "(85389, 10)"
            ]
          },
          "metadata": {},
          "execution_count": 9
        }
      ]
    },
    {
      "cell_type": "code",
      "source": [
        "df.columns"
      ],
      "metadata": {
        "id": "NXu9PfVfcL5i",
        "outputId": "234577d8-c94b-4ce9-a7e1-7938c759ac49",
        "colab": {
          "base_uri": "https://localhost:8080/"
        }
      },
      "execution_count": 10,
      "outputs": [
        {
          "output_type": "execute_result",
          "data": {
            "text/plain": [
              "Index(['Unnamed: 0', 'HADM_ID', 'title_span', 'category_Inner', 'negex',\n",
              "       'entity_text', 'first_cuid', 'canonical_name', 'label', 'Neg_CUI'],\n",
              "      dtype='object')"
            ]
          },
          "metadata": {},
          "execution_count": 10
        }
      ]
    },
    {
      "cell_type": "code",
      "source": [
        "def pivot(Pi , cat):\n",
        " tmp=df[(df['HADM_ID']==Pi ) & (df['category_Inner']==cat )]\n",
        " return [Pi,cat ,tmp.first_cuid.values.tolist()  ,tmp.canonical_name.values.tolist()  ,tmp.Neg_CUI.values.tolist()]"
      ],
      "metadata": {
        "id": "6MOuIMeWNnWb"
      },
      "execution_count": 16,
      "outputs": []
    },
    {
      "cell_type": "code",
      "source": [
        "%%time\n",
        "\n",
        "ls_patient=df.HADM_ID.unique()\n",
        "          \n",
        "FormName=''\n",
        "\n",
        "ls_Category_Section=[]\n",
        "\n",
        "for i in range(len(ls_patient)):\n",
        "        try:\n",
        "            ls_category=df[(df['HADM_ID']==ls_patient[i] )].category_Inner.dropna().unique().tolist()\n",
        "            \n",
        "            Pi=ls_patient[i]\n",
        "            for j in  range(len(ls_category)):\n",
        "                #FormName=df[(df['HADM_ID']==ls_patient[i] ) & (df['category_Inner']==ls_category[j] )].CATEGORY.unique()\n",
        "                #print(FormName)\n",
        "                cat=ls_category[j]\n",
        "                ls_Category_Section.append(pivot(Pi , cat))\n",
        "        except:     \n",
        "          print(i,ls_patient[i])   \n",
        "\n"
      ],
      "metadata": {
        "id": "8XBys8iHY8qv",
        "outputId": "1a6165b0-0a82-440a-de60-275541b45f23",
        "colab": {
          "base_uri": "https://localhost:8080/"
        }
      },
      "execution_count": 17,
      "outputs": [
        {
          "output_type": "stream",
          "name": "stdout",
          "text": [
            "CPU times: user 56.7 s, sys: 134 ms, total: 56.8 s\n",
            "Wall time: 56.7 s\n"
          ]
        }
      ]
    },
    {
      "cell_type": "code",
      "source": [
        "ls_Category_Section[0]"
      ],
      "metadata": {
        "id": "3FKNY7CObZ0E",
        "outputId": "563b7a5b-67b2-4ea7-d4be-fbf1128d5a59",
        "colab": {
          "base_uri": "https://localhost:8080/"
        }
      },
      "execution_count": 18,
      "outputs": [
        {
          "output_type": "execute_result",
          "data": {
            "text/plain": [
              "[167853.0,\n",
              " 'allergies',\n",
              " ['C0699678', 'C0699678'],\n",
              " ['Flagyl', 'Flagyl'],\n",
              " ['C0699678', 'C0699678']]"
            ]
          },
          "metadata": {},
          "execution_count": 18
        }
      ]
    },
    {
      "cell_type": "code",
      "source": [
        "dt=pd.DataFrame(ls_Category_Section,columns=['HADM_ID','category_Inner','CUI','canonical_name','Neg_CUI'])\n",
        "dt.to_csv('/content/drive/MyDrive/PaperA3/Processed/processed_77.csv')"
      ],
      "metadata": {
        "id": "V8eJCYUqbXzd"
      },
      "execution_count": 19,
      "outputs": []
    },
    {
      "cell_type": "code",
      "source": [
        "ls_patient=dt.HADM_ID.unique()\n",
        "print(\"Number of Patients:  \" + str(len(ls_patient)) + \",   Number of records:  \" + str(len(dt)))"
      ],
      "metadata": {
        "id": "pmTWzzAFZqv5",
        "outputId": "43074d37-5be4-461d-f80b-f06f82319b40",
        "colab": {
          "base_uri": "https://localhost:8080/"
        }
      },
      "execution_count": 21,
      "outputs": [
        {
          "output_type": "stream",
          "name": "stdout",
          "text": [
            "Number of Patients:  2436,   Number of records:  9469\n"
          ]
        }
      ]
    }
  ]
}